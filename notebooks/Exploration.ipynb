{
 "cells": [
  {
   "cell_type": "markdown",
   "metadata": {},
   "source": [
    "#Table of Contents\n",
    "* [Using k=21](#Using-k=21)\n",
    "\t* [Commands for just loading the reference (no diginorm), replaced 'N' with 'A'](#Commands-for-just-loading-the-reference-%28no-diginorm%29,-replaced-'N'-with-'A')\n",
    "\t* [Check alignment quality](#Check-alignment-quality)\n",
    "\t\t* [Bonus: I broke the readaligner!](#Bonus:-I-broke-the-readaligner!)\n",
    "\t* [Loading reads and aligning the reference to it](#Loading-reads-and-aligning-the-reference-to-it)\n",
    "* [Using k=13](#Using-k=13)\n",
    "\t* [Loading ref to graph](#Loading-ref-to-graph)\n",
    "\t* [Load moleculo to graph](#Load-moleculo-to-graph)\n",
    "\t* [Aligning PacBio to moleculo graph](#Aligning-PacBio-to-moleculo-graph)\n",
    "* [Training](#Training)\n",
    "\t* [Problems](#Problems)\n"
   ]
  },
  {
   "cell_type": "code",
   "execution_count": 3,
   "metadata": {
    "collapsed": true
   },
   "outputs": [],
   "source": [
    "%matplotlib inline\n",
    "import pandas as pd\n",
    "import numpy as np\n",
    "import matplotlib.pyplot as plt\n",
    "import seaborn as sns"
   ]
  },
  {
   "cell_type": "code",
   "execution_count": 4,
   "metadata": {
    "collapsed": true
   },
   "outputs": [],
   "source": [
    "from screed.fastq import fastq_iter\n",
    "import gzip"
   ]
  },
  {
   "cell_type": "markdown",
   "metadata": {},
   "source": [
    "# Using k=21"
   ]
  },
  {
   "cell_type": "markdown",
   "metadata": {},
   "source": [
    "- Run `normalize-by-median.py` with cutoff = 1 on the reference\n",
    "   * The ecoli example load reads into counting table and then maps the reference to it. I started through the same route with PacBio, but it required too much memory (I'll try again on HPCC). From the email I understood I should load the reference and then map the reads, but a part of the reference is discarded during diginorm.\n",
    "   * No need to do this, actually cutoff was the trusted parameter on the aligner...\n",
    "- Load the reference into counting table\n",
    "- Used as much memory I had available on the node I was running it (~28G)\n",
    "- I modified `find-variant-by-align-long.py` to only output the header of each alignment.\n",
    "\n",
    "- There are many 'N' and soft-clipped sequences in the reference. Is this an issue?\n",
    "   * Yes, it is. Replaced all 'N' with 'A' on a new file, 'galGal4.fixed.fa.gz'"
   ]
  },
  {
   "cell_type": "code",
   "execution_count": 58,
   "metadata": {
    "collapsed": true
   },
   "outputs": [],
   "source": [
    "bases_in_galGal4 = 1046932099"
   ]
  },
  {
   "cell_type": "markdown",
   "metadata": {},
   "source": [
    "## Commands for just loading the reference (no diginorm), replaced 'N' with 'A'"
   ]
  },
  {
   "cell_type": "code",
   "execution_count": 39,
   "metadata": {
    "collapsed": false,
    "scrolled": true
   },
   "outputs": [
    {
     "name": "stdout",
     "output_type": "stream",
     "text": [
      "wget -SNc ftp://hgdownload.cse.ucsc.edu/goldenPath/galGal4/bigZips/galGal4.fa.gz\r\n",
      "python fix_reference.py galGal4.fa.gz galGal4.fixed.fa.gz\r\n",
      "load-into-counting.py -k 21 -x 7e9 galGal4.fixed.k21.kh galGal4.fixed.fa.gz\r\n",
      "../2015-experimental-graphalign/find-variant-by-align-long.py --trusted 1 galGal4.fixed.k21.kh /home/chick/galGal/inputs/moleculo/LR6000017-DNA_A01-LRAAA-1_LongRead.fastq.gz --variants-out variants-galGal4-fixed.txt > galGal4.fixed.align.out\r\n"
     ]
    }
   ],
   "source": [
    "!cd ../2015-khmer-wok2-vc && make -Bn galGal4.fixed.align.out"
   ]
  },
  {
   "cell_type": "code",
   "execution_count": 40,
   "metadata": {
    "collapsed": false
   },
   "outputs": [
    {
     "name": "stdout",
     "output_type": "stream",
     "text": [
      "27G ../2015-khmer-wok2-vc/galGal4.fixed.k21.kh\n",
      "through galGal4.fixed.fa.gz\n",
      "fp rate estimated to be 0.000\n",
      "\n"
     ]
    }
   ],
   "source": [
    "!ls -sh ../2015-khmer-wok2-vc/galGal4.fixed.k21.kh\n",
    "!cat ../2015-khmer-wok2-vc/galGal4.fixed.k21.kh.info"
   ]
  },
  {
   "cell_type": "markdown",
   "metadata": {},
   "source": [
    "## Check alignment quality"
   ]
  },
  {
   "cell_type": "markdown",
   "metadata": {},
   "source": [
    "- It's attrocious. Not really, I was just running it wrong. Using `--trusted 1` alignments are actually very good!"
   ]
  },
  {
   "cell_type": "code",
   "execution_count": 17,
   "metadata": {
    "collapsed": false
   },
   "outputs": [],
   "source": [
    "def check_align(align_out, ranges=[(0, 10), (0, 1, .1)], graph=\"galGal4\", query=\"moleculo\"):\n",
    "    reads = {}\n",
    "\n",
    "    with open(align_out, 'r') as f:\n",
    "        for line in f:\n",
    "            if '%' in line:\n",
    "                name, start, end, span, percent = line.strip().split()\n",
    "                reads[name] = {'start': int(start), 'end': int(end), 'span': int(span), 'percent': float(percent[:-1])}\n",
    "\n",
    "    data = pd.DataFrame.from_dict(reads).T\n",
    "    \n",
    "    plt.figure()\n",
    "    plt.title(\"Graph: {0}\\nQuery: {1}\".format(graph, query))\n",
    "    plt.xlabel(\"% of the query's longest span aligned to graph\")\n",
    "    plt.ylabel(\"Number of query sequences\")\n",
    "    plt.xlim(0, 100)\n",
    "    data['percent'].hist(bins=np.linspace(0, 100, 11))\n",
    "    data['percent'].hist(bins=np.linspace(*ranges[0]))\n",
    "\n",
    "    plt.figure()\n",
    "    plt.title(\"Graph: {0}\\nQuery: {1}\".format(graph, query))\n",
    "    plt.xlabel(\"% of the query's longest span aligned to graph\")\n",
    "    plt.ylabel(\"Number of query sequences\")\n",
    "    plt.xlim(ranges[0][0], 100)\n",
    "    data['percent'].hist(bins=np.linspace(*ranges[0]))\n",
    "    data['percent'].hist(bins=np.linspace(*ranges[1]))\n",
    "    \n",
    "    return data"
   ]
  },
  {
   "cell_type": "code",
   "execution_count": 18,
   "metadata": {
    "collapsed": false
   },
   "outputs": [
    {
     "data": {
      "image/png": "[encoded data removed]",
      "text/plain": [
       "<matplotlib.figure.Figure at 0x7f88f9e98350>"
      ]
     },
     "metadata": {},
     "output_type": "display_data"
    },
    {
     "data": {
      "image/png": "[encoded data removed]",
      "text/plain": [
       "<matplotlib.figure.Figure at 0x7f88d291ad90>"
      ]
     },
     "metadata": {},
     "output_type": "display_data"
    }
   ],
   "source": [
    "galGal4_k21 = check_align('../2015-khmer-wok2-vc/galGal4.fixed.align.out',\n",
    "                          ranges=[(90, 100, 11), (99, 100, 11)],\n",
    "                          graph=\"galGa4\",\n",
    "                          query=\"moleculo\")"
   ]
  },
  {
   "cell_type": "code",
   "execution_count": 10,
   "metadata": {
    "collapsed": false
   },
   "outputs": [
    {
     "data": {
      "text/plain": [
       "end        90808\n",
       "percent    90808\n",
       "span       90808\n",
       "start      90808\n",
       "dtype: int64"
      ]
     },
     "execution_count": 10,
     "metadata": {},
     "output_type": "execute_result"
    }
   ],
   "source": [
    "galGal4_k21[galGal4_k21['percent'] > 90].count()"
   ]
  },
  {
   "cell_type": "code",
   "execution_count": 11,
   "metadata": {
    "collapsed": false
   },
   "outputs": [
    {
     "data": {
      "text/html": [
       "<div style=\"max-height:1000px;max-width:1500px;overflow:auto;\">\n",
       "<table border=\"1\" class=\"dataframe\">\n",
       "  <thead>\n",
       "    <tr style=\"text-align: right;\">\n",
       "      <th></th>\n",
       "      <th>end</th>\n",
       "      <th>percent</th>\n",
       "      <th>span</th>\n",
       "      <th>start</th>\n",
       "    </tr>\n",
       "  </thead>\n",
       "  <tbody>\n",
       "    <tr>\n",
       "      <th>Read_47161-Barcode=BC086-PIPELINE=Develop_T40</th>\n",
       "      <td>8626</td>\n",
       "      <td>2.017</td>\n",
       "      <td>8452</td>\n",
       "      <td>174</td>\n",
       "    </tr>\n",
       "    <tr>\n",
       "      <th>Read_71097-Barcode=BC131-PIPELINE=Develop_T40</th>\n",
       "      <td>8034</td>\n",
       "      <td>4.630</td>\n",
       "      <td>7662</td>\n",
       "      <td>372</td>\n",
       "    </tr>\n",
       "    <tr>\n",
       "      <th>Read_38590-Barcode=BC071-PIPELINE=Develop_T40</th>\n",
       "      <td>7533</td>\n",
       "      <td>1.858</td>\n",
       "      <td>7393</td>\n",
       "      <td>140</td>\n",
       "    </tr>\n",
       "    <tr>\n",
       "      <th>Read_46369-Barcode=BC085-PIPELINE=Develop_T40</th>\n",
       "      <td>8255</td>\n",
       "      <td>12.707</td>\n",
       "      <td>7206</td>\n",
       "      <td>1049</td>\n",
       "    </tr>\n",
       "    <tr>\n",
       "      <th>Read_24604-Barcode=BC046-PIPELINE=Develop_T40</th>\n",
       "      <td>8037</td>\n",
       "      <td>29.737</td>\n",
       "      <td>5647</td>\n",
       "      <td>2390</td>\n",
       "    </tr>\n",
       "    <tr>\n",
       "      <th>Read_32528-Barcode=BC061-PIPELINE=Develop_T40</th>\n",
       "      <td>10015</td>\n",
       "      <td>46.980</td>\n",
       "      <td>5310</td>\n",
       "      <td>4705</td>\n",
       "    </tr>\n",
       "    <tr>\n",
       "      <th>Read_38353-Barcode=BC071-PIPELINE=Develop_T40</th>\n",
       "      <td>6515</td>\n",
       "      <td>24.574</td>\n",
       "      <td>4914</td>\n",
       "      <td>1601</td>\n",
       "    </tr>\n",
       "    <tr>\n",
       "      <th>Read_65178-Barcode=BC120-PIPELINE=Develop_T40</th>\n",
       "      <td>4555</td>\n",
       "      <td>1.493</td>\n",
       "      <td>4487</td>\n",
       "      <td>68</td>\n",
       "    </tr>\n",
       "    <tr>\n",
       "      <th>Read_25574-Barcode=BC048-PIPELINE=Develop_T40</th>\n",
       "      <td>7410</td>\n",
       "      <td>43.293</td>\n",
       "      <td>4202</td>\n",
       "      <td>3208</td>\n",
       "    </tr>\n",
       "    <tr>\n",
       "      <th>Read_5729-Barcode=BC011-PIPELINE=Develop_T40</th>\n",
       "      <td>6373</td>\n",
       "      <td>34.819</td>\n",
       "      <td>4154</td>\n",
       "      <td>2219</td>\n",
       "    </tr>\n",
       "  </tbody>\n",
       "</table>\n",
       "</div>"
      ],
      "text/plain": [
       "                                                 end  percent  span  start\n",
       "Read_47161-Barcode=BC086-PIPELINE=Develop_T40   8626    2.017  8452    174\n",
       "Read_71097-Barcode=BC131-PIPELINE=Develop_T40   8034    4.630  7662    372\n",
       "Read_38590-Barcode=BC071-PIPELINE=Develop_T40   7533    1.858  7393    140\n",
       "Read_46369-Barcode=BC085-PIPELINE=Develop_T40   8255   12.707  7206   1049\n",
       "Read_24604-Barcode=BC046-PIPELINE=Develop_T40   8037   29.737  5647   2390\n",
       "Read_32528-Barcode=BC061-PIPELINE=Develop_T40  10015   46.980  5310   4705\n",
       "Read_38353-Barcode=BC071-PIPELINE=Develop_T40   6515   24.574  4914   1601\n",
       "Read_65178-Barcode=BC120-PIPELINE=Develop_T40   4555    1.493  4487     68\n",
       "Read_25574-Barcode=BC048-PIPELINE=Develop_T40   7410   43.293  4202   3208\n",
       "Read_5729-Barcode=BC011-PIPELINE=Develop_T40    6373   34.819  4154   2219"
      ]
     },
     "execution_count": 11,
     "metadata": {},
     "output_type": "execute_result"
    }
   ],
   "source": [
    "galGal4_k21.sort('span', ascending=False).head(10)"
   ]
  },
  {
   "cell_type": "code",
   "execution_count": 59,
   "metadata": {
    "collapsed": false
   },
   "outputs": [
    {
     "data": {
      "text/plain": [
       "717135.0"
      ]
     },
     "execution_count": 59,
     "metadata": {},
     "output_type": "execute_result"
    }
   ],
   "source": [
    "bases_mapped = galGal4_k21['span'].sum()\n",
    "bases_mapped"
   ]
  },
  {
   "cell_type": "code",
   "execution_count": 60,
   "metadata": {
    "collapsed": false
   },
   "outputs": [
    {
     "data": {
      "text/plain": [
       "0.00068498711681969353"
      ]
     },
     "execution_count": 60,
     "metadata": {},
     "output_type": "execute_result"
    }
   ],
   "source": [
    "bases_mapped / bases_in_galGal4"
   ]
  },
  {
   "cell_type": "markdown",
   "metadata": {},
   "source": [
    "### Bonus: I broke the readaligner!"
   ]
  },
  {
   "cell_type": "markdown",
   "metadata": {},
   "source": [
    "`find-variant-by-align-long.py` segfaulted, memory consumption slowly but steadily increases (about half the moleculo reads were processed for the previous figures).\n",
    "\n",
    "This problem was fixed by decrementing the refcount in align_forward, which was leaking memory."
   ]
  },
  {
   "cell_type": "markdown",
   "metadata": {},
   "source": [
    "## Loading reads and aligning the reference to it"
   ]
  },
  {
   "cell_type": "markdown",
   "metadata": {},
   "source": [
    "- Used QP's functions to find the approximate memory needed (after counting unique kmers with HLL).\n",
    "   * Estimated unique kmers: 904.369.109\n",
    "   * Expected error rate: 0.01\n",
    "   * Calculated parameters:\n",
    "     - Number of tables: 6\n",
    "     - Memory per table: 2e9\n",
    " - Tested with `--trusted 5`\n",
    " - There are ~15k contigs in galGal4, more than 10k align >90%\n",
    " - <span style=\"color:red\">Needs attention</span>: I was considering 'percent' for check if it was working, but it means something different than I expected: \"percent matched\" means \"percent of the span matched\", where span doesn't imply start to end of read."
   ]
  },
  {
   "cell_type": "code",
   "execution_count": 22,
   "metadata": {
    "collapsed": false
   },
   "outputs": [
    {
     "name": "stdout",
     "output_type": "stream",
     "text": [
      "load-into-counting.py -k 21 -N 6 -x 2e9 moleculo.k21.kh /mnt/research/ged/irberlui/biodata/galGal/inputs/moleculo/LR6000017-DNA_A01-LRAAA-1_LongRead_500_1499nt.fastq.gz /mnt/research/ged/irberlui/biodata/galGal/inputs/moleculo/LR6000017-DNA_A01-LRAAA-1_LongRead.fastq.gz /mnt/research/ged/irberlui/biodata/galGal/inputs/moleculo/LR6000017-DNA_A01-LRAAA-2_LongRead_500_1499nt.fastq.gz /mnt/research/ged/irberlui/biodata/galGal/inputs/moleculo/LR6000017-DNA_A01-LRAAA-2_LongRead.fastq.gz /mnt/research/ged/irberlui/biodata/galGal/inputs/moleculo/LR6000017-DNA_A01-LRAAA-3_LongRead_500_1499nt.fastq.gz /mnt/research/ged/irberlui/biodata/galGal/inputs/moleculo/LR6000017-DNA_A01-LRAAA-3_LongRead.fastq.gz /mnt/research/ged/irberlui/biodata/galGal/inputs/moleculo/LR6000017-DNA_A01-LRAAA-4_LongRead_500_1499nt.fastq.gz /mnt/research/ged/irberlui/biodata/galGal/inputs/moleculo/LR6000017-DNA_A01-LRAAA-4_LongRead.fastq.gz /mnt/research/ged/irberlui/biodata/galGal/inputs/moleculo/LR6000017-DNA_A01-LRAAA-5_LongRead_500_1499nt.fastq.gz /mnt/research/ged/irberlui/biodata/galGal/inputs/moleculo/LR6000017-DNA_A01-LRAAA-5_LongRead.fastq.gz\r\n",
      "wget -SNc ftp://hgdownload.cse.ucsc.edu/goldenPath/galGal4/bigZips/galGal4.fa.gz\r\n",
      "python fix_reference.py galGal4.fa.gz galGal4.fixed.fa.gz\r\n",
      "../2015-experimental-graphalign/find-variant-by-align-long.py --trusted 5 moleculo.k21.kh galGal4.fixed.fa.gz --variants-out variants-galGal4-fixed.txt > moleculo.align.out\r\n"
     ]
    }
   ],
   "source": [
    "!cd ../2015-khmer-wok2-vc && make -Bn moleculo.align.out"
   ]
  },
  {
   "cell_type": "code",
   "execution_count": 38,
   "metadata": {
    "collapsed": false
   },
   "outputs": [
    {
     "name": "stdout",
     "output_type": "stream",
     "text": [
      "7.7G ../2015-khmer-wok2-vc/moleculo.k21.kh\n",
      "through /mnt/research/ged/irberlui/biodata/galGal/inputs/moleculo/LR6000017-DNA_A01-LRAAA-1_LongRead_500_1499nt.fastq.gz\n",
      "through /mnt/research/ged/irberlui/biodata/galGal/inputs/moleculo/LR6000017-DNA_A01-LRAAA-1_LongRead.fastq.gz\n",
      "through /mnt/research/ged/irberlui/biodata/galGal/inputs/moleculo/LR6000017-DNA_A01-LRAAA-2_LongRead_500_1499nt.fastq.gz\n",
      "through /mnt/research/ged/irberlui/biodata/galGal/inputs/moleculo/LR6000017-DNA_A01-LRAAA-2_LongRead.fastq.gz\n",
      "through /mnt/research/ged/irberlui/biodata/galGal/inputs/moleculo/LR6000017-DNA_A01-LRAAA-3_LongRead_500_1499nt.fastq.gz\n",
      "through /mnt/research/ged/irberlui/biodata/galGal/inputs/moleculo/LR6000017-DNA_A01-LRAAA-3_LongRead.fastq.gz\n",
      "through /mnt/research/ged/irberlui/biodata/galGal/inputs/moleculo/LR6000017-DNA_A01-LRAAA-4_LongRead_500_1499nt.fastq.gz\n",
      "through /mnt/research/ged/irberlui/biodata/galGal/inputs/moleculo/LR6000017-DNA_A01-LRAAA-4_LongRead.fastq.gz\n",
      "through /mnt/research/ged/irberlui/biodata/galGal/inputs/moleculo/LR6000017-DNA_A01-LRAAA-5_LongRead_500_1499nt.fastq.gz\n",
      "through /mnt/research/ged/irberlui/biodata/galGal/inputs/moleculo/LR6000017-DNA_A01-LRAAA-5_LongRead.fastq.gz\n",
      "fp rate estimated to be 0.002\n",
      "\n"
     ]
    }
   ],
   "source": [
    "!ls -sh ../2015-khmer-wok2-vc/moleculo.k21.kh\n",
    "!cat ../2015-khmer-wok2-vc/moleculo.k21.kh.info"
   ]
  },
  {
   "cell_type": "code",
   "execution_count": 19,
   "metadata": {
    "collapsed": false
   },
   "outputs": [
    {
     "data": {
      "image/png": "[encoded data removed]",
      "text/plain": [
       "<matplotlib.figure.Figure at 0x7f88d236ed90>"
      ]
     },
     "metadata": {},
     "output_type": "display_data"
    },
    {
     "data": {
      "image/png": "[encoded data removed]",
      "text/plain": [
       "<matplotlib.figure.Figure at 0x7f88f876e990>"
      ]
     },
     "metadata": {},
     "output_type": "display_data"
    }
   ],
   "source": [
    "moleculo_k21 = check_align('../2015-khmer-wok2-vc/moleculo.align.out',\n",
    "                           ranges=[(90, 100, 11), (99, 100, 11)],\n",
    "                           graph=\"moleculo\",\n",
    "                           query=\"galGal4\")"
   ]
  },
  {
   "cell_type": "code",
   "execution_count": 64,
   "metadata": {
    "collapsed": false
   },
   "outputs": [
    {
     "data": {
      "text/plain": [
       "end        10604\n",
       "percent    10604\n",
       "span       10604\n",
       "start      10604\n",
       "dtype: int64"
      ]
     },
     "execution_count": 64,
     "metadata": {},
     "output_type": "execute_result"
    }
   ],
   "source": [
    "moleculo_k21[moleculo_k21['percent'] > 90].count()"
   ]
  },
  {
   "cell_type": "code",
   "execution_count": 65,
   "metadata": {
    "collapsed": false
   },
   "outputs": [
    {
     "data": {
      "text/html": [
       "<div style=\"max-height:1000px;max-width:1500px;overflow:auto;\">\n",
       "<table border=\"1\" class=\"dataframe\">\n",
       "  <thead>\n",
       "    <tr style=\"text-align: right;\">\n",
       "      <th></th>\n",
       "      <th>end</th>\n",
       "      <th>percent</th>\n",
       "      <th>span</th>\n",
       "      <th>start</th>\n",
       "    </tr>\n",
       "  </thead>\n",
       "  <tbody>\n",
       "    <tr>\n",
       "      <th>chr1</th>\n",
       "      <td>195284953</td>\n",
       "      <td>86.874</td>\n",
       "      <td>25632877</td>\n",
       "      <td>169652076</td>\n",
       "    </tr>\n",
       "    <tr>\n",
       "      <th>chrZ</th>\n",
       "      <td>82367875</td>\n",
       "      <td>71.042</td>\n",
       "      <td>23851812</td>\n",
       "      <td>58516063</td>\n",
       "    </tr>\n",
       "    <tr>\n",
       "      <th>chr2</th>\n",
       "      <td>148816091</td>\n",
       "      <td>87.133</td>\n",
       "      <td>19147781</td>\n",
       "      <td>129668310</td>\n",
       "    </tr>\n",
       "    <tr>\n",
       "      <th>chr3</th>\n",
       "      <td>110451292</td>\n",
       "      <td>86.989</td>\n",
       "      <td>14370922</td>\n",
       "      <td>96080370</td>\n",
       "    </tr>\n",
       "    <tr>\n",
       "      <th>chr4</th>\n",
       "      <td>90219931</td>\n",
       "      <td>85.835</td>\n",
       "      <td>12779290</td>\n",
       "      <td>77440641</td>\n",
       "    </tr>\n",
       "    <tr>\n",
       "      <th>chr5</th>\n",
       "      <td>59582583</td>\n",
       "      <td>84.961</td>\n",
       "      <td>8960409</td>\n",
       "      <td>50622174</td>\n",
       "    </tr>\n",
       "    <tr>\n",
       "      <th>chr7</th>\n",
       "      <td>36246061</td>\n",
       "      <td>85.985</td>\n",
       "      <td>5079957</td>\n",
       "      <td>31166104</td>\n",
       "    </tr>\n",
       "    <tr>\n",
       "      <th>chr6</th>\n",
       "      <td>34952711</td>\n",
       "      <td>85.929</td>\n",
       "      <td>4918052</td>\n",
       "      <td>30034659</td>\n",
       "    </tr>\n",
       "    <tr>\n",
       "      <th>chr8</th>\n",
       "      <td>28768056</td>\n",
       "      <td>84.042</td>\n",
       "      <td>4590887</td>\n",
       "      <td>24177169</td>\n",
       "    </tr>\n",
       "    <tr>\n",
       "      <th>chr9</th>\n",
       "      <td>23442432</td>\n",
       "      <td>84.404</td>\n",
       "      <td>3656106</td>\n",
       "      <td>19786326</td>\n",
       "    </tr>\n",
       "    <tr>\n",
       "      <th>chr10</th>\n",
       "      <td>19912165</td>\n",
       "      <td>82.053</td>\n",
       "      <td>3573583</td>\n",
       "      <td>16338582</td>\n",
       "    </tr>\n",
       "    <tr>\n",
       "      <th>chr11</th>\n",
       "      <td>19402455</td>\n",
       "      <td>82.188</td>\n",
       "      <td>3455996</td>\n",
       "      <td>15946459</td>\n",
       "    </tr>\n",
       "    <tr>\n",
       "      <th>chr13</th>\n",
       "      <td>17760811</td>\n",
       "      <td>81.326</td>\n",
       "      <td>3316614</td>\n",
       "      <td>14444197</td>\n",
       "    </tr>\n",
       "    <tr>\n",
       "      <th>chr14</th>\n",
       "      <td>15162549</td>\n",
       "      <td>79.019</td>\n",
       "      <td>3181194</td>\n",
       "      <td>11981355</td>\n",
       "    </tr>\n",
       "    <tr>\n",
       "      <th>chr12</th>\n",
       "      <td>19897565</td>\n",
       "      <td>84.658</td>\n",
       "      <td>3052697</td>\n",
       "      <td>16844868</td>\n",
       "    </tr>\n",
       "    <tr>\n",
       "      <th>chr20</th>\n",
       "      <td>14303030</td>\n",
       "      <td>78.838</td>\n",
       "      <td>3026739</td>\n",
       "      <td>11276291</td>\n",
       "    </tr>\n",
       "    <tr>\n",
       "      <th>chr17</th>\n",
       "      <td>10454679</td>\n",
       "      <td>74.222</td>\n",
       "      <td>2695017</td>\n",
       "      <td>7759662</td>\n",
       "    </tr>\n",
       "    <tr>\n",
       "      <th>chr15</th>\n",
       "      <td>12657176</td>\n",
       "      <td>79.200</td>\n",
       "      <td>2632710</td>\n",
       "      <td>10024466</td>\n",
       "    </tr>\n",
       "    <tr>\n",
       "      <th>chr18</th>\n",
       "      <td>11220127</td>\n",
       "      <td>77.564</td>\n",
       "      <td>2517331</td>\n",
       "      <td>8702796</td>\n",
       "    </tr>\n",
       "    <tr>\n",
       "      <th>chr19</th>\n",
       "      <td>9983666</td>\n",
       "      <td>76.920</td>\n",
       "      <td>2304249</td>\n",
       "      <td>7679417</td>\n",
       "    </tr>\n",
       "  </tbody>\n",
       "</table>\n",
       "</div>"
      ],
      "text/plain": [
       "             end  percent      span      start\n",
       "chr1   195284953   86.874  25632877  169652076\n",
       "chrZ    82367875   71.042  23851812   58516063\n",
       "chr2   148816091   87.133  19147781  129668310\n",
       "chr3   110451292   86.989  14370922   96080370\n",
       "chr4    90219931   85.835  12779290   77440641\n",
       "chr5    59582583   84.961   8960409   50622174\n",
       "chr7    36246061   85.985   5079957   31166104\n",
       "chr6    34952711   85.929   4918052   30034659\n",
       "chr8    28768056   84.042   4590887   24177169\n",
       "chr9    23442432   84.404   3656106   19786326\n",
       "chr10   19912165   82.053   3573583   16338582\n",
       "chr11   19402455   82.188   3455996   15946459\n",
       "chr13   17760811   81.326   3316614   14444197\n",
       "chr14   15162549   79.019   3181194   11981355\n",
       "chr12   19897565   84.658   3052697   16844868\n",
       "chr20   14303030   78.838   3026739   11276291\n",
       "chr17   10454679   74.222   2695017    7759662\n",
       "chr15   12657176   79.200   2632710   10024466\n",
       "chr18   11220127   77.564   2517331    8702796\n",
       "chr19    9983666   76.920   2304249    7679417"
      ]
     },
     "execution_count": 65,
     "metadata": {},
     "output_type": "execute_result"
    }
   ],
   "source": [
    "moleculo_k21.sort('span', ascending=False).head(20)"
   ]
  },
  {
   "cell_type": "markdown",
   "metadata": {},
   "source": [
    "# Using k=13"
   ]
  },
  {
   "cell_type": "markdown",
   "metadata": {},
   "source": [
    "## Loading ref to graph"
   ]
  },
  {
   "cell_type": "code",
   "execution_count": 55,
   "metadata": {
    "collapsed": false
   },
   "outputs": [
    {
     "name": "stdout",
     "output_type": "stream",
     "text": [
      "wget -SNc ftp://hgdownload.cse.ucsc.edu/goldenPath/galGal4/bigZips/galGal4.fa.gz\r\n",
      "python fix_reference.py galGal4.fa.gz galGal4.fixed.fa.gz\r\n",
      "load-into-counting.py -k 13 -N 6 -x 5e7 galGal4.fixed.k13.kh galGal4.fixed.fa.gz\r\n",
      "../2015-experimental-graphalign/find-variant-by-align-long.py --trusted 1 galGal4.fixed.k13.kh /mnt/research/ged/irberlui/biodata/galGal/inputs/moleculo/LR6000017-DNA_A01-LRAAA-1_LongRead.fastq.gz --variants-out variants-galGal4-fixed.txt > galGal4.fixed.k13.align.out\r\n"
     ]
    }
   ],
   "source": [
    "!cd ../2015-khmer-wok2-vc && make -Bn galGal4.fixed.k13.align.out"
   ]
  },
  {
   "cell_type": "code",
   "execution_count": 91,
   "metadata": {
    "collapsed": false
   },
   "outputs": [
    {
     "name": "stdout",
     "output_type": "stream",
     "text": [
      "248M ../2015-khmer-wok2-vc/galGal4.fixed.k13.kh\n",
      "through galGal4.fixed.fa.gz\n",
      "fp rate estimated to be 0.042\n",
      "\n"
     ]
    }
   ],
   "source": [
    "!ls -sh ../2015-khmer-wok2-vc/galGal4.fixed.k13.kh\n",
    "!cat ../2015-khmer-wok2-vc/galGal4.fixed.k13.kh.info"
   ]
  },
  {
   "cell_type": "code",
   "execution_count": 20,
   "metadata": {
    "collapsed": false
   },
   "outputs": [
    {
     "data": {
      "image/png": "[encoded data removed]",
      "text/plain": [
       "<matplotlib.figure.Figure at 0x7f88dc3d7810>"
      ]
     },
     "metadata": {},
     "output_type": "display_data"
    },
    {
     "data": {
      "image/png": "[encoded data removed]",
      "text/plain": [
       "<matplotlib.figure.Figure at 0x7f88d441fd90>"
      ]
     },
     "metadata": {},
     "output_type": "display_data"
    }
   ],
   "source": [
    "galGal4_k13 = check_align('../2015-khmer-wok2-vc/galGal4.fixed.k13.align.out',\n",
    "                          ranges=[(90, 100, 11), (98, 100, 11)],\n",
    "                          graph=\"galGa4\",\n",
    "                          query=\"moleculo\")"
   ]
  },
  {
   "cell_type": "code",
   "execution_count": 69,
   "metadata": {
    "collapsed": false
   },
   "outputs": [
    {
     "data": {
      "text/plain": [
       "end        201746\n",
       "percent    201746\n",
       "span       201746\n",
       "start      201746\n",
       "dtype: int64"
      ]
     },
     "execution_count": 69,
     "metadata": {},
     "output_type": "execute_result"
    }
   ],
   "source": [
    "galGal4_k13[galGal4_k13['percent'] > 90].count()"
   ]
  },
  {
   "cell_type": "code",
   "execution_count": 70,
   "metadata": {
    "collapsed": false
   },
   "outputs": [
    {
     "data": {
      "text/html": [
       "<div style=\"max-height:1000px;max-width:1500px;overflow:auto;\">\n",
       "<table border=\"1\" class=\"dataframe\">\n",
       "  <thead>\n",
       "    <tr style=\"text-align: right;\">\n",
       "      <th></th>\n",
       "      <th>end</th>\n",
       "      <th>percent</th>\n",
       "      <th>span</th>\n",
       "      <th>start</th>\n",
       "    </tr>\n",
       "  </thead>\n",
       "  <tbody>\n",
       "    <tr>\n",
       "      <th>Read_161742-Barcode=BC306-PIPELINE=Develop_T40</th>\n",
       "      <td>8685</td>\n",
       "      <td>95.797</td>\n",
       "      <td>365</td>\n",
       "      <td>8320</td>\n",
       "    </tr>\n",
       "    <tr>\n",
       "      <th>Read_71097-Barcode=BC131-PIPELINE=Develop_T40</th>\n",
       "      <td>8034</td>\n",
       "      <td>97.772</td>\n",
       "      <td>179</td>\n",
       "      <td>7855</td>\n",
       "    </tr>\n",
       "    <tr>\n",
       "      <th>Read_47161-Barcode=BC086-PIPELINE=Develop_T40</th>\n",
       "      <td>8626</td>\n",
       "      <td>98.354</td>\n",
       "      <td>142</td>\n",
       "      <td>8484</td>\n",
       "    </tr>\n",
       "    <tr>\n",
       "      <th>Read_152771-Barcode=BC288-PIPELINE=Develop_T40</th>\n",
       "      <td>10553</td>\n",
       "      <td>98.929</td>\n",
       "      <td>113</td>\n",
       "      <td>10440</td>\n",
       "    </tr>\n",
       "    <tr>\n",
       "      <th>Read_32528-Barcode=BC061-PIPELINE=Develop_T40</th>\n",
       "      <td>10012</td>\n",
       "      <td>98.891</td>\n",
       "      <td>111</td>\n",
       "      <td>9901</td>\n",
       "    </tr>\n",
       "    <tr>\n",
       "      <th>Read_38590-Barcode=BC071-PIPELINE=Develop_T40</th>\n",
       "      <td>7533</td>\n",
       "      <td>98.566</td>\n",
       "      <td>108</td>\n",
       "      <td>7425</td>\n",
       "    </tr>\n",
       "    <tr>\n",
       "      <th>Read_16174-Barcode=BC031-PIPELINE=Develop_T40</th>\n",
       "      <td>10026</td>\n",
       "      <td>98.933</td>\n",
       "      <td>107</td>\n",
       "      <td>9919</td>\n",
       "    </tr>\n",
       "    <tr>\n",
       "      <th>Read_84214-Barcode=BC157-PIPELINE=Develop_T40</th>\n",
       "      <td>9065</td>\n",
       "      <td>98.820</td>\n",
       "      <td>107</td>\n",
       "      <td>8958</td>\n",
       "    </tr>\n",
       "    <tr>\n",
       "      <th>Read_158314-Barcode=BC299-PIPELINE=Develop_T40</th>\n",
       "      <td>10875</td>\n",
       "      <td>99.034</td>\n",
       "      <td>105</td>\n",
       "      <td>10770</td>\n",
       "    </tr>\n",
       "    <tr>\n",
       "      <th>Read_107859-Barcode=BC202-PIPELINE=Develop_T40</th>\n",
       "      <td>11259</td>\n",
       "      <td>99.076</td>\n",
       "      <td>104</td>\n",
       "      <td>11155</td>\n",
       "    </tr>\n",
       "  </tbody>\n",
       "</table>\n",
       "</div>"
      ],
      "text/plain": [
       "                                                  end  percent  span  start\n",
       "Read_161742-Barcode=BC306-PIPELINE=Develop_T40   8685   95.797   365   8320\n",
       "Read_71097-Barcode=BC131-PIPELINE=Develop_T40    8034   97.772   179   7855\n",
       "Read_47161-Barcode=BC086-PIPELINE=Develop_T40    8626   98.354   142   8484\n",
       "Read_152771-Barcode=BC288-PIPELINE=Develop_T40  10553   98.929   113  10440\n",
       "Read_32528-Barcode=BC061-PIPELINE=Develop_T40   10012   98.891   111   9901\n",
       "Read_38590-Barcode=BC071-PIPELINE=Develop_T40    7533   98.566   108   7425\n",
       "Read_16174-Barcode=BC031-PIPELINE=Develop_T40   10026   98.933   107   9919\n",
       "Read_84214-Barcode=BC157-PIPELINE=Develop_T40    9065   98.820   107   8958\n",
       "Read_158314-Barcode=BC299-PIPELINE=Develop_T40  10875   99.034   105  10770\n",
       "Read_107859-Barcode=BC202-PIPELINE=Develop_T40  11259   99.076   104  11155"
      ]
     },
     "execution_count": 70,
     "metadata": {},
     "output_type": "execute_result"
    }
   ],
   "source": [
    "galGal4_k13.sort('span', ascending=False).head(10)"
   ]
  },
  {
   "cell_type": "code",
   "execution_count": 71,
   "metadata": {
    "collapsed": false
   },
   "outputs": [
    {
     "data": {
      "text/plain": [
       "5113009.0"
      ]
     },
     "execution_count": 71,
     "metadata": {},
     "output_type": "execute_result"
    }
   ],
   "source": [
    "bases_mapped = galGal4_k13['span'].sum()\n",
    "bases_mapped"
   ]
  },
  {
   "cell_type": "code",
   "execution_count": 72,
   "metadata": {
    "collapsed": false
   },
   "outputs": [
    {
     "data": {
      "text/plain": [
       "0.0048838019245792562"
      ]
     },
     "execution_count": 72,
     "metadata": {},
     "output_type": "execute_result"
    }
   ],
   "source": [
    "bases_mapped / bases_in_galGal4"
   ]
  },
  {
   "cell_type": "markdown",
   "metadata": {},
   "source": [
    "## Load moleculo to graph"
   ]
  },
  {
   "cell_type": "code",
   "execution_count": 49,
   "metadata": {
    "collapsed": false
   },
   "outputs": [
    {
     "name": "stdout",
     "output_type": "stream",
     "text": [
      "load-into-counting.py -k 13 -N 6 -x 5e7 moleculo.k13.kh /mnt/research/ged/irberlui/biodata/galGal/inputs/moleculo/LR6000017-DNA_A01-LRAAA-1_LongRead_500_1499nt.fastq.gz /mnt/research/ged/irberlui/biodata/galGal/inputs/moleculo/LR6000017-DNA_A01-LRAAA-1_LongRead.fastq.gz /mnt/research/ged/irberlui/biodata/galGal/inputs/moleculo/LR6000017-DNA_A01-LRAAA-2_LongRead_500_1499nt.fastq.gz /mnt/research/ged/irberlui/biodata/galGal/inputs/moleculo/LR6000017-DNA_A01-LRAAA-2_LongRead.fastq.gz /mnt/research/ged/irberlui/biodata/galGal/inputs/moleculo/LR6000017-DNA_A01-LRAAA-3_LongRead_500_1499nt.fastq.gz /mnt/research/ged/irberlui/biodata/galGal/inputs/moleculo/LR6000017-DNA_A01-LRAAA-3_LongRead.fastq.gz /mnt/research/ged/irberlui/biodata/galGal/inputs/moleculo/LR6000017-DNA_A01-LRAAA-4_LongRead_500_1499nt.fastq.gz /mnt/research/ged/irberlui/biodata/galGal/inputs/moleculo/LR6000017-DNA_A01-LRAAA-4_LongRead.fastq.gz /mnt/research/ged/irberlui/biodata/galGal/inputs/moleculo/LR6000017-DNA_A01-LRAAA-5_LongRead_500_1499nt.fastq.gz /mnt/research/ged/irberlui/biodata/galGal/inputs/moleculo/LR6000017-DNA_A01-LRAAA-5_LongRead.fastq.gz\r\n",
      "wget -SNc ftp://hgdownload.cse.ucsc.edu/goldenPath/galGal4/bigZips/galGal4.fa.gz\r\n",
      "python fix_reference.py galGal4.fa.gz galGal4.fixed.fa.gz\r\n",
      "../2015-experimental-graphalign/find-variant-by-align-long.py --trusted 5 moleculo.k13.kh galGal4.fixed.fa.gz --variants-out variants-galGal4-fixed.txt > moleculo.k13.align.out\r\n"
     ]
    }
   ],
   "source": [
    "!cd ../2015-khmer-wok2-vc && make -Bn moleculo.k13.align.out"
   ]
  },
  {
   "cell_type": "code",
   "execution_count": 50,
   "metadata": {
    "collapsed": false
   },
   "outputs": [
    {
     "name": "stdout",
     "output_type": "stream",
     "text": [
      "280M ../2015-khmer-wok2-vc/moleculo.k13.kh\n",
      "through /mnt/research/ged/irberlui/biodata/galGal/inputs/moleculo/LR6000017-DNA_A01-LRAAA-1_LongRead_500_1499nt.fastq.gz\n",
      "through /mnt/research/ged/irberlui/biodata/galGal/inputs/moleculo/LR6000017-DNA_A01-LRAAA-1_LongRead.fastq.gz\n",
      "through /mnt/research/ged/irberlui/biodata/galGal/inputs/moleculo/LR6000017-DNA_A01-LRAAA-2_LongRead_500_1499nt.fastq.gz\n",
      "through /mnt/research/ged/irberlui/biodata/galGal/inputs/moleculo/LR6000017-DNA_A01-LRAAA-2_LongRead.fastq.gz\n",
      "through /mnt/research/ged/irberlui/biodata/galGal/inputs/moleculo/LR6000017-DNA_A01-LRAAA-3_LongRead_500_1499nt.fastq.gz\n",
      "through /mnt/research/ged/irberlui/biodata/galGal/inputs/moleculo/LR6000017-DNA_A01-LRAAA-3_LongRead.fastq.gz\n",
      "through /mnt/research/ged/irberlui/biodata/galGal/inputs/moleculo/LR6000017-DNA_A01-LRAAA-4_LongRead_500_1499nt.fastq.gz\n",
      "through /mnt/research/ged/irberlui/biodata/galGal/inputs/moleculo/LR6000017-DNA_A01-LRAAA-4_LongRead.fastq.gz\n",
      "through /mnt/research/ged/irberlui/biodata/galGal/inputs/moleculo/LR6000017-DNA_A01-LRAAA-5_LongRead_500_1499nt.fastq.gz\n",
      "through /mnt/research/ged/irberlui/biodata/galGal/inputs/moleculo/LR6000017-DNA_A01-LRAAA-5_LongRead.fastq.gz\n",
      "fp rate estimated to be 0.037\n",
      "\n"
     ]
    }
   ],
   "source": [
    "!ls -sh ../2015-khmer-wok2-vc/moleculo.k13.kh\n",
    "!cat ../2015-khmer-wok2-vc/moleculo.k13.kh.info"
   ]
  },
  {
   "cell_type": "code",
   "execution_count": 21,
   "metadata": {
    "collapsed": false
   },
   "outputs": [
    {
     "data": {
      "image/png": "[encoded data removed]",
      "text/plain": [
       "<matplotlib.figure.Figure at 0x7f88d41df350>"
      ]
     },
     "metadata": {},
     "output_type": "display_data"
    },
    {
     "data": {
      "image/png": "[encoded data removed]",
      "text/plain": [
       "<matplotlib.figure.Figure at 0x7f88d28a7050>"
      ]
     },
     "metadata": {},
     "output_type": "display_data"
    }
   ],
   "source": [
    "moleculo_k13 = check_align('../2015-khmer-wok2-vc/moleculo.k13.align.out',\n",
    "                           ranges=[(90, 100, 11), (98, 100, 11)],\n",
    "                           graph=\"moleculo\",\n",
    "                           query=\"galGal4\")"
   ]
  },
  {
   "cell_type": "code",
   "execution_count": 84,
   "metadata": {
    "collapsed": false
   },
   "outputs": [
    {
     "data": {
      "text/plain": [
       "end        15929\n",
       "percent    15929\n",
       "span       15929\n",
       "start      15929\n",
       "dtype: int64"
      ]
     },
     "execution_count": 84,
     "metadata": {},
     "output_type": "execute_result"
    }
   ],
   "source": [
    "moleculo_k13[moleculo_k13['percent'] > 90].count()"
   ]
  },
  {
   "cell_type": "code",
   "execution_count": 76,
   "metadata": {
    "collapsed": false
   },
   "outputs": [
    {
     "data": {
      "text/html": [
       "<div style=\"max-height:1000px;max-width:1500px;overflow:auto;\">\n",
       "<table border=\"1\" class=\"dataframe\">\n",
       "  <thead>\n",
       "    <tr style=\"text-align: right;\">\n",
       "      <th></th>\n",
       "      <th>end</th>\n",
       "      <th>percent</th>\n",
       "      <th>span</th>\n",
       "      <th>start</th>\n",
       "    </tr>\n",
       "  </thead>\n",
       "  <tbody>\n",
       "    <tr>\n",
       "      <th>chr1</th>\n",
       "      <td>195277456</td>\n",
       "      <td>99.541</td>\n",
       "      <td>897148</td>\n",
       "      <td>194380308</td>\n",
       "    </tr>\n",
       "    <tr>\n",
       "      <th>chr2</th>\n",
       "      <td>148810343</td>\n",
       "      <td>99.537</td>\n",
       "      <td>688344</td>\n",
       "      <td>148121999</td>\n",
       "    </tr>\n",
       "    <tr>\n",
       "      <th>chr3</th>\n",
       "      <td>110448236</td>\n",
       "      <td>99.536</td>\n",
       "      <td>512966</td>\n",
       "      <td>109935270</td>\n",
       "    </tr>\n",
       "    <tr>\n",
       "      <th>chrZ</th>\n",
       "      <td>82364065</td>\n",
       "      <td>99.471</td>\n",
       "      <td>436047</td>\n",
       "      <td>81928018</td>\n",
       "    </tr>\n",
       "    <tr>\n",
       "      <th>chr4</th>\n",
       "      <td>90217241</td>\n",
       "      <td>99.523</td>\n",
       "      <td>430001</td>\n",
       "      <td>89787240</td>\n",
       "    </tr>\n",
       "    <tr>\n",
       "      <th>chr5</th>\n",
       "      <td>59580772</td>\n",
       "      <td>99.498</td>\n",
       "      <td>299199</td>\n",
       "      <td>59281573</td>\n",
       "    </tr>\n",
       "    <tr>\n",
       "      <th>chr7</th>\n",
       "      <td>36245288</td>\n",
       "      <td>99.499</td>\n",
       "      <td>181615</td>\n",
       "      <td>36063673</td>\n",
       "    </tr>\n",
       "    <tr>\n",
       "      <th>chr6</th>\n",
       "      <td>34951876</td>\n",
       "      <td>99.504</td>\n",
       "      <td>173306</td>\n",
       "      <td>34778570</td>\n",
       "    </tr>\n",
       "    <tr>\n",
       "      <th>chr8</th>\n",
       "      <td>28767456</td>\n",
       "      <td>99.475</td>\n",
       "      <td>150979</td>\n",
       "      <td>28616477</td>\n",
       "    </tr>\n",
       "    <tr>\n",
       "      <th>chr9</th>\n",
       "      <td>23441905</td>\n",
       "      <td>99.471</td>\n",
       "      <td>123908</td>\n",
       "      <td>23317997</td>\n",
       "    </tr>\n",
       "    <tr>\n",
       "      <th>chr10</th>\n",
       "      <td>19911297</td>\n",
       "      <td>99.439</td>\n",
       "      <td>111725</td>\n",
       "      <td>19799572</td>\n",
       "    </tr>\n",
       "    <tr>\n",
       "      <th>chr11</th>\n",
       "      <td>19401252</td>\n",
       "      <td>99.450</td>\n",
       "      <td>106718</td>\n",
       "      <td>19294534</td>\n",
       "    </tr>\n",
       "    <tr>\n",
       "      <th>chr12</th>\n",
       "      <td>19897197</td>\n",
       "      <td>99.477</td>\n",
       "      <td>104012</td>\n",
       "      <td>19793185</td>\n",
       "    </tr>\n",
       "    <tr>\n",
       "      <th>chr13</th>\n",
       "      <td>17760198</td>\n",
       "      <td>99.438</td>\n",
       "      <td>99743</td>\n",
       "      <td>17660455</td>\n",
       "    </tr>\n",
       "    <tr>\n",
       "      <th>chr14</th>\n",
       "      <td>15161993</td>\n",
       "      <td>99.409</td>\n",
       "      <td>89573</td>\n",
       "      <td>15072420</td>\n",
       "    </tr>\n",
       "    <tr>\n",
       "      <th>chr20</th>\n",
       "      <td>14302735</td>\n",
       "      <td>99.417</td>\n",
       "      <td>83367</td>\n",
       "      <td>14219368</td>\n",
       "    </tr>\n",
       "    <tr>\n",
       "      <th>chr15</th>\n",
       "      <td>12656954</td>\n",
       "      <td>99.405</td>\n",
       "      <td>75292</td>\n",
       "      <td>12581662</td>\n",
       "    </tr>\n",
       "    <tr>\n",
       "      <th>chr18</th>\n",
       "      <td>11220008</td>\n",
       "      <td>99.378</td>\n",
       "      <td>69777</td>\n",
       "      <td>11150231</td>\n",
       "    </tr>\n",
       "    <tr>\n",
       "      <th>chr17</th>\n",
       "      <td>10454273</td>\n",
       "      <td>99.348</td>\n",
       "      <td>68158</td>\n",
       "      <td>10386115</td>\n",
       "    </tr>\n",
       "    <tr>\n",
       "      <th>chr19</th>\n",
       "      <td>9983522</td>\n",
       "      <td>99.351</td>\n",
       "      <td>64810</td>\n",
       "      <td>9918712</td>\n",
       "    </tr>\n",
       "  </tbody>\n",
       "</table>\n",
       "</div>"
      ],
      "text/plain": [
       "             end  percent    span      start\n",
       "chr1   195277456   99.541  897148  194380308\n",
       "chr2   148810343   99.537  688344  148121999\n",
       "chr3   110448236   99.536  512966  109935270\n",
       "chrZ    82364065   99.471  436047   81928018\n",
       "chr4    90217241   99.523  430001   89787240\n",
       "chr5    59580772   99.498  299199   59281573\n",
       "chr7    36245288   99.499  181615   36063673\n",
       "chr6    34951876   99.504  173306   34778570\n",
       "chr8    28767456   99.475  150979   28616477\n",
       "chr9    23441905   99.471  123908   23317997\n",
       "chr10   19911297   99.439  111725   19799572\n",
       "chr11   19401252   99.450  106718   19294534\n",
       "chr12   19897197   99.477  104012   19793185\n",
       "chr13   17760198   99.438   99743   17660455\n",
       "chr14   15161993   99.409   89573   15072420\n",
       "chr20   14302735   99.417   83367   14219368\n",
       "chr15   12656954   99.405   75292   12581662\n",
       "chr18   11220008   99.378   69777   11150231\n",
       "chr17   10454273   99.348   68158   10386115\n",
       "chr19    9983522   99.351   64810    9918712"
      ]
     },
     "execution_count": 76,
     "metadata": {},
     "output_type": "execute_result"
    }
   ],
   "source": [
    "moleculo_k13.sort('span', ascending=False).head(20)"
   ]
  },
  {
   "cell_type": "code",
   "execution_count": 77,
   "metadata": {
    "collapsed": false
   },
   "outputs": [
    {
     "data": {
      "text/plain": [
       "5478913.0"
      ]
     },
     "execution_count": 77,
     "metadata": {},
     "output_type": "execute_result"
    }
   ],
   "source": [
    "bases_mapped = moleculo_k13['span'].sum()\n",
    "bases_mapped"
   ]
  },
  {
   "cell_type": "code",
   "execution_count": 78,
   "metadata": {
    "collapsed": false
   },
   "outputs": [
    {
     "data": {
      "text/plain": [
       "0.0052333031007773126"
      ]
     },
     "execution_count": 78,
     "metadata": {},
     "output_type": "execute_result"
    }
   ],
   "source": [
    "bases_mapped / bases_in_galGal4"
   ]
  },
  {
   "cell_type": "markdown",
   "metadata": {},
   "source": [
    "## Aligning PacBio to moleculo graph"
   ]
  },
  {
   "cell_type": "code",
   "execution_count": 22,
   "metadata": {
    "collapsed": false
   },
   "outputs": [
    {
     "data": {
      "image/png": "[encoded data removed]",
      "text/plain": [
       "<matplotlib.figure.Figure at 0x7f88d4c22350>"
      ]
     },
     "metadata": {},
     "output_type": "display_data"
    },
    {
     "data": {
      "image/png": "[encoded data removed]",
      "text/plain": [
       "<matplotlib.figure.Figure at 0x7f88d2371d10>"
      ]
     },
     "metadata": {},
     "output_type": "display_data"
    }
   ],
   "source": [
    "moleculo_k13_pacbio = check_align('../2015-khmer-wok2-vc/moleculo.k13.align.pacbio',\n",
    "                                  ranges=[(90, 100, 11), (95, 100, 11)],\n",
    "                                  graph=\"moleculo\",\n",
    "                                  query=\"PacBio\")"
   ]
  },
  {
   "cell_type": "code",
   "execution_count": 15,
   "metadata": {
    "collapsed": false
   },
   "outputs": [
    {
     "data": {
      "text/plain": [
       "end        221775\n",
       "percent    221775\n",
       "span       221775\n",
       "start      221775\n",
       "dtype: int64"
      ]
     },
     "execution_count": 15,
     "metadata": {},
     "output_type": "execute_result"
    }
   ],
   "source": [
    "moleculo_k13_pacbio[moleculo_k13_pacbio['percent'] > 90].count()"
   ]
  },
  {
   "cell_type": "code",
   "execution_count": 16,
   "metadata": {
    "collapsed": false
   },
   "outputs": [
    {
     "data": {
      "text/html": [
       "<div style=\"max-height:1000px;max-width:1500px;overflow:auto;\">\n",
       "<table border=\"1\" class=\"dataframe\">\n",
       "  <thead>\n",
       "    <tr style=\"text-align: right;\">\n",
       "      <th></th>\n",
       "      <th>end</th>\n",
       "      <th>percent</th>\n",
       "      <th>span</th>\n",
       "      <th>start</th>\n",
       "    </tr>\n",
       "  </thead>\n",
       "  <tbody>\n",
       "    <tr>\n",
       "      <th>m140429_195458_00116_c100637712550000001823124909121480_s1_p0/66233/5193_24248</th>\n",
       "      <td>19072</td>\n",
       "      <td>93.760</td>\n",
       "      <td>1190</td>\n",
       "      <td>17882</td>\n",
       "    </tr>\n",
       "    <tr>\n",
       "      <th>m141124_230938_00116_c100676372550000001823144002221540_s1_p0/105398/0_15974</th>\n",
       "      <td>15989</td>\n",
       "      <td>92.664</td>\n",
       "      <td>1173</td>\n",
       "      <td>14816</td>\n",
       "    </tr>\n",
       "    <tr>\n",
       "      <th>m141124_230938_00116_c100676372550000001823144002221540_s1_p0/98060/8227_43753</th>\n",
       "      <td>35533</td>\n",
       "      <td>96.834</td>\n",
       "      <td>1125</td>\n",
       "      <td>34408</td>\n",
       "    </tr>\n",
       "    <tr>\n",
       "      <th>m141124_230938_00116_c100676372550000001823144002221540_s1_p0/94418/1851_17733</th>\n",
       "      <td>15894</td>\n",
       "      <td>93.129</td>\n",
       "      <td>1092</td>\n",
       "      <td>14802</td>\n",
       "    </tr>\n",
       "    <tr>\n",
       "      <th>m141124_230938_00116_c100676372550000001823144002221540_s1_p0/88064/16747_29537</th>\n",
       "      <td>12804</td>\n",
       "      <td>91.768</td>\n",
       "      <td>1054</td>\n",
       "      <td>11750</td>\n",
       "    </tr>\n",
       "    <tr>\n",
       "      <th>m141124_230938_00116_c100676372550000001823144002221540_s1_p0/106664/0_18924</th>\n",
       "      <td>18934</td>\n",
       "      <td>94.470</td>\n",
       "      <td>1047</td>\n",
       "      <td>17887</td>\n",
       "    </tr>\n",
       "    <tr>\n",
       "      <th>m141124_230938_00116_c100676372550000001823144002221540_s1_p0/73789/1767_28492</th>\n",
       "      <td>26733</td>\n",
       "      <td>96.229</td>\n",
       "      <td>1008</td>\n",
       "      <td>25725</td>\n",
       "    </tr>\n",
       "    <tr>\n",
       "      <th>m141124_230938_00116_c100676372550000001823144002221540_s1_p0/85560/491_30314</th>\n",
       "      <td>29825</td>\n",
       "      <td>96.681</td>\n",
       "      <td>990</td>\n",
       "      <td>28835</td>\n",
       "    </tr>\n",
       "    <tr>\n",
       "      <th>m141124_230938_00116_c100676372550000001823144002221540_s1_p0/55791/0_30365</th>\n",
       "      <td>30371</td>\n",
       "      <td>96.800</td>\n",
       "      <td>972</td>\n",
       "      <td>29399</td>\n",
       "    </tr>\n",
       "    <tr>\n",
       "      <th>m141124_230938_00116_c100676372550000001823144002221540_s1_p0/90345/0_15969</th>\n",
       "      <td>15979</td>\n",
       "      <td>94.086</td>\n",
       "      <td>945</td>\n",
       "      <td>15034</td>\n",
       "    </tr>\n",
       "    <tr>\n",
       "      <th>m141206_173938_00116_c100681682550000001823133202281565_s1_p0/110290/0_13708</th>\n",
       "      <td>13725</td>\n",
       "      <td>93.384</td>\n",
       "      <td>908</td>\n",
       "      <td>12817</td>\n",
       "    </tr>\n",
       "    <tr>\n",
       "      <th>m140708_165234_00116_c100661832550000001823125811271495_s1_p0/134635/662_12998</th>\n",
       "      <td>12348</td>\n",
       "      <td>92.719</td>\n",
       "      <td>899</td>\n",
       "      <td>11449</td>\n",
       "    </tr>\n",
       "    <tr>\n",
       "      <th>m141124_230938_00116_c100676372550000001823144002221540_s1_p0/104507/0_18464</th>\n",
       "      <td>18470</td>\n",
       "      <td>95.138</td>\n",
       "      <td>898</td>\n",
       "      <td>17572</td>\n",
       "    </tr>\n",
       "    <tr>\n",
       "      <th>m141124_230938_00116_c100676372550000001823144002221540_s1_p0/96647/8996_29173</th>\n",
       "      <td>20184</td>\n",
       "      <td>95.556</td>\n",
       "      <td>897</td>\n",
       "      <td>19287</td>\n",
       "    </tr>\n",
       "    <tr>\n",
       "      <th>m130802_223300_00116_c100531712550000001823085711101320_s1_p0/81621/0_14069</th>\n",
       "      <td>14090</td>\n",
       "      <td>93.733</td>\n",
       "      <td>883</td>\n",
       "      <td>13207</td>\n",
       "    </tr>\n",
       "    <tr>\n",
       "      <th>m140429_195458_00116_c100637712550000001823124909121480_s1_p0/93258/1380_13302</th>\n",
       "      <td>11936</td>\n",
       "      <td>92.728</td>\n",
       "      <td>868</td>\n",
       "      <td>11068</td>\n",
       "    </tr>\n",
       "    <tr>\n",
       "      <th>m140708_165234_00116_c100661832550000001823125811271495_s1_p0/110536/0_17833</th>\n",
       "      <td>17842</td>\n",
       "      <td>95.146</td>\n",
       "      <td>866</td>\n",
       "      <td>16976</td>\n",
       "    </tr>\n",
       "    <tr>\n",
       "      <th>m141206_173938_00116_c100681682550000001823133202281565_s1_p0/124290/0_13328</th>\n",
       "      <td>13336</td>\n",
       "      <td>93.514</td>\n",
       "      <td>865</td>\n",
       "      <td>12471</td>\n",
       "    </tr>\n",
       "    <tr>\n",
       "      <th>m140708_165234_00116_c100661832550000001823125811271495_s1_p0/143956/1042_13429</th>\n",
       "      <td>12401</td>\n",
       "      <td>93.065</td>\n",
       "      <td>860</td>\n",
       "      <td>11541</td>\n",
       "    </tr>\n",
       "    <tr>\n",
       "      <th>m140429_195458_00116_c100637712550000001823124909121480_s1_p0/79087/0_14294</th>\n",
       "      <td>14303</td>\n",
       "      <td>93.987</td>\n",
       "      <td>860</td>\n",
       "      <td>13443</td>\n",
       "    </tr>\n",
       "  </tbody>\n",
       "</table>\n",
       "</div>"
      ],
      "text/plain": [
       "                                                      end  percent  span  \\\n",
       "m140429_195458_00116_c1006377125500000018231249...  19072   93.760  1190   \n",
       "m141124_230938_00116_c1006763725500000018231440...  15989   92.664  1173   \n",
       "m141124_230938_00116_c1006763725500000018231440...  35533   96.834  1125   \n",
       "m141124_230938_00116_c1006763725500000018231440...  15894   93.129  1092   \n",
       "m141124_230938_00116_c1006763725500000018231440...  12804   91.768  1054   \n",
       "m141124_230938_00116_c1006763725500000018231440...  18934   94.470  1047   \n",
       "m141124_230938_00116_c1006763725500000018231440...  26733   96.229  1008   \n",
       "m141124_230938_00116_c1006763725500000018231440...  29825   96.681   990   \n",
       "m141124_230938_00116_c1006763725500000018231440...  30371   96.800   972   \n",
       "m141124_230938_00116_c1006763725500000018231440...  15979   94.086   945   \n",
       "m141206_173938_00116_c1006816825500000018231332...  13725   93.384   908   \n",
       "m140708_165234_00116_c1006618325500000018231258...  12348   92.719   899   \n",
       "m141124_230938_00116_c1006763725500000018231440...  18470   95.138   898   \n",
       "m141124_230938_00116_c1006763725500000018231440...  20184   95.556   897   \n",
       "m130802_223300_00116_c1005317125500000018230857...  14090   93.733   883   \n",
       "m140429_195458_00116_c1006377125500000018231249...  11936   92.728   868   \n",
       "m140708_165234_00116_c1006618325500000018231258...  17842   95.146   866   \n",
       "m141206_173938_00116_c1006816825500000018231332...  13336   93.514   865   \n",
       "m140708_165234_00116_c1006618325500000018231258...  12401   93.065   860   \n",
       "m140429_195458_00116_c1006377125500000018231249...  14303   93.987   860   \n",
       "\n",
       "                                                    start  \n",
       "m140429_195458_00116_c1006377125500000018231249...  17882  \n",
       "m141124_230938_00116_c1006763725500000018231440...  14816  \n",
       "m141124_230938_00116_c1006763725500000018231440...  34408  \n",
       "m141124_230938_00116_c1006763725500000018231440...  14802  \n",
       "m141124_230938_00116_c1006763725500000018231440...  11750  \n",
       "m141124_230938_00116_c1006763725500000018231440...  17887  \n",
       "m141124_230938_00116_c1006763725500000018231440...  25725  \n",
       "m141124_230938_00116_c1006763725500000018231440...  28835  \n",
       "m141124_230938_00116_c1006763725500000018231440...  29399  \n",
       "m141124_230938_00116_c1006763725500000018231440...  15034  \n",
       "m141206_173938_00116_c1006816825500000018231332...  12817  \n",
       "m140708_165234_00116_c1006618325500000018231258...  11449  \n",
       "m141124_230938_00116_c1006763725500000018231440...  17572  \n",
       "m141124_230938_00116_c1006763725500000018231440...  19287  \n",
       "m130802_223300_00116_c1005317125500000018230857...  13207  \n",
       "m140429_195458_00116_c1006377125500000018231249...  11068  \n",
       "m140708_165234_00116_c1006618325500000018231258...  16976  \n",
       "m141206_173938_00116_c1006816825500000018231332...  12471  \n",
       "m140708_165234_00116_c1006618325500000018231258...  11541  \n",
       "m140429_195458_00116_c1006377125500000018231249...  13443  "
      ]
     },
     "execution_count": 16,
     "metadata": {},
     "output_type": "execute_result"
    }
   ],
   "source": [
    "moleculo_k13_pacbio.sort('span', ascending=False).head(20)"
   ]
  },
  {
   "cell_type": "markdown",
   "metadata": {},
   "source": [
    "# Training"
   ]
  },
  {
   "cell_type": "markdown",
   "metadata": {},
   "source": [
    "- K=21\n",
    " - Reference: galGal4\n",
    " - Query: galGal4.LR6000017-DNA_A01-LRAAA-AllReads.sorted.bam (previously mapped with bwa-mem)"
   ]
  },
  {
   "cell_type": "markdown",
   "metadata": {},
   "source": [
    "## Problems"
   ]
  },
  {
   "cell_type": "markdown",
   "metadata": {},
   "source": [
    "- galGal4 has 'N' and soft-clipped regions. Training script not ready for this in CIGAR:\n",
    "   ```python\n",
    "   >>> cigar_to_state\n",
    "   {0: 'M', 1: 'Ir', 2: 'Ig'}\n",
    "   >>> rec.cigarstring\n",
    "   '251S638M1I16M'\n",
    "   ```\n",
    "   Does it make sense to support other fields, or should I clean up the reference first? (From http://davetang.org/wiki/tiki-index.php?page=SAM )\n",
    "\n",
    "| op | Description                                                    |\n",
    "|----|----------------------------------------------------------------|\n",
    "| M\t | Alignment match (can be a sequence match or mismatch           |\n",
    "| I\t | Insertion to the reference                                     |\n",
    "| D\t | Deletion from the reference                                    |\n",
    "| N\t | Skipped region from the reference                              |\n",
    "| S\t | Soft clip on the read (clipped sequence present in <seq>)      |\n",
    "| H\t | Hard clip on the read (clipped sequence NOT present in <seq>)  |\n",
    "| P\t | Padding (silent deletion from the padded reference sequence)   |"
   ]
  },
  {
   "cell_type": "code",
   "execution_count": null,
   "metadata": {
    "collapsed": true
   },
   "outputs": [],
   "source": []
  }
 ],
 "metadata": {
  "kernelspec": {
   "display_name": "Python 2",
   "language": "python",
   "name": "python2"
  },
  "language_info": {
   "codemirror_mode": {
    "name": "ipython",
    "version": 2
   },
   "file_extension": ".py",
   "mimetype": "text/x-python",
   "name": "python",
   "nbconvert_exporter": "python",
   "pygments_lexer": "ipython2",
   "version": "2.7.6"
  }
 },
 "nbformat": 4,
 "nbformat_minor": 0
}
