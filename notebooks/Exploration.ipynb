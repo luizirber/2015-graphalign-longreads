{
 "cells": [
  {
   "cell_type": "markdown",
   "metadata": {},
   "source": [
    "#Table of Contents\n",
    "* [Using k=21](#Using-k=21)\n",
    "\t* [Commands for just loading the reference (no diginorm), replaced 'N' with 'A'](#Commands-for-just-loading-the-reference-%28no-diginorm%29,-replaced-'N'-with-'A')\n",
    "\t* [Check alignment quality](#Check-alignment-quality)\n",
    "\t\t* [Bonus: I broke the readaligner!](#Bonus:-I-broke-the-readaligner!)\n",
    "\t* [Loading reads and aligning the reference to it](#Loading-reads-and-aligning-the-reference-to-it)\n",
    "* [Using k=13](#Using-k=13)\n",
    "\t* [Loading ref to graph](#Loading-ref-to-graph)\n",
    "\t* [Load moleculo to graph](#Load-moleculo-to-graph)\n",
    "\t* [Aligning PacBio to moleculo graph](#Aligning-PacBio-to-moleculo-graph)\n",
    "\t* [Aligning PacBio to galGal4 graph](#Aligning-PacBio-to-galGal4-graph)\n",
    "\t* [Aligning galGal4 to PacBio graph](#Aligning-galGal4-to-PacBio-graph)\n",
    "\t* [Comparing moleculo and PacBio as graphs, galGal4 as query](#Comparing-moleculo-and-PacBio-as-graphs,-galGal4-as-query)\n",
    "* [Training](#Training)\n",
    "\t* [Problems](#Problems)\n"
   ]
  },
  {
   "cell_type": "code",
   "execution_count": 2,
   "metadata": {
    "collapsed": true
   },
   "outputs": [],
   "source": [
    "%matplotlib inline\n",
    "import pandas as pd\n",
    "import numpy as np\n",
    "import matplotlib.pyplot as plt\n",
    "import seaborn as sns"
   ]
  },
  {
   "cell_type": "code",
   "execution_count": 3,
   "metadata": {
    "collapsed": true
   },
   "outputs": [],
   "source": [
    "from screed.fastq import fastq_iter\n",
    "import gzip"
   ]
  },
  {
   "cell_type": "markdown",
   "metadata": {},
   "source": [
    "# Using k=21"
   ]
  },
  {
   "cell_type": "markdown",
   "metadata": {},
   "source": [
    "- Run `normalize-by-median.py` with cutoff = 1 on the reference\n",
    "   * The ecoli example load reads into counting table and then maps the reference to it. I started through the same route with PacBio, but it required too much memory (I'll try again on HPCC). From the email I understood I should load the reference and then map the reads, but a part of the reference is discarded during diginorm.\n",
    "   * No need to do this, actually cutoff was the trusted parameter on the aligner...\n",
    "- Load the reference into counting table\n",
    "- Used as much memory I had available on the node I was running it (~28G)\n",
    "- I modified `find-variant-by-align-long.py` to only output the header of each alignment.\n",
    "\n",
    "- There are many 'N' and soft-clipped sequences in the reference. Is this an issue?\n",
    "   * Yes, it is. Replaced all 'N' with 'A' on a new file, 'galGal4.fixed.fa.gz'"
   ]
  },
  {
   "cell_type": "code",
   "execution_count": 43,
   "metadata": {
    "collapsed": true
   },
   "outputs": [],
   "source": [
    "bases_in_galGal4 = 1046932099"
   ]
  },
  {
   "cell_type": "markdown",
   "metadata": {},
   "source": [
    "## Commands for just loading the reference (no diginorm), replaced 'N' with 'A'"
   ]
  },
  {
   "cell_type": "code",
   "execution_count": 47,
   "metadata": {
    "collapsed": false,
    "scrolled": true
   },
   "outputs": [
    {
     "name": "stdout",
     "output_type": "stream",
     "text": [
      "wget -SNc ftp://hgdownload.cse.ucsc.edu/goldenPath/galGal4/bigZips/galGal4.fa.gz\r\n",
      "python fix_reference.py galGal4.fa.gz galGal4.fixed.fa.gz\r\n",
      "load-into-counting.py -k 21 -N 6 -x 2.5e9 galGal4.fixed.k21.kh galGal4.fixed.fa.gz\r\n",
      "../2015-experimental-graphalign/find-variant-by-align-long.py --trusted 1 galGal4.fixed.k21.kh /home/chick/galGal/inputs/moleculo/LR6000017-DNA_A01-LRAAA-1_LongRead.fastq.gz --variants-out variants-galGal4-fixed.txt > galGal4.fixed.align.out\r\n"
     ]
    }
   ],
   "source": [
    "!cd ../2015-khmer-wok2-vc && make -Bn galGal4.fixed.align.out"
   ]
  },
  {
   "cell_type": "code",
   "execution_count": 48,
   "metadata": {
    "collapsed": false
   },
   "outputs": [
    {
     "name": "stdout",
     "output_type": "stream",
     "text": [
      "0 ../2015-khmer-wok2-vc/galGal4.fixed.k21.kh\n",
      "cat: ../2015-khmer-wok2-vc/galGal4.fixed.k21.kh.info: No such file or directory\n"
     ]
    }
   ],
   "source": [
    "!ls -sh ../2015-khmer-wok2-vc/galGal4.fixed.k21.kh\n",
    "!cat ../2015-khmer-wok2-vc/galGal4.fixed.k21.kh.info"
   ]
  },
  {
   "cell_type": "markdown",
   "metadata": {},
   "source": [
    "## Check alignment quality"
   ]
  },
  {
   "cell_type": "markdown",
   "metadata": {},
   "source": [
    "- It's attrocious. Not really, I was just running it wrong. Using `--trusted 1` alignments are actually very good!"
   ]
  },
  {
   "cell_type": "code",
   "execution_count": 49,
   "metadata": {
    "collapsed": false
   },
   "outputs": [],
   "source": [
    "def check_align(align_out, ranges=[(0, 10), (0, 1, .1)], graph=\"galGal4\", query=\"moleculo\"):\n",
    "    reads = {}\n",
    "\n",
    "    with open(align_out, 'r') as f:\n",
    "        for line in f:\n",
    "            if '%' in line:\n",
    "                name, start, end, span, percent = line.strip().split()\n",
    "                reads[name] = {'start': int(start), 'end': int(end), 'span': int(span), 'percent': float(percent[:-1])}\n",
    "\n",
    "    data = pd.DataFrame.from_dict(reads).T\n",
    "    \n",
    "    plt.figure()\n",
    "    plt.title(\"Graph: {0}\\nQuery: {1}\".format(graph, query))\n",
    "    plt.xlabel(\"% of the query's longest span aligned to graph\")\n",
    "    plt.ylabel(\"Number of query sequences\")\n",
    "    plt.xlim(0, 100)\n",
    "    data['percent'].hist(bins=np.linspace(0, 100, 11))\n",
    "    data['percent'].hist(bins=np.linspace(*ranges[0]))\n",
    "\n",
    "    plt.figure()\n",
    "    plt.title(\"Graph: {0}\\nQuery: {1}\".format(graph, query))\n",
    "    plt.xlabel(\"% of the query's longest span aligned to graph\")\n",
    "    plt.ylabel(\"Number of query sequences\")\n",
    "    plt.xlim(ranges[0][0], 100)\n",
    "    data['percent'].hist(bins=np.linspace(*ranges[0]))\n",
    "    data['percent'].hist(bins=np.linspace(*ranges[1]))\n",
    "    \n",
    "    return data"
   ]
  },
  {
   "cell_type": "code",
   "execution_count": 18,
   "metadata": {
    "collapsed": false
   },
   "outputs": [
    {
     "data": {
      "image/png": "[encoded data removed]",
      "text/plain": [
       "<matplotlib.figure.Figure at 0x7f88f9e98350>"
      ]
     },
     "metadata": {},
     "output_type": "display_data"
    },
    {
     "data": {
      "image/png": "[encoded data removed]",
      "text/plain": [
       "<matplotlib.figure.Figure at 0x7f88d291ad90>"
      ]
     },
     "metadata": {},
     "output_type": "display_data"
    }
   ],
   "source": [
    "galGal4_k21 = check_align('../2015-khmer-wok2-vc/galGal4.fixed.align.out',\n",
    "                          ranges=[(90, 100, 11), (99, 100, 11)],\n",
    "                          graph=\"galGa4\",\n",
    "                          query=\"moleculo\")"
   ]
  },
  {
   "cell_type": "code",
   "execution_count": 10,
   "metadata": {
    "collapsed": false
   },
   "outputs": [
    {
     "data": {
      "text/plain": [
       "end        90808\n",
       "percent    90808\n",
       "span       90808\n",
       "start      90808\n",
       "dtype: int64"
      ]
     },
     "execution_count": 10,
     "metadata": {},
     "output_type": "execute_result"
    }
   ],
   "source": [
    "galGal4_k21[galGal4_k21['percent'] > 90].count()"
   ]
  },
  {
   "cell_type": "code",
   "execution_count": 11,
   "metadata": {
    "collapsed": false
   },
   "outputs": [
    {
     "data": {
      "text/html": [
       "<div style=\"max-height:1000px;max-width:1500px;overflow:auto;\">\n",
       "<table border=\"1\" class=\"dataframe\">\n",
       "  <thead>\n",
       "    <tr style=\"text-align: right;\">\n",
       "      <th></th>\n",
       "      <th>end</th>\n",
       "      <th>percent</th>\n",
       "      <th>span</th>\n",
       "      <th>start</th>\n",
       "    </tr>\n",
       "  </thead>\n",
       "  <tbody>\n",
       "    <tr>\n",
       "      <th>Read_47161-Barcode=BC086-PIPELINE=Develop_T40</th>\n",
       "      <td>8626</td>\n",
       "      <td>2.017</td>\n",
       "      <td>8452</td>\n",
       "      <td>174</td>\n",
       "    </tr>\n",
       "    <tr>\n",
       "      <th>Read_71097-Barcode=BC131-PIPELINE=Develop_T40</th>\n",
       "      <td>8034</td>\n",
       "      <td>4.630</td>\n",
       "      <td>7662</td>\n",
       "      <td>372</td>\n",
       "    </tr>\n",
       "    <tr>\n",
       "      <th>Read_38590-Barcode=BC071-PIPELINE=Develop_T40</th>\n",
       "      <td>7533</td>\n",
       "      <td>1.858</td>\n",
       "      <td>7393</td>\n",
       "      <td>140</td>\n",
       "    </tr>\n",
       "    <tr>\n",
       "      <th>Read_46369-Barcode=BC085-PIPELINE=Develop_T40</th>\n",
       "      <td>8255</td>\n",
       "      <td>12.707</td>\n",
       "      <td>7206</td>\n",
       "      <td>1049</td>\n",
       "    </tr>\n",
       "    <tr>\n",
       "      <th>Read_24604-Barcode=BC046-PIPELINE=Develop_T40</th>\n",
       "      <td>8037</td>\n",
       "      <td>29.737</td>\n",
       "      <td>5647</td>\n",
       "      <td>2390</td>\n",
       "    </tr>\n",
       "    <tr>\n",
       "      <th>Read_32528-Barcode=BC061-PIPELINE=Develop_T40</th>\n",
       "      <td>10015</td>\n",
       "      <td>46.980</td>\n",
       "      <td>5310</td>\n",
       "      <td>4705</td>\n",
       "    </tr>\n",
       "    <tr>\n",
       "      <th>Read_38353-Barcode=BC071-PIPELINE=Develop_T40</th>\n",
       "      <td>6515</td>\n",
       "      <td>24.574</td>\n",
       "      <td>4914</td>\n",
       "      <td>1601</td>\n",
       "    </tr>\n",
       "    <tr>\n",
       "      <th>Read_65178-Barcode=BC120-PIPELINE=Develop_T40</th>\n",
       "      <td>4555</td>\n",
       "      <td>1.493</td>\n",
       "      <td>4487</td>\n",
       "      <td>68</td>\n",
       "    </tr>\n",
       "    <tr>\n",
       "      <th>Read_25574-Barcode=BC048-PIPELINE=Develop_T40</th>\n",
       "      <td>7410</td>\n",
       "      <td>43.293</td>\n",
       "      <td>4202</td>\n",
       "      <td>3208</td>\n",
       "    </tr>\n",
       "    <tr>\n",
       "      <th>Read_5729-Barcode=BC011-PIPELINE=Develop_T40</th>\n",
       "      <td>6373</td>\n",
       "      <td>34.819</td>\n",
       "      <td>4154</td>\n",
       "      <td>2219</td>\n",
       "    </tr>\n",
       "  </tbody>\n",
       "</table>\n",
       "</div>"
      ],
      "text/plain": [
       "                                                 end  percent  span  start\n",
       "Read_47161-Barcode=BC086-PIPELINE=Develop_T40   8626    2.017  8452    174\n",
       "Read_71097-Barcode=BC131-PIPELINE=Develop_T40   8034    4.630  7662    372\n",
       "Read_38590-Barcode=BC071-PIPELINE=Develop_T40   7533    1.858  7393    140\n",
       "Read_46369-Barcode=BC085-PIPELINE=Develop_T40   8255   12.707  7206   1049\n",
       "Read_24604-Barcode=BC046-PIPELINE=Develop_T40   8037   29.737  5647   2390\n",
       "Read_32528-Barcode=BC061-PIPELINE=Develop_T40  10015   46.980  5310   4705\n",
       "Read_38353-Barcode=BC071-PIPELINE=Develop_T40   6515   24.574  4914   1601\n",
       "Read_65178-Barcode=BC120-PIPELINE=Develop_T40   4555    1.493  4487     68\n",
       "Read_25574-Barcode=BC048-PIPELINE=Develop_T40   7410   43.293  4202   3208\n",
       "Read_5729-Barcode=BC011-PIPELINE=Develop_T40    6373   34.819  4154   2219"
      ]
     },
     "execution_count": 11,
     "metadata": {},
     "output_type": "execute_result"
    }
   ],
   "source": [
    "galGal4_k21.sort('span', ascending=False).head(10)"
   ]
  },
  {
   "cell_type": "code",
   "execution_count": 59,
   "metadata": {
    "collapsed": false
   },
   "outputs": [
    {
     "data": {
      "text/plain": [
       "717135.0"
      ]
     },
     "execution_count": 59,
     "metadata": {},
     "output_type": "execute_result"
    }
   ],
   "source": [
    "bases_mapped = galGal4_k21['span'].sum()\n",
    "bases_mapped"
   ]
  },
  {
   "cell_type": "code",
   "execution_count": 60,
   "metadata": {
    "collapsed": false
   },
   "outputs": [
    {
     "data": {
      "text/plain": [
       "0.00068498711681969353"
      ]
     },
     "execution_count": 60,
     "metadata": {},
     "output_type": "execute_result"
    }
   ],
   "source": [
    "bases_mapped / bases_in_galGal4"
   ]
  },
  {
   "cell_type": "markdown",
   "metadata": {},
   "source": [
    "### Bonus: I broke the readaligner!"
   ]
  },
  {
   "cell_type": "markdown",
   "metadata": {},
   "source": [
    "`find-variant-by-align-long.py` segfaulted, memory consumption slowly but steadily increases (about half the moleculo reads were processed for the previous figures).\n",
    "\n",
    "This problem was fixed by decrementing the refcount in align_forward, which was leaking memory."
   ]
  },
  {
   "cell_type": "markdown",
   "metadata": {},
   "source": [
    "## Loading reads and aligning the reference to it"
   ]
  },
  {
   "cell_type": "markdown",
   "metadata": {},
   "source": [
    "- Used QP's functions to find the approximate memory needed (after counting unique kmers with HLL).\n",
    "   * Estimated unique kmers: 904.369.109\n",
    "   * Expected error rate: 0.01\n",
    "   * Calculated parameters:\n",
    "     - Number of tables: 6\n",
    "     - Memory per table: 2e9\n",
    "- Tested with `--trusted 5`\n",
    "- There are ~15k contigs in galGal4, more than 10k align >90%\n",
    "- <span style=\"color:red\">Needs attention</span>: I was considering 'percent' for check if it was working, but it means something different than I expected: \"percent matched\" means \"percent of the span matched\", where span doesn't imply start to end of read."
   ]
  },
  {
   "cell_type": "code",
   "execution_count": 50,
   "metadata": {
    "collapsed": false
   },
   "outputs": [
    {
     "name": "stdout",
     "output_type": "stream",
     "text": [
      "load-into-counting.py -k 21 -N 6 -x 2e9 moleculo.k21.kh /home/chick/galGal/inputs/moleculo/LR6000017-DNA_A01-LRAAA-1_LongRead_500_1499nt.fastq.gz /home/chick/galGal/inputs/moleculo/LR6000017-DNA_A01-LRAAA-1_LongRead.fastq.gz /home/chick/galGal/inputs/moleculo/LR6000017-DNA_A01-LRAAA-2_LongRead_500_1499nt.fastq.gz /home/chick/galGal/inputs/moleculo/LR6000017-DNA_A01-LRAAA-2_LongRead.fastq.gz /home/chick/galGal/inputs/moleculo/LR6000017-DNA_A01-LRAAA-3_LongRead_500_1499nt.fastq.gz /home/chick/galGal/inputs/moleculo/LR6000017-DNA_A01-LRAAA-3_LongRead.fastq.gz /home/chick/galGal/inputs/moleculo/LR6000017-DNA_A01-LRAAA-4_LongRead_500_1499nt.fastq.gz /home/chick/galGal/inputs/moleculo/LR6000017-DNA_A01-LRAAA-4_LongRead.fastq.gz /home/chick/galGal/inputs/moleculo/LR6000017-DNA_A01-LRAAA-5_LongRead_500_1499nt.fastq.gz /home/chick/galGal/inputs/moleculo/LR6000017-DNA_A01-LRAAA-5_LongRead.fastq.gz\r\n",
      "wget -SNc ftp://hgdownload.cse.ucsc.edu/goldenPath/galGal4/bigZips/galGal4.fa.gz\r\n",
      "python fix_reference.py galGal4.fa.gz galGal4.fixed.fa.gz\r\n",
      "../2015-experimental-graphalign/find-variant-by-align-long.py --trusted 5 moleculo.k21.kh galGal4.fixed.fa.gz --variants-out variants-galGal4-fixed.txt > moleculo.align.out\r\n"
     ]
    }
   ],
   "source": [
    "!cd ../2015-khmer-wok2-vc && make -Bn moleculo.align.out"
   ]
  },
  {
   "cell_type": "code",
   "execution_count": 53,
   "metadata": {
    "collapsed": false
   },
   "outputs": [
    {
     "name": "stdout",
     "output_type": "stream",
     "text": [
      "12G ../2015-khmer-wok2-vc/moleculo.k21.kh\n",
      "through /mnt/research/ged/irberlui/biodata/galGal/inputs/moleculo/LR6000017-DNA_A01-LRAAA-1_LongRead_500_1499nt.fastq.gz\n",
      "through /mnt/research/ged/irberlui/biodata/galGal/inputs/moleculo/LR6000017-DNA_A01-LRAAA-1_LongRead.fastq.gz\n",
      "through /mnt/research/ged/irberlui/biodata/galGal/inputs/moleculo/LR6000017-DNA_A01-LRAAA-2_LongRead_500_1499nt.fastq.gz\n",
      "through /mnt/research/ged/irberlui/biodata/galGal/inputs/moleculo/LR6000017-DNA_A01-LRAAA-2_LongRead.fastq.gz\n",
      "through /mnt/research/ged/irberlui/biodata/galGal/inputs/moleculo/LR6000017-DNA_A01-LRAAA-3_LongRead_500_1499nt.fastq.gz\n",
      "through /mnt/research/ged/irberlui/biodata/galGal/inputs/moleculo/LR6000017-DNA_A01-LRAAA-3_LongRead.fastq.gz\n",
      "through /mnt/research/ged/irberlui/biodata/galGal/inputs/moleculo/LR6000017-DNA_A01-LRAAA-4_LongRead_500_1499nt.fastq.gz\n",
      "through /mnt/research/ged/irberlui/biodata/galGal/inputs/moleculo/LR6000017-DNA_A01-LRAAA-4_LongRead.fastq.gz\n",
      "through /mnt/research/ged/irberlui/biodata/galGal/inputs/moleculo/LR6000017-DNA_A01-LRAAA-5_LongRead_500_1499nt.fastq.gz\n",
      "through /mnt/research/ged/irberlui/biodata/galGal/inputs/moleculo/LR6000017-DNA_A01-LRAAA-5_LongRead.fastq.gz\n",
      "fp rate estimated to be 0.002\n",
      "\n"
     ]
    }
   ],
   "source": [
    "!ls -sh ../2015-khmer-wok2-vc/moleculo.k21.kh\n",
    "!cat ../2015-khmer-wok2-vc/moleculo.k21.kh.info"
   ]
  },
  {
   "cell_type": "code",
   "execution_count": 55,
   "metadata": {
    "collapsed": false
   },
   "outputs": [
    {
     "data": {
      "image/png": "[encoded data removed]",
      "text/plain": [
       "<matplotlib.figure.Figure at 0x7f88d4551bd0>"
      ]
     },
     "metadata": {},
     "output_type": "display_data"
    },
    {
     "data": {
      "image/png": "[encoded data removed]",
      "text/plain": [
       "<matplotlib.figure.Figure at 0x7f88d5502c90>"
      ]
     },
     "metadata": {},
     "output_type": "display_data"
    }
   ],
   "source": [
    "moleculo_k21 = (check_align('../2015-khmer-wok2-vc/moleculo.align.out',\n",
    "                                  ranges=[(90, 100, 11), (99, 100, 11)],\n",
    "                                  graph=\"moleculo\",\n",
    "                                  query=\"galGal4\")\n",
    "                       .query('span != 0'))"
   ]
  },
  {
   "cell_type": "code",
   "execution_count": 56,
   "metadata": {
    "collapsed": false
   },
   "outputs": [
    {
     "data": {
      "text/plain": [
       "end        9799\n",
       "percent    9799\n",
       "span       9799\n",
       "start      9799\n",
       "dtype: int64"
      ]
     },
     "execution_count": 56,
     "metadata": {},
     "output_type": "execute_result"
    }
   ],
   "source": [
    "moleculo_k21[moleculo_k21['percent'] > 90].count()"
   ]
  },
  {
   "cell_type": "code",
   "execution_count": 57,
   "metadata": {
    "collapsed": false
   },
   "outputs": [
    {
     "data": {
      "text/html": [
       "<div style=\"max-height:1000px;max-width:1500px;overflow:auto;\">\n",
       "<table border=\"1\" class=\"dataframe\">\n",
       "  <thead>\n",
       "    <tr style=\"text-align: right;\">\n",
       "      <th></th>\n",
       "      <th>end</th>\n",
       "      <th>percent</th>\n",
       "      <th>span</th>\n",
       "      <th>start</th>\n",
       "    </tr>\n",
       "  </thead>\n",
       "  <tbody>\n",
       "    <tr>\n",
       "      <th>chr1</th>\n",
       "      <td>195284953</td>\n",
       "      <td>86.874</td>\n",
       "      <td>25632877</td>\n",
       "      <td>169652076</td>\n",
       "    </tr>\n",
       "    <tr>\n",
       "      <th>chrZ</th>\n",
       "      <td>82367875</td>\n",
       "      <td>71.042</td>\n",
       "      <td>23851812</td>\n",
       "      <td>58516063</td>\n",
       "    </tr>\n",
       "    <tr>\n",
       "      <th>chr2</th>\n",
       "      <td>148816091</td>\n",
       "      <td>87.133</td>\n",
       "      <td>19147781</td>\n",
       "      <td>129668310</td>\n",
       "    </tr>\n",
       "    <tr>\n",
       "      <th>chr3</th>\n",
       "      <td>110451292</td>\n",
       "      <td>86.989</td>\n",
       "      <td>14370922</td>\n",
       "      <td>96080370</td>\n",
       "    </tr>\n",
       "    <tr>\n",
       "      <th>chr4</th>\n",
       "      <td>90219931</td>\n",
       "      <td>85.835</td>\n",
       "      <td>12779290</td>\n",
       "      <td>77440641</td>\n",
       "    </tr>\n",
       "    <tr>\n",
       "      <th>chr5</th>\n",
       "      <td>59582583</td>\n",
       "      <td>84.961</td>\n",
       "      <td>8960409</td>\n",
       "      <td>50622174</td>\n",
       "    </tr>\n",
       "    <tr>\n",
       "      <th>chr7</th>\n",
       "      <td>36246061</td>\n",
       "      <td>85.985</td>\n",
       "      <td>5079957</td>\n",
       "      <td>31166104</td>\n",
       "    </tr>\n",
       "    <tr>\n",
       "      <th>chr6</th>\n",
       "      <td>34952711</td>\n",
       "      <td>85.929</td>\n",
       "      <td>4918052</td>\n",
       "      <td>30034659</td>\n",
       "    </tr>\n",
       "    <tr>\n",
       "      <th>chr8</th>\n",
       "      <td>28768056</td>\n",
       "      <td>84.042</td>\n",
       "      <td>4590887</td>\n",
       "      <td>24177169</td>\n",
       "    </tr>\n",
       "    <tr>\n",
       "      <th>chr9</th>\n",
       "      <td>23442432</td>\n",
       "      <td>84.404</td>\n",
       "      <td>3656106</td>\n",
       "      <td>19786326</td>\n",
       "    </tr>\n",
       "    <tr>\n",
       "      <th>chr10</th>\n",
       "      <td>19912165</td>\n",
       "      <td>82.053</td>\n",
       "      <td>3573583</td>\n",
       "      <td>16338582</td>\n",
       "    </tr>\n",
       "    <tr>\n",
       "      <th>chr11</th>\n",
       "      <td>19402455</td>\n",
       "      <td>82.188</td>\n",
       "      <td>3455996</td>\n",
       "      <td>15946459</td>\n",
       "    </tr>\n",
       "    <tr>\n",
       "      <th>chr13</th>\n",
       "      <td>17760811</td>\n",
       "      <td>81.326</td>\n",
       "      <td>3316614</td>\n",
       "      <td>14444197</td>\n",
       "    </tr>\n",
       "    <tr>\n",
       "      <th>chr14</th>\n",
       "      <td>15162549</td>\n",
       "      <td>79.019</td>\n",
       "      <td>3181194</td>\n",
       "      <td>11981355</td>\n",
       "    </tr>\n",
       "    <tr>\n",
       "      <th>chr12</th>\n",
       "      <td>19897565</td>\n",
       "      <td>84.658</td>\n",
       "      <td>3052697</td>\n",
       "      <td>16844868</td>\n",
       "    </tr>\n",
       "    <tr>\n",
       "      <th>chr20</th>\n",
       "      <td>14303030</td>\n",
       "      <td>78.838</td>\n",
       "      <td>3026739</td>\n",
       "      <td>11276291</td>\n",
       "    </tr>\n",
       "    <tr>\n",
       "      <th>chr17</th>\n",
       "      <td>10454679</td>\n",
       "      <td>74.222</td>\n",
       "      <td>2695017</td>\n",
       "      <td>7759662</td>\n",
       "    </tr>\n",
       "    <tr>\n",
       "      <th>chr15</th>\n",
       "      <td>12657176</td>\n",
       "      <td>79.200</td>\n",
       "      <td>2632710</td>\n",
       "      <td>10024466</td>\n",
       "    </tr>\n",
       "    <tr>\n",
       "      <th>chr18</th>\n",
       "      <td>11220127</td>\n",
       "      <td>77.564</td>\n",
       "      <td>2517331</td>\n",
       "      <td>8702796</td>\n",
       "    </tr>\n",
       "    <tr>\n",
       "      <th>chr19</th>\n",
       "      <td>9983666</td>\n",
       "      <td>76.920</td>\n",
       "      <td>2304249</td>\n",
       "      <td>7679417</td>\n",
       "    </tr>\n",
       "  </tbody>\n",
       "</table>\n",
       "</div>"
      ],
      "text/plain": [
       "             end  percent      span      start\n",
       "chr1   195284953   86.874  25632877  169652076\n",
       "chrZ    82367875   71.042  23851812   58516063\n",
       "chr2   148816091   87.133  19147781  129668310\n",
       "chr3   110451292   86.989  14370922   96080370\n",
       "chr4    90219931   85.835  12779290   77440641\n",
       "chr5    59582583   84.961   8960409   50622174\n",
       "chr7    36246061   85.985   5079957   31166104\n",
       "chr6    34952711   85.929   4918052   30034659\n",
       "chr8    28768056   84.042   4590887   24177169\n",
       "chr9    23442432   84.404   3656106   19786326\n",
       "chr10   19912165   82.053   3573583   16338582\n",
       "chr11   19402455   82.188   3455996   15946459\n",
       "chr13   17760811   81.326   3316614   14444197\n",
       "chr14   15162549   79.019   3181194   11981355\n",
       "chr12   19897565   84.658   3052697   16844868\n",
       "chr20   14303030   78.838   3026739   11276291\n",
       "chr17   10454679   74.222   2695017    7759662\n",
       "chr15   12657176   79.200   2632710   10024466\n",
       "chr18   11220127   77.564   2517331    8702796\n",
       "chr19    9983666   76.920   2304249    7679417"
      ]
     },
     "execution_count": 57,
     "metadata": {},
     "output_type": "execute_result"
    }
   ],
   "source": [
    "moleculo_k21.sort('span', ascending=False).head(20)"
   ]
  },
  {
   "cell_type": "code",
   "execution_count": 58,
   "metadata": {
    "collapsed": false
   },
   "outputs": [
    {
     "data": {
      "text/plain": [
       "175847484.0"
      ]
     },
     "execution_count": 58,
     "metadata": {},
     "output_type": "execute_result"
    }
   ],
   "source": [
    "bases_mapped = moleculo_k21['span'].sum()\n",
    "bases_mapped"
   ]
  },
  {
   "cell_type": "code",
   "execution_count": 59,
   "metadata": {
    "collapsed": false
   },
   "outputs": [
    {
     "data": {
      "text/plain": [
       "0.1679645548817966"
      ]
     },
     "execution_count": 59,
     "metadata": {},
     "output_type": "execute_result"
    }
   ],
   "source": [
    "bases_mapped / bases_in_galGal4"
   ]
  },
  {
   "cell_type": "markdown",
   "metadata": {},
   "source": [
    "# Using k=13"
   ]
  },
  {
   "cell_type": "markdown",
   "metadata": {},
   "source": [
    "## Loading ref to graph"
   ]
  },
  {
   "cell_type": "code",
   "execution_count": 60,
   "metadata": {
    "collapsed": false
   },
   "outputs": [
    {
     "name": "stdout",
     "output_type": "stream",
     "text": [
      "wget -SNc ftp://hgdownload.cse.ucsc.edu/goldenPath/galGal4/bigZips/galGal4.fa.gz\r\n",
      "python fix_reference.py galGal4.fa.gz galGal4.fixed.fa.gz\r\n",
      "load-into-counting.py -k 13 -N 6 -x 5e7 galGal4.fixed.k13.kh galGal4.fixed.fa.gz\r\n",
      "../2015-experimental-graphalign/find-variant-by-align-long.py --trusted 1 galGal4.fixed.k13.kh /home/chick/galGal/inputs/moleculo/LR6000017-DNA_A01-LRAAA-1_LongRead.fastq.gz --variants-out variants-galGal4-fixed.txt > galGal4.fixed.k13.align.out\r\n"
     ]
    }
   ],
   "source": [
    "!cd ../2015-khmer-wok2-vc && make -Bn galGal4.fixed.k13.align.out"
   ]
  },
  {
   "cell_type": "code",
   "execution_count": 62,
   "metadata": {
    "collapsed": false
   },
   "outputs": [
    {
     "name": "stdout",
     "output_type": "stream",
     "text": [
      "289M ../2015-khmer-wok2-vc/galGal4.fixed.k13.kh\n",
      "through galGal4.fixed.fa.gz\n",
      "fp rate estimated to be 0.042\n",
      "\n"
     ]
    }
   ],
   "source": [
    "!ls -sh ../2015-khmer-wok2-vc/galGal4.fixed.k13.kh\n",
    "!cat ../2015-khmer-wok2-vc/galGal4.fixed.k13.kh.info"
   ]
  },
  {
   "cell_type": "code",
   "execution_count": 65,
   "metadata": {
    "collapsed": false
   },
   "outputs": [
    {
     "data": {
      "image/png": "[encoded data removed]",
      "text/plain": [
       "<matplotlib.figure.Figure at 0x7f88d5502d50>"
      ]
     },
     "metadata": {},
     "output_type": "display_data"
    },
    {
     "data": {
      "image/png": "[encoded data removed]",
      "text/plain": [
       "<matplotlib.figure.Figure at 0x7f88d3cc72d0>"
      ]
     },
     "metadata": {},
     "output_type": "display_data"
    }
   ],
   "source": [
    "galGal4_k13 = (check_align('../2015-khmer-wok2-vc/galGal4.fixed.k13.align.out',\n",
    "                          ranges=[(90, 100, 11), (98, 100, 11)],\n",
    "                          graph=\"galGa4\",\n",
    "                          query=\"moleculo\")\n",
    "               .query('span != 0'))"
   ]
  },
  {
   "cell_type": "code",
   "execution_count": 70,
   "metadata": {
    "collapsed": false
   },
   "outputs": [
    {
     "data": {
      "text/plain": [
       "end        199982\n",
       "percent    199982\n",
       "span       199982\n",
       "start      199982\n",
       "dtype: int64"
      ]
     },
     "execution_count": 70,
     "metadata": {},
     "output_type": "execute_result"
    }
   ],
   "source": [
    "galGal4_k13[galGal4_k13['percent'] > 90].count()"
   ]
  },
  {
   "cell_type": "code",
   "execution_count": 71,
   "metadata": {
    "collapsed": false
   },
   "outputs": [
    {
     "data": {
      "text/html": [
       "<div style=\"max-height:1000px;max-width:1500px;overflow:auto;\">\n",
       "<table border=\"1\" class=\"dataframe\">\n",
       "  <thead>\n",
       "    <tr style=\"text-align: right;\">\n",
       "      <th></th>\n",
       "      <th>end</th>\n",
       "      <th>percent</th>\n",
       "      <th>span</th>\n",
       "      <th>start</th>\n",
       "    </tr>\n",
       "  </thead>\n",
       "  <tbody>\n",
       "    <tr>\n",
       "      <th>Read_161742-Barcode=BC306-PIPELINE=Develop_T40</th>\n",
       "      <td>8685</td>\n",
       "      <td>95.797</td>\n",
       "      <td>365</td>\n",
       "      <td>8320</td>\n",
       "    </tr>\n",
       "    <tr>\n",
       "      <th>Read_71097-Barcode=BC131-PIPELINE=Develop_T40</th>\n",
       "      <td>8034</td>\n",
       "      <td>97.772</td>\n",
       "      <td>179</td>\n",
       "      <td>7855</td>\n",
       "    </tr>\n",
       "    <tr>\n",
       "      <th>Read_47161-Barcode=BC086-PIPELINE=Develop_T40</th>\n",
       "      <td>8626</td>\n",
       "      <td>98.354</td>\n",
       "      <td>142</td>\n",
       "      <td>8484</td>\n",
       "    </tr>\n",
       "    <tr>\n",
       "      <th>Read_152771-Barcode=BC288-PIPELINE=Develop_T40</th>\n",
       "      <td>10553</td>\n",
       "      <td>98.929</td>\n",
       "      <td>113</td>\n",
       "      <td>10440</td>\n",
       "    </tr>\n",
       "    <tr>\n",
       "      <th>Read_32528-Barcode=BC061-PIPELINE=Develop_T40</th>\n",
       "      <td>10012</td>\n",
       "      <td>98.891</td>\n",
       "      <td>111</td>\n",
       "      <td>9901</td>\n",
       "    </tr>\n",
       "    <tr>\n",
       "      <th>Read_38590-Barcode=BC071-PIPELINE=Develop_T40</th>\n",
       "      <td>7533</td>\n",
       "      <td>98.566</td>\n",
       "      <td>108</td>\n",
       "      <td>7425</td>\n",
       "    </tr>\n",
       "    <tr>\n",
       "      <th>Read_84214-Barcode=BC157-PIPELINE=Develop_T40</th>\n",
       "      <td>9065</td>\n",
       "      <td>98.820</td>\n",
       "      <td>107</td>\n",
       "      <td>8958</td>\n",
       "    </tr>\n",
       "    <tr>\n",
       "      <th>Read_16174-Barcode=BC031-PIPELINE=Develop_T40</th>\n",
       "      <td>10026</td>\n",
       "      <td>98.933</td>\n",
       "      <td>107</td>\n",
       "      <td>9919</td>\n",
       "    </tr>\n",
       "    <tr>\n",
       "      <th>Read_158314-Barcode=BC299-PIPELINE=Develop_T40</th>\n",
       "      <td>10875</td>\n",
       "      <td>99.034</td>\n",
       "      <td>105</td>\n",
       "      <td>10770</td>\n",
       "    </tr>\n",
       "    <tr>\n",
       "      <th>Read_107859-Barcode=BC202-PIPELINE=Develop_T40</th>\n",
       "      <td>11259</td>\n",
       "      <td>99.076</td>\n",
       "      <td>104</td>\n",
       "      <td>11155</td>\n",
       "    </tr>\n",
       "  </tbody>\n",
       "</table>\n",
       "</div>"
      ],
      "text/plain": [
       "                                                  end  percent  span  start\n",
       "Read_161742-Barcode=BC306-PIPELINE=Develop_T40   8685   95.797   365   8320\n",
       "Read_71097-Barcode=BC131-PIPELINE=Develop_T40    8034   97.772   179   7855\n",
       "Read_47161-Barcode=BC086-PIPELINE=Develop_T40    8626   98.354   142   8484\n",
       "Read_152771-Barcode=BC288-PIPELINE=Develop_T40  10553   98.929   113  10440\n",
       "Read_32528-Barcode=BC061-PIPELINE=Develop_T40   10012   98.891   111   9901\n",
       "Read_38590-Barcode=BC071-PIPELINE=Develop_T40    7533   98.566   108   7425\n",
       "Read_84214-Barcode=BC157-PIPELINE=Develop_T40    9065   98.820   107   8958\n",
       "Read_16174-Barcode=BC031-PIPELINE=Develop_T40   10026   98.933   107   9919\n",
       "Read_158314-Barcode=BC299-PIPELINE=Develop_T40  10875   99.034   105  10770\n",
       "Read_107859-Barcode=BC202-PIPELINE=Develop_T40  11259   99.076   104  11155"
      ]
     },
     "execution_count": 71,
     "metadata": {},
     "output_type": "execute_result"
    }
   ],
   "source": [
    "galGal4_k13.sort('span', ascending=False).head(10)"
   ]
  },
  {
   "cell_type": "code",
   "execution_count": 72,
   "metadata": {
    "collapsed": false
   },
   "outputs": [
    {
     "data": {
      "text/plain": [
       "5113009.0"
      ]
     },
     "execution_count": 72,
     "metadata": {},
     "output_type": "execute_result"
    }
   ],
   "source": [
    "bases_mapped = galGal4_k13['span'].sum()\n",
    "bases_mapped"
   ]
  },
  {
   "cell_type": "code",
   "execution_count": 73,
   "metadata": {
    "collapsed": false
   },
   "outputs": [
    {
     "data": {
      "text/plain": [
       "0.0048838019245792562"
      ]
     },
     "execution_count": 73,
     "metadata": {},
     "output_type": "execute_result"
    }
   ],
   "source": [
    "bases_mapped / bases_in_galGal4"
   ]
  },
  {
   "cell_type": "markdown",
   "metadata": {},
   "source": [
    "## Load moleculo to graph"
   ]
  },
  {
   "cell_type": "code",
   "execution_count": 49,
   "metadata": {
    "collapsed": false
   },
   "outputs": [
    {
     "name": "stdout",
     "output_type": "stream",
     "text": [
      "load-into-counting.py -k 13 -N 6 -x 5e7 moleculo.k13.kh /mnt/research/ged/irberlui/biodata/galGal/inputs/moleculo/LR6000017-DNA_A01-LRAAA-1_LongRead_500_1499nt.fastq.gz /mnt/research/ged/irberlui/biodata/galGal/inputs/moleculo/LR6000017-DNA_A01-LRAAA-1_LongRead.fastq.gz /mnt/research/ged/irberlui/biodata/galGal/inputs/moleculo/LR6000017-DNA_A01-LRAAA-2_LongRead_500_1499nt.fastq.gz /mnt/research/ged/irberlui/biodata/galGal/inputs/moleculo/LR6000017-DNA_A01-LRAAA-2_LongRead.fastq.gz /mnt/research/ged/irberlui/biodata/galGal/inputs/moleculo/LR6000017-DNA_A01-LRAAA-3_LongRead_500_1499nt.fastq.gz /mnt/research/ged/irberlui/biodata/galGal/inputs/moleculo/LR6000017-DNA_A01-LRAAA-3_LongRead.fastq.gz /mnt/research/ged/irberlui/biodata/galGal/inputs/moleculo/LR6000017-DNA_A01-LRAAA-4_LongRead_500_1499nt.fastq.gz /mnt/research/ged/irberlui/biodata/galGal/inputs/moleculo/LR6000017-DNA_A01-LRAAA-4_LongRead.fastq.gz /mnt/research/ged/irberlui/biodata/galGal/inputs/moleculo/LR6000017-DNA_A01-LRAAA-5_LongRead_500_1499nt.fastq.gz /mnt/research/ged/irberlui/biodata/galGal/inputs/moleculo/LR6000017-DNA_A01-LRAAA-5_LongRead.fastq.gz\r\n",
      "wget -SNc ftp://hgdownload.cse.ucsc.edu/goldenPath/galGal4/bigZips/galGal4.fa.gz\r\n",
      "python fix_reference.py galGal4.fa.gz galGal4.fixed.fa.gz\r\n",
      "../2015-experimental-graphalign/find-variant-by-align-long.py --trusted 5 moleculo.k13.kh galGal4.fixed.fa.gz --variants-out variants-galGal4-fixed.txt > moleculo.k13.align.out\r\n"
     ]
    }
   ],
   "source": [
    "!cd ../2015-khmer-wok2-vc && make -Bn moleculo.k13.align.out"
   ]
  },
  {
   "cell_type": "code",
   "execution_count": 50,
   "metadata": {
    "collapsed": false
   },
   "outputs": [
    {
     "name": "stdout",
     "output_type": "stream",
     "text": [
      "280M ../2015-khmer-wok2-vc/moleculo.k13.kh\n",
      "through /mnt/research/ged/irberlui/biodata/galGal/inputs/moleculo/LR6000017-DNA_A01-LRAAA-1_LongRead_500_1499nt.fastq.gz\n",
      "through /mnt/research/ged/irberlui/biodata/galGal/inputs/moleculo/LR6000017-DNA_A01-LRAAA-1_LongRead.fastq.gz\n",
      "through /mnt/research/ged/irberlui/biodata/galGal/inputs/moleculo/LR6000017-DNA_A01-LRAAA-2_LongRead_500_1499nt.fastq.gz\n",
      "through /mnt/research/ged/irberlui/biodata/galGal/inputs/moleculo/LR6000017-DNA_A01-LRAAA-2_LongRead.fastq.gz\n",
      "through /mnt/research/ged/irberlui/biodata/galGal/inputs/moleculo/LR6000017-DNA_A01-LRAAA-3_LongRead_500_1499nt.fastq.gz\n",
      "through /mnt/research/ged/irberlui/biodata/galGal/inputs/moleculo/LR6000017-DNA_A01-LRAAA-3_LongRead.fastq.gz\n",
      "through /mnt/research/ged/irberlui/biodata/galGal/inputs/moleculo/LR6000017-DNA_A01-LRAAA-4_LongRead_500_1499nt.fastq.gz\n",
      "through /mnt/research/ged/irberlui/biodata/galGal/inputs/moleculo/LR6000017-DNA_A01-LRAAA-4_LongRead.fastq.gz\n",
      "through /mnt/research/ged/irberlui/biodata/galGal/inputs/moleculo/LR6000017-DNA_A01-LRAAA-5_LongRead_500_1499nt.fastq.gz\n",
      "through /mnt/research/ged/irberlui/biodata/galGal/inputs/moleculo/LR6000017-DNA_A01-LRAAA-5_LongRead.fastq.gz\n",
      "fp rate estimated to be 0.037\n",
      "\n"
     ]
    }
   ],
   "source": [
    "!ls -sh ../2015-khmer-wok2-vc/moleculo.k13.kh\n",
    "!cat ../2015-khmer-wok2-vc/moleculo.k13.kh.info"
   ]
  },
  {
   "cell_type": "code",
   "execution_count": 74,
   "metadata": {
    "collapsed": false
   },
   "outputs": [
    {
     "data": {
      "image/png": "[encoded data removed]",
      "text/plain": [
       "<matplotlib.figure.Figure at 0x7f88d3205190>"
      ]
     },
     "metadata": {},
     "output_type": "display_data"
    },
    {
     "data": {
      "image/png": "[encoded data removed]",
      "text/plain": [
       "<matplotlib.figure.Figure at 0x7f88d2883a50>"
      ]
     },
     "metadata": {},
     "output_type": "display_data"
    }
   ],
   "source": [
    "moleculo_k13 = (check_align('../2015-khmer-wok2-vc/moleculo.k13.align.out',\n",
    "                           ranges=[(90, 100, 11), (98, 100, 11)],\n",
    "                           graph=\"moleculo\",\n",
    "                           query=\"galGal4\")\n",
    "                .query('span != 0'))"
   ]
  },
  {
   "cell_type": "code",
   "execution_count": 75,
   "metadata": {
    "collapsed": false
   },
   "outputs": [
    {
     "data": {
      "text/plain": [
       "end        15285\n",
       "percent    15285\n",
       "span       15285\n",
       "start      15285\n",
       "dtype: int64"
      ]
     },
     "execution_count": 75,
     "metadata": {},
     "output_type": "execute_result"
    }
   ],
   "source": [
    "moleculo_k13[moleculo_k13['percent'] > 90].count()"
   ]
  },
  {
   "cell_type": "code",
   "execution_count": 76,
   "metadata": {
    "collapsed": false
   },
   "outputs": [
    {
     "data": {
      "text/html": [
       "<div style=\"max-height:1000px;max-width:1500px;overflow:auto;\">\n",
       "<table border=\"1\" class=\"dataframe\">\n",
       "  <thead>\n",
       "    <tr style=\"text-align: right;\">\n",
       "      <th></th>\n",
       "      <th>end</th>\n",
       "      <th>percent</th>\n",
       "      <th>span</th>\n",
       "      <th>start</th>\n",
       "    </tr>\n",
       "  </thead>\n",
       "  <tbody>\n",
       "    <tr>\n",
       "      <th>chr1</th>\n",
       "      <td>195277456</td>\n",
       "      <td>99.541</td>\n",
       "      <td>897148</td>\n",
       "      <td>194380308</td>\n",
       "    </tr>\n",
       "    <tr>\n",
       "      <th>chr2</th>\n",
       "      <td>148810343</td>\n",
       "      <td>99.537</td>\n",
       "      <td>688344</td>\n",
       "      <td>148121999</td>\n",
       "    </tr>\n",
       "    <tr>\n",
       "      <th>chr3</th>\n",
       "      <td>110448236</td>\n",
       "      <td>99.536</td>\n",
       "      <td>512966</td>\n",
       "      <td>109935270</td>\n",
       "    </tr>\n",
       "    <tr>\n",
       "      <th>chrZ</th>\n",
       "      <td>82364065</td>\n",
       "      <td>99.471</td>\n",
       "      <td>436047</td>\n",
       "      <td>81928018</td>\n",
       "    </tr>\n",
       "    <tr>\n",
       "      <th>chr4</th>\n",
       "      <td>90217241</td>\n",
       "      <td>99.523</td>\n",
       "      <td>430001</td>\n",
       "      <td>89787240</td>\n",
       "    </tr>\n",
       "    <tr>\n",
       "      <th>chr5</th>\n",
       "      <td>59580772</td>\n",
       "      <td>99.498</td>\n",
       "      <td>299199</td>\n",
       "      <td>59281573</td>\n",
       "    </tr>\n",
       "    <tr>\n",
       "      <th>chr7</th>\n",
       "      <td>36245288</td>\n",
       "      <td>99.499</td>\n",
       "      <td>181615</td>\n",
       "      <td>36063673</td>\n",
       "    </tr>\n",
       "    <tr>\n",
       "      <th>chr6</th>\n",
       "      <td>34951876</td>\n",
       "      <td>99.504</td>\n",
       "      <td>173306</td>\n",
       "      <td>34778570</td>\n",
       "    </tr>\n",
       "    <tr>\n",
       "      <th>chr8</th>\n",
       "      <td>28767456</td>\n",
       "      <td>99.475</td>\n",
       "      <td>150979</td>\n",
       "      <td>28616477</td>\n",
       "    </tr>\n",
       "    <tr>\n",
       "      <th>chr9</th>\n",
       "      <td>23441905</td>\n",
       "      <td>99.471</td>\n",
       "      <td>123908</td>\n",
       "      <td>23317997</td>\n",
       "    </tr>\n",
       "    <tr>\n",
       "      <th>chr10</th>\n",
       "      <td>19911297</td>\n",
       "      <td>99.439</td>\n",
       "      <td>111725</td>\n",
       "      <td>19799572</td>\n",
       "    </tr>\n",
       "    <tr>\n",
       "      <th>chr11</th>\n",
       "      <td>19401252</td>\n",
       "      <td>99.450</td>\n",
       "      <td>106718</td>\n",
       "      <td>19294534</td>\n",
       "    </tr>\n",
       "    <tr>\n",
       "      <th>chr12</th>\n",
       "      <td>19897197</td>\n",
       "      <td>99.477</td>\n",
       "      <td>104012</td>\n",
       "      <td>19793185</td>\n",
       "    </tr>\n",
       "    <tr>\n",
       "      <th>chr13</th>\n",
       "      <td>17760198</td>\n",
       "      <td>99.438</td>\n",
       "      <td>99743</td>\n",
       "      <td>17660455</td>\n",
       "    </tr>\n",
       "    <tr>\n",
       "      <th>chr14</th>\n",
       "      <td>15161993</td>\n",
       "      <td>99.409</td>\n",
       "      <td>89573</td>\n",
       "      <td>15072420</td>\n",
       "    </tr>\n",
       "    <tr>\n",
       "      <th>chr20</th>\n",
       "      <td>14302735</td>\n",
       "      <td>99.417</td>\n",
       "      <td>83367</td>\n",
       "      <td>14219368</td>\n",
       "    </tr>\n",
       "    <tr>\n",
       "      <th>chr15</th>\n",
       "      <td>12656954</td>\n",
       "      <td>99.405</td>\n",
       "      <td>75292</td>\n",
       "      <td>12581662</td>\n",
       "    </tr>\n",
       "    <tr>\n",
       "      <th>chr18</th>\n",
       "      <td>11220008</td>\n",
       "      <td>99.378</td>\n",
       "      <td>69777</td>\n",
       "      <td>11150231</td>\n",
       "    </tr>\n",
       "    <tr>\n",
       "      <th>chr17</th>\n",
       "      <td>10454273</td>\n",
       "      <td>99.348</td>\n",
       "      <td>68158</td>\n",
       "      <td>10386115</td>\n",
       "    </tr>\n",
       "    <tr>\n",
       "      <th>chr19</th>\n",
       "      <td>9983522</td>\n",
       "      <td>99.351</td>\n",
       "      <td>64810</td>\n",
       "      <td>9918712</td>\n",
       "    </tr>\n",
       "  </tbody>\n",
       "</table>\n",
       "</div>"
      ],
      "text/plain": [
       "             end  percent    span      start\n",
       "chr1   195277456   99.541  897148  194380308\n",
       "chr2   148810343   99.537  688344  148121999\n",
       "chr3   110448236   99.536  512966  109935270\n",
       "chrZ    82364065   99.471  436047   81928018\n",
       "chr4    90217241   99.523  430001   89787240\n",
       "chr5    59580772   99.498  299199   59281573\n",
       "chr7    36245288   99.499  181615   36063673\n",
       "chr6    34951876   99.504  173306   34778570\n",
       "chr8    28767456   99.475  150979   28616477\n",
       "chr9    23441905   99.471  123908   23317997\n",
       "chr10   19911297   99.439  111725   19799572\n",
       "chr11   19401252   99.450  106718   19294534\n",
       "chr12   19897197   99.477  104012   19793185\n",
       "chr13   17760198   99.438   99743   17660455\n",
       "chr14   15161993   99.409   89573   15072420\n",
       "chr20   14302735   99.417   83367   14219368\n",
       "chr15   12656954   99.405   75292   12581662\n",
       "chr18   11220008   99.378   69777   11150231\n",
       "chr17   10454273   99.348   68158   10386115\n",
       "chr19    9983522   99.351   64810    9918712"
      ]
     },
     "execution_count": 76,
     "metadata": {},
     "output_type": "execute_result"
    }
   ],
   "source": [
    "moleculo_k13.sort('span', ascending=False).head(20)"
   ]
  },
  {
   "cell_type": "code",
   "execution_count": 77,
   "metadata": {
    "collapsed": false
   },
   "outputs": [
    {
     "data": {
      "text/plain": [
       "5478913.0"
      ]
     },
     "execution_count": 77,
     "metadata": {},
     "output_type": "execute_result"
    }
   ],
   "source": [
    "bases_mapped = moleculo_k13['span'].sum()\n",
    "bases_mapped"
   ]
  },
  {
   "cell_type": "code",
   "execution_count": 78,
   "metadata": {
    "collapsed": false
   },
   "outputs": [
    {
     "data": {
      "text/plain": [
       "0.0052333031007773126"
      ]
     },
     "execution_count": 78,
     "metadata": {},
     "output_type": "execute_result"
    }
   ],
   "source": [
    "bases_mapped / bases_in_galGal4"
   ]
  },
  {
   "cell_type": "markdown",
   "metadata": {},
   "source": [
    "## Aligning PacBio to moleculo graph"
   ]
  },
  {
   "cell_type": "code",
   "execution_count": 113,
   "metadata": {
    "collapsed": false
   },
   "outputs": [
    {
     "data": {
      "image/png": "[encoded data removed]",
      "text/plain": [
       "<matplotlib.figure.Figure at 0x7f88d4b941d0>"
      ]
     },
     "metadata": {},
     "output_type": "display_data"
    },
    {
     "data": {
      "image/png": "[encoded data removed]",
      "text/plain": [
       "<matplotlib.figure.Figure at 0x7f88c5395650>"
      ]
     },
     "metadata": {},
     "output_type": "display_data"
    }
   ],
   "source": [
    "moleculo_k13_pacbio = (check_align('../2015-khmer-wok2-vc/moleculo.k13.align.pacbio',\n",
    "                                  ranges=[(90, 100, 11), (95, 100, 11)],\n",
    "                                  graph=\"moleculo\",\n",
    "                                  query=\"PacBio\")\n",
    "                       .query('span != 0'))"
   ]
  },
  {
   "cell_type": "code",
   "execution_count": 114,
   "metadata": {
    "collapsed": false
   },
   "outputs": [
    {
     "data": {
      "text/plain": [
       "end        6319956\n",
       "percent    6319956\n",
       "span       6319956\n",
       "start      6319956\n",
       "dtype: int64"
      ]
     },
     "execution_count": 114,
     "metadata": {},
     "output_type": "execute_result"
    }
   ],
   "source": [
    "moleculo_k13_pacbio[moleculo_k13_pacbio['percent'] > 90].count()"
   ]
  },
  {
   "cell_type": "code",
   "execution_count": 115,
   "metadata": {
    "collapsed": false
   },
   "outputs": [
    {
     "data": {
      "text/html": [
       "<div style=\"max-height:1000px;max-width:1500px;overflow:auto;\">\n",
       "<table border=\"1\" class=\"dataframe\">\n",
       "  <thead>\n",
       "    <tr style=\"text-align: right;\">\n",
       "      <th></th>\n",
       "      <th>end</th>\n",
       "      <th>percent</th>\n",
       "      <th>span</th>\n",
       "      <th>start</th>\n",
       "    </tr>\n",
       "  </thead>\n",
       "  <tbody>\n",
       "    <tr>\n",
       "      <th>m141113_041345_00116_c100718302550000001823144805141582_s1_p0/104551/1693_26111</th>\n",
       "      <td>24439</td>\n",
       "      <td>92.041</td>\n",
       "      <td>1945</td>\n",
       "      <td>22494</td>\n",
       "    </tr>\n",
       "    <tr>\n",
       "      <th>m141113_171124_00116_c100718302550000001823144805141585_s1_p0/82256/1658_26566</th>\n",
       "      <td>24931</td>\n",
       "      <td>93.229</td>\n",
       "      <td>1688</td>\n",
       "      <td>23243</td>\n",
       "    </tr>\n",
       "    <tr>\n",
       "      <th>m141126_010828_00116_c100676372550000001823144002221546_s1_p0/51552/1810_23402</th>\n",
       "      <td>21616</td>\n",
       "      <td>92.598</td>\n",
       "      <td>1600</td>\n",
       "      <td>20016</td>\n",
       "    </tr>\n",
       "    <tr>\n",
       "      <th>m140626_085306_00116_c100661912550000001823125811271484_s1_p0/16982/0_21206</th>\n",
       "      <td>21221</td>\n",
       "      <td>92.639</td>\n",
       "      <td>1562</td>\n",
       "      <td>19659</td>\n",
       "    </tr>\n",
       "    <tr>\n",
       "      <th>m141204_210548_00116_c100686412550000001823135002281586_s1_p0/119934/0_22558</th>\n",
       "      <td>22571</td>\n",
       "      <td>93.190</td>\n",
       "      <td>1537</td>\n",
       "      <td>21034</td>\n",
       "    </tr>\n",
       "    <tr>\n",
       "      <th>m141114_015447_00116_c100718302550000001823144805141587_s1_p0/24474/0_38479</th>\n",
       "      <td>38485</td>\n",
       "      <td>96.027</td>\n",
       "      <td>1529</td>\n",
       "      <td>36956</td>\n",
       "    </tr>\n",
       "    <tr>\n",
       "      <th>m141113_171124_00116_c100718302550000001823144805141585_s1_p0/91513/2562_22622</th>\n",
       "      <td>20079</td>\n",
       "      <td>92.410</td>\n",
       "      <td>1524</td>\n",
       "      <td>18555</td>\n",
       "    </tr>\n",
       "    <tr>\n",
       "      <th>m140626_053156_00116_c100661912550000001823125811271483_s1_p0/109160/0_18912</th>\n",
       "      <td>18928</td>\n",
       "      <td>91.959</td>\n",
       "      <td>1522</td>\n",
       "      <td>17406</td>\n",
       "    </tr>\n",
       "    <tr>\n",
       "      <th>m141125_120659_00116_c100676372550000001823144002221543_s1_p0/161033/0_21613</th>\n",
       "      <td>21626</td>\n",
       "      <td>93.032</td>\n",
       "      <td>1507</td>\n",
       "      <td>20119</td>\n",
       "    </tr>\n",
       "    <tr>\n",
       "      <th>m141120_044828_00116_c100698992550000001823142903261562_s1_p0/61048/0_19359</th>\n",
       "      <td>19373</td>\n",
       "      <td>92.293</td>\n",
       "      <td>1493</td>\n",
       "      <td>17880</td>\n",
       "    </tr>\n",
       "    <tr>\n",
       "      <th>m141120_090727_00116_c100698992550000001823142903261563_s1_p0/22242/2089_21606</th>\n",
       "      <td>19529</td>\n",
       "      <td>92.432</td>\n",
       "      <td>1478</td>\n",
       "      <td>18051</td>\n",
       "    </tr>\n",
       "    <tr>\n",
       "      <th>m140626_053156_00116_c100661912550000001823125811271483_s1_p0/25767/0_18173</th>\n",
       "      <td>18191</td>\n",
       "      <td>92.122</td>\n",
       "      <td>1433</td>\n",
       "      <td>16758</td>\n",
       "    </tr>\n",
       "    <tr>\n",
       "      <th>m140625_225314_00116_c100661912550000001823125811271481_s1_p0/136391/398_19460</th>\n",
       "      <td>19077</td>\n",
       "      <td>92.567</td>\n",
       "      <td>1418</td>\n",
       "      <td>17659</td>\n",
       "    </tr>\n",
       "    <tr>\n",
       "      <th>m140626_053156_00116_c100661912550000001823125811271483_s1_p0/11167/0_21958</th>\n",
       "      <td>21974</td>\n",
       "      <td>93.647</td>\n",
       "      <td>1396</td>\n",
       "      <td>20578</td>\n",
       "    </tr>\n",
       "    <tr>\n",
       "      <th>m140708_201611_00116_c100661832550000001823125811271496_s1_p0/43462/0_19007</th>\n",
       "      <td>19021</td>\n",
       "      <td>92.719</td>\n",
       "      <td>1385</td>\n",
       "      <td>17636</td>\n",
       "    </tr>\n",
       "    <tr>\n",
       "      <th>m141204_122351_00116_c100686412550000001823135002281584_s1_p0/88323/3865_24146</th>\n",
       "      <td>20291</td>\n",
       "      <td>93.179</td>\n",
       "      <td>1384</td>\n",
       "      <td>18907</td>\n",
       "    </tr>\n",
       "    <tr>\n",
       "      <th>m141205_012422_00116_c100686412550000001823135002281587_s1_p0/142223/17358_34087</th>\n",
       "      <td>16745</td>\n",
       "      <td>91.801</td>\n",
       "      <td>1373</td>\n",
       "      <td>15372</td>\n",
       "    </tr>\n",
       "    <tr>\n",
       "      <th>m141125_204505_00116_c100676372550000001823144002221545_s1_p0/16970/0_30727</th>\n",
       "      <td>30733</td>\n",
       "      <td>95.539</td>\n",
       "      <td>1371</td>\n",
       "      <td>29362</td>\n",
       "    </tr>\n",
       "    <tr>\n",
       "      <th>m141125_120659_00116_c100676372550000001823144002221543_s1_p0/47905/475_20360</th>\n",
       "      <td>19909</td>\n",
       "      <td>93.119</td>\n",
       "      <td>1370</td>\n",
       "      <td>18539</td>\n",
       "    </tr>\n",
       "    <tr>\n",
       "      <th>m140626_053156_00116_c100661912550000001823125811271483_s1_p0/59366/0_23085</th>\n",
       "      <td>23102</td>\n",
       "      <td>94.096</td>\n",
       "      <td>1364</td>\n",
       "      <td>21738</td>\n",
       "    </tr>\n",
       "  </tbody>\n",
       "</table>\n",
       "</div>"
      ],
      "text/plain": [
       "                                                      end  percent  span  \\\n",
       "m141113_041345_00116_c1007183025500000018231448...  24439   92.041  1945   \n",
       "m141113_171124_00116_c1007183025500000018231448...  24931   93.229  1688   \n",
       "m141126_010828_00116_c1006763725500000018231440...  21616   92.598  1600   \n",
       "m140626_085306_00116_c1006619125500000018231258...  21221   92.639  1562   \n",
       "m141204_210548_00116_c1006864125500000018231350...  22571   93.190  1537   \n",
       "m141114_015447_00116_c1007183025500000018231448...  38485   96.027  1529   \n",
       "m141113_171124_00116_c1007183025500000018231448...  20079   92.410  1524   \n",
       "m140626_053156_00116_c1006619125500000018231258...  18928   91.959  1522   \n",
       "m141125_120659_00116_c1006763725500000018231440...  21626   93.032  1507   \n",
       "m141120_044828_00116_c1006989925500000018231429...  19373   92.293  1493   \n",
       "m141120_090727_00116_c1006989925500000018231429...  19529   92.432  1478   \n",
       "m140626_053156_00116_c1006619125500000018231258...  18191   92.122  1433   \n",
       "m140625_225314_00116_c1006619125500000018231258...  19077   92.567  1418   \n",
       "m140626_053156_00116_c1006619125500000018231258...  21974   93.647  1396   \n",
       "m140708_201611_00116_c1006618325500000018231258...  19021   92.719  1385   \n",
       "m141204_122351_00116_c1006864125500000018231350...  20291   93.179  1384   \n",
       "m141205_012422_00116_c1006864125500000018231350...  16745   91.801  1373   \n",
       "m141125_204505_00116_c1006763725500000018231440...  30733   95.539  1371   \n",
       "m141125_120659_00116_c1006763725500000018231440...  19909   93.119  1370   \n",
       "m140626_053156_00116_c1006619125500000018231258...  23102   94.096  1364   \n",
       "\n",
       "                                                    start  \n",
       "m141113_041345_00116_c1007183025500000018231448...  22494  \n",
       "m141113_171124_00116_c1007183025500000018231448...  23243  \n",
       "m141126_010828_00116_c1006763725500000018231440...  20016  \n",
       "m140626_085306_00116_c1006619125500000018231258...  19659  \n",
       "m141204_210548_00116_c1006864125500000018231350...  21034  \n",
       "m141114_015447_00116_c1007183025500000018231448...  36956  \n",
       "m141113_171124_00116_c1007183025500000018231448...  18555  \n",
       "m140626_053156_00116_c1006619125500000018231258...  17406  \n",
       "m141125_120659_00116_c1006763725500000018231440...  20119  \n",
       "m141120_044828_00116_c1006989925500000018231429...  17880  \n",
       "m141120_090727_00116_c1006989925500000018231429...  18051  \n",
       "m140626_053156_00116_c1006619125500000018231258...  16758  \n",
       "m140625_225314_00116_c1006619125500000018231258...  17659  \n",
       "m140626_053156_00116_c1006619125500000018231258...  20578  \n",
       "m140708_201611_00116_c1006618325500000018231258...  17636  \n",
       "m141204_122351_00116_c1006864125500000018231350...  18907  \n",
       "m141205_012422_00116_c1006864125500000018231350...  15372  \n",
       "m141125_204505_00116_c1006763725500000018231440...  29362  \n",
       "m141125_120659_00116_c1006763725500000018231440...  18539  \n",
       "m140626_053156_00116_c1006619125500000018231258...  21738  "
      ]
     },
     "execution_count": 115,
     "metadata": {},
     "output_type": "execute_result"
    }
   ],
   "source": [
    "moleculo_k13_pacbio.sort('span', ascending=False).head(20)"
   ]
  },
  {
   "cell_type": "code",
   "execution_count": 116,
   "metadata": {
    "collapsed": false
   },
   "outputs": [
    {
     "data": {
      "text/plain": [
       "513894604.0"
      ]
     },
     "execution_count": 116,
     "metadata": {},
     "output_type": "execute_result"
    }
   ],
   "source": [
    "bases_mapped = moleculo_k13_pacbio['span'].sum()\n",
    "bases_mapped"
   ]
  },
  {
   "cell_type": "code",
   "execution_count": 117,
   "metadata": {
    "collapsed": false
   },
   "outputs": [
    {
     "data": {
      "text/plain": [
       "0.49085762533296823"
      ]
     },
     "execution_count": 117,
     "metadata": {},
     "output_type": "execute_result"
    }
   ],
   "source": [
    "bases_mapped / bases_in_galGal4"
   ]
  },
  {
   "cell_type": "markdown",
   "metadata": {},
   "source": [
    "## Aligning PacBio to galGal4 graph"
   ]
  },
  {
   "cell_type": "code",
   "execution_count": 118,
   "metadata": {
    "collapsed": false
   },
   "outputs": [
    {
     "data": {
      "image/png": "[encoded data removed]",
      "text/plain": [
       "<matplotlib.figure.Figure at 0x7f88bcc87f50>"
      ]
     },
     "metadata": {},
     "output_type": "display_data"
    },
    {
     "data": {
      "image/png": "[encoded data removed]",
      "text/plain": [
       "<matplotlib.figure.Figure at 0x7f88d05597d0>"
      ]
     },
     "metadata": {},
     "output_type": "display_data"
    }
   ],
   "source": [
    "galGal4_k13_pacbio = (check_align('../2015-khmer-wok2-vc/galGal4.fixed.k13.align.pacbio',\n",
    "                                  ranges=[(90, 100, 11), (95, 100, 11)],\n",
    "                                  graph=\"galGal4\",\n",
    "                                  query=\"PacBio\")\n",
    "                       .query('span != 0'))"
   ]
  },
  {
   "cell_type": "code",
   "execution_count": 119,
   "metadata": {
    "collapsed": false
   },
   "outputs": [
    {
     "data": {
      "text/plain": [
       "end        11387949\n",
       "percent    11387949\n",
       "span       11387949\n",
       "start      11387949\n",
       "dtype: int64"
      ]
     },
     "execution_count": 119,
     "metadata": {},
     "output_type": "execute_result"
    }
   ],
   "source": [
    "galGal4_k13_pacbio[galGal4_k13_pacbio['percent'] > 90].count()"
   ]
  },
  {
   "cell_type": "code",
   "execution_count": 120,
   "metadata": {
    "collapsed": false
   },
   "outputs": [
    {
     "data": {
      "text/html": [
       "<div style=\"max-height:1000px;max-width:1500px;overflow:auto;\">\n",
       "<table border=\"1\" class=\"dataframe\">\n",
       "  <thead>\n",
       "    <tr style=\"text-align: right;\">\n",
       "      <th></th>\n",
       "      <th>end</th>\n",
       "      <th>percent</th>\n",
       "      <th>span</th>\n",
       "      <th>start</th>\n",
       "    </tr>\n",
       "  </thead>\n",
       "  <tbody>\n",
       "    <tr>\n",
       "      <th>m140625_193459_00116_c100661912550000001823125811271480_s1_p0/57115/0_24428</th>\n",
       "      <td>24450</td>\n",
       "      <td>94.699</td>\n",
       "      <td>1296</td>\n",
       "      <td>23154</td>\n",
       "    </tr>\n",
       "    <tr>\n",
       "      <th>m140626_085306_00116_c100661912550000001823125811271484_s1_p0/16982/0_21206</th>\n",
       "      <td>21215</td>\n",
       "      <td>94.584</td>\n",
       "      <td>1149</td>\n",
       "      <td>20066</td>\n",
       "    </tr>\n",
       "    <tr>\n",
       "      <th>m141114_015447_00116_c100718302550000001823144805141587_s1_p0/24474/0_38479</th>\n",
       "      <td>38486</td>\n",
       "      <td>97.209</td>\n",
       "      <td>1074</td>\n",
       "      <td>37412</td>\n",
       "    </tr>\n",
       "    <tr>\n",
       "      <th>m141119_201023_00116_c100698992550000001823142903261560_s1_p0/110780/369_23468</th>\n",
       "      <td>23104</td>\n",
       "      <td>95.364</td>\n",
       "      <td>1071</td>\n",
       "      <td>22033</td>\n",
       "    </tr>\n",
       "    <tr>\n",
       "      <th>m140626_053156_00116_c100661912550000001823125811271483_s1_p0/25767/0_18173</th>\n",
       "      <td>18179</td>\n",
       "      <td>94.109</td>\n",
       "      <td>1071</td>\n",
       "      <td>17108</td>\n",
       "    </tr>\n",
       "    <tr>\n",
       "      <th>m140626_053156_00116_c100661912550000001823125811271483_s1_p0/59366/0_23085</th>\n",
       "      <td>23091</td>\n",
       "      <td>95.461</td>\n",
       "      <td>1048</td>\n",
       "      <td>22043</td>\n",
       "    </tr>\n",
       "    <tr>\n",
       "      <th>m141126_010828_00116_c100676372550000001823144002221546_s1_p0/55087/0_23229</th>\n",
       "      <td>23238</td>\n",
       "      <td>95.744</td>\n",
       "      <td>989</td>\n",
       "      <td>22249</td>\n",
       "    </tr>\n",
       "    <tr>\n",
       "      <th>m141126_010828_00116_c100676372550000001823144002221546_s1_p0/61768/0_26040</th>\n",
       "      <td>26043</td>\n",
       "      <td>96.291</td>\n",
       "      <td>966</td>\n",
       "      <td>25077</td>\n",
       "    </tr>\n",
       "    <tr>\n",
       "      <th>m140626_185518_00116_c100661912550000001823125811271487_s1_p0/152966/0_22736</th>\n",
       "      <td>22741</td>\n",
       "      <td>95.853</td>\n",
       "      <td>943</td>\n",
       "      <td>21798</td>\n",
       "    </tr>\n",
       "    <tr>\n",
       "      <th>m141207_022214_00116_c100681682550000001823133202281567_s1_p0/9379/870_33123</th>\n",
       "      <td>32254</td>\n",
       "      <td>97.079</td>\n",
       "      <td>942</td>\n",
       "      <td>31312</td>\n",
       "    </tr>\n",
       "    <tr>\n",
       "      <th>m140708_165234_00116_c100661832550000001823125811271495_s1_p0/48767/0_27522</th>\n",
       "      <td>27527</td>\n",
       "      <td>96.669</td>\n",
       "      <td>917</td>\n",
       "      <td>26610</td>\n",
       "    </tr>\n",
       "    <tr>\n",
       "      <th>m140708_165234_00116_c100661832550000001823125811271495_s1_p0/36612/308_26533</th>\n",
       "      <td>26227</td>\n",
       "      <td>96.565</td>\n",
       "      <td>901</td>\n",
       "      <td>25326</td>\n",
       "    </tr>\n",
       "    <tr>\n",
       "      <th>m140708_165234_00116_c100661832550000001823125811271495_s1_p0/8886/1122_27288</th>\n",
       "      <td>26172</td>\n",
       "      <td>96.649</td>\n",
       "      <td>877</td>\n",
       "      <td>25295</td>\n",
       "    </tr>\n",
       "    <tr>\n",
       "      <th>m140708_165234_00116_c100661832550000001823125811271495_s1_p0/29813/0_27505</th>\n",
       "      <td>27510</td>\n",
       "      <td>96.823</td>\n",
       "      <td>874</td>\n",
       "      <td>26636</td>\n",
       "    </tr>\n",
       "    <tr>\n",
       "      <th>m140708_165234_00116_c100661832550000001823125811271495_s1_p0/10948/0_28883</th>\n",
       "      <td>28885</td>\n",
       "      <td>97.012</td>\n",
       "      <td>863</td>\n",
       "      <td>28022</td>\n",
       "    </tr>\n",
       "    <tr>\n",
       "      <th>m141113_083301_00116_c100718302550000001823144805141583_s1_p0/137644/0_22336</th>\n",
       "      <td>22339</td>\n",
       "      <td>96.164</td>\n",
       "      <td>857</td>\n",
       "      <td>21482</td>\n",
       "    </tr>\n",
       "    <tr>\n",
       "      <th>m141125_074745_00116_c100676372550000001823144002221542_s1_p0/147240/0_15820</th>\n",
       "      <td>15826</td>\n",
       "      <td>94.648</td>\n",
       "      <td>847</td>\n",
       "      <td>14979</td>\n",
       "    </tr>\n",
       "    <tr>\n",
       "      <th>m140626_121503_00116_c100661912550000001823125811271485_s1_p0/33746/355_20954</th>\n",
       "      <td>20613</td>\n",
       "      <td>95.915</td>\n",
       "      <td>842</td>\n",
       "      <td>19771</td>\n",
       "    </tr>\n",
       "    <tr>\n",
       "      <th>m141204_034525_00116_c100686412550000001823135002281582_s1_p0/13163/230_22215</th>\n",
       "      <td>21992</td>\n",
       "      <td>96.180</td>\n",
       "      <td>840</td>\n",
       "      <td>21152</td>\n",
       "    </tr>\n",
       "    <tr>\n",
       "      <th>m141113_041345_00116_c100718302550000001823144805141582_s1_p0/91359/1452_25250</th>\n",
       "      <td>23803</td>\n",
       "      <td>96.479</td>\n",
       "      <td>838</td>\n",
       "      <td>22965</td>\n",
       "    </tr>\n",
       "  </tbody>\n",
       "</table>\n",
       "</div>"
      ],
      "text/plain": [
       "                                                      end  percent  span  \\\n",
       "m140625_193459_00116_c1006619125500000018231258...  24450   94.699  1296   \n",
       "m140626_085306_00116_c1006619125500000018231258...  21215   94.584  1149   \n",
       "m141114_015447_00116_c1007183025500000018231448...  38486   97.209  1074   \n",
       "m141119_201023_00116_c1006989925500000018231429...  23104   95.364  1071   \n",
       "m140626_053156_00116_c1006619125500000018231258...  18179   94.109  1071   \n",
       "m140626_053156_00116_c1006619125500000018231258...  23091   95.461  1048   \n",
       "m141126_010828_00116_c1006763725500000018231440...  23238   95.744   989   \n",
       "m141126_010828_00116_c1006763725500000018231440...  26043   96.291   966   \n",
       "m140626_185518_00116_c1006619125500000018231258...  22741   95.853   943   \n",
       "m141207_022214_00116_c1006816825500000018231332...  32254   97.079   942   \n",
       "m140708_165234_00116_c1006618325500000018231258...  27527   96.669   917   \n",
       "m140708_165234_00116_c1006618325500000018231258...  26227   96.565   901   \n",
       "m140708_165234_00116_c1006618325500000018231258...  26172   96.649   877   \n",
       "m140708_165234_00116_c1006618325500000018231258...  27510   96.823   874   \n",
       "m140708_165234_00116_c1006618325500000018231258...  28885   97.012   863   \n",
       "m141113_083301_00116_c1007183025500000018231448...  22339   96.164   857   \n",
       "m141125_074745_00116_c1006763725500000018231440...  15826   94.648   847   \n",
       "m140626_121503_00116_c1006619125500000018231258...  20613   95.915   842   \n",
       "m141204_034525_00116_c1006864125500000018231350...  21992   96.180   840   \n",
       "m141113_041345_00116_c1007183025500000018231448...  23803   96.479   838   \n",
       "\n",
       "                                                    start  \n",
       "m140625_193459_00116_c1006619125500000018231258...  23154  \n",
       "m140626_085306_00116_c1006619125500000018231258...  20066  \n",
       "m141114_015447_00116_c1007183025500000018231448...  37412  \n",
       "m141119_201023_00116_c1006989925500000018231429...  22033  \n",
       "m140626_053156_00116_c1006619125500000018231258...  17108  \n",
       "m140626_053156_00116_c1006619125500000018231258...  22043  \n",
       "m141126_010828_00116_c1006763725500000018231440...  22249  \n",
       "m141126_010828_00116_c1006763725500000018231440...  25077  \n",
       "m140626_185518_00116_c1006619125500000018231258...  21798  \n",
       "m141207_022214_00116_c1006816825500000018231332...  31312  \n",
       "m140708_165234_00116_c1006618325500000018231258...  26610  \n",
       "m140708_165234_00116_c1006618325500000018231258...  25326  \n",
       "m140708_165234_00116_c1006618325500000018231258...  25295  \n",
       "m140708_165234_00116_c1006618325500000018231258...  26636  \n",
       "m140708_165234_00116_c1006618325500000018231258...  28022  \n",
       "m141113_083301_00116_c1007183025500000018231448...  21482  \n",
       "m141125_074745_00116_c1006763725500000018231440...  14979  \n",
       "m140626_121503_00116_c1006619125500000018231258...  19771  \n",
       "m141204_034525_00116_c1006864125500000018231350...  21152  \n",
       "m141113_041345_00116_c1007183025500000018231448...  22965  "
      ]
     },
     "execution_count": 120,
     "metadata": {},
     "output_type": "execute_result"
    }
   ],
   "source": [
    "galGal4_k13_pacbio.sort('span', ascending=False).head(20)"
   ]
  },
  {
   "cell_type": "code",
   "execution_count": 121,
   "metadata": {
    "collapsed": false
   },
   "outputs": [
    {
     "data": {
      "text/plain": [
       "648494710.0"
      ]
     },
     "execution_count": 121,
     "metadata": {},
     "output_type": "execute_result"
    }
   ],
   "source": [
    "bases_mapped = galGal4_k13_pacbio['span'].sum()\n",
    "bases_mapped"
   ]
  },
  {
   "cell_type": "code",
   "execution_count": 122,
   "metadata": {
    "collapsed": false
   },
   "outputs": [
    {
     "data": {
      "text/plain": [
       "0.61942384861389177"
      ]
     },
     "execution_count": 122,
     "metadata": {},
     "output_type": "execute_result"
    }
   ],
   "source": [
    "bases_mapped / bases_in_galGal4"
   ]
  },
  {
   "cell_type": "markdown",
   "metadata": {},
   "source": [
    "## Aligning galGal4 to PacBio graph"
   ]
  },
  {
   "cell_type": "code",
   "execution_count": 123,
   "metadata": {
    "collapsed": false,
    "scrolled": true
   },
   "outputs": [
    {
     "data": {
      "image/png": "[encoded data removed]",
      "text/plain": [
       "<matplotlib.figure.Figure at 0x7f88d4319590>"
      ]
     },
     "metadata": {},
     "output_type": "display_data"
    },
    {
     "data": {
      "image/png": "[encoded data removed]",
      "text/plain": [
       "<matplotlib.figure.Figure at 0x7f88bd028210>"
      ]
     },
     "metadata": {},
     "output_type": "display_data"
    }
   ],
   "source": [
    "pacbio_k13_galGal4 = (check_align('../2015-khmer-wok2-vc/pacbio.k13.align.ref',\n",
    "                                  ranges=[(90, 100, 11), (95, 100, 11)],\n",
    "                                  graph=\"PacBio\",\n",
    "                                  query=\"galGal4\")\n",
    "                       .query('span != 0'))"
   ]
  },
  {
   "cell_type": "code",
   "execution_count": 124,
   "metadata": {
    "collapsed": false
   },
   "outputs": [
    {
     "data": {
      "text/plain": [
       "end        14618\n",
       "percent    14618\n",
       "span       14618\n",
       "start      14618\n",
       "dtype: int64"
      ]
     },
     "execution_count": 124,
     "metadata": {},
     "output_type": "execute_result"
    }
   ],
   "source": [
    "pacbio_k13_galGal4[pacbio_k13_galGal4['percent'] > 90].count()"
   ]
  },
  {
   "cell_type": "code",
   "execution_count": 125,
   "metadata": {
    "collapsed": false
   },
   "outputs": [
    {
     "data": {
      "text/html": [
       "<div style=\"max-height:1000px;max-width:1500px;overflow:auto;\">\n",
       "<table border=\"1\" class=\"dataframe\">\n",
       "  <thead>\n",
       "    <tr style=\"text-align: right;\">\n",
       "      <th></th>\n",
       "      <th>end</th>\n",
       "      <th>percent</th>\n",
       "      <th>span</th>\n",
       "      <th>start</th>\n",
       "    </tr>\n",
       "  </thead>\n",
       "  <tbody>\n",
       "    <tr>\n",
       "      <th>chr1</th>\n",
       "      <td>195276750</td>\n",
       "      <td>99.606</td>\n",
       "      <td>770336</td>\n",
       "      <td>194506414</td>\n",
       "    </tr>\n",
       "    <tr>\n",
       "      <th>chr2</th>\n",
       "      <td>148809762</td>\n",
       "      <td>99.603</td>\n",
       "      <td>590706</td>\n",
       "      <td>148219056</td>\n",
       "    </tr>\n",
       "    <tr>\n",
       "      <th>chr3</th>\n",
       "      <td>110447801</td>\n",
       "      <td>99.602</td>\n",
       "      <td>439895</td>\n",
       "      <td>110007906</td>\n",
       "    </tr>\n",
       "    <tr>\n",
       "      <th>chr4</th>\n",
       "      <td>90216835</td>\n",
       "      <td>99.602</td>\n",
       "      <td>359222</td>\n",
       "      <td>89857613</td>\n",
       "    </tr>\n",
       "    <tr>\n",
       "      <th>chrZ</th>\n",
       "      <td>82363669</td>\n",
       "      <td>99.604</td>\n",
       "      <td>326333</td>\n",
       "      <td>82037336</td>\n",
       "    </tr>\n",
       "    <tr>\n",
       "      <th>chr5</th>\n",
       "      <td>59580361</td>\n",
       "      <td>99.606</td>\n",
       "      <td>234536</td>\n",
       "      <td>59345825</td>\n",
       "    </tr>\n",
       "    <tr>\n",
       "      <th>chr7</th>\n",
       "      <td>36245040</td>\n",
       "      <td>99.605</td>\n",
       "      <td>143111</td>\n",
       "      <td>36101929</td>\n",
       "    </tr>\n",
       "    <tr>\n",
       "      <th>chr6</th>\n",
       "      <td>34951654</td>\n",
       "      <td>99.614</td>\n",
       "      <td>134916</td>\n",
       "      <td>34816738</td>\n",
       "    </tr>\n",
       "    <tr>\n",
       "      <th>chr8</th>\n",
       "      <td>28767244</td>\n",
       "      <td>99.608</td>\n",
       "      <td>112885</td>\n",
       "      <td>28654359</td>\n",
       "    </tr>\n",
       "    <tr>\n",
       "      <th>chr9</th>\n",
       "      <td>23441680</td>\n",
       "      <td>99.612</td>\n",
       "      <td>90992</td>\n",
       "      <td>23350688</td>\n",
       "    </tr>\n",
       "    <tr>\n",
       "      <th>chr10</th>\n",
       "      <td>19911089</td>\n",
       "      <td>99.614</td>\n",
       "      <td>76921</td>\n",
       "      <td>19834168</td>\n",
       "    </tr>\n",
       "    <tr>\n",
       "      <th>chr11</th>\n",
       "      <td>19401079</td>\n",
       "      <td>99.606</td>\n",
       "      <td>76442</td>\n",
       "      <td>19324637</td>\n",
       "    </tr>\n",
       "    <tr>\n",
       "      <th>chr12</th>\n",
       "      <td>19897011</td>\n",
       "      <td>99.619</td>\n",
       "      <td>75857</td>\n",
       "      <td>19821154</td>\n",
       "    </tr>\n",
       "    <tr>\n",
       "      <th>chr13</th>\n",
       "      <td>17760035</td>\n",
       "      <td>99.620</td>\n",
       "      <td>67483</td>\n",
       "      <td>17692552</td>\n",
       "    </tr>\n",
       "    <tr>\n",
       "      <th>chr14</th>\n",
       "      <td>15161805</td>\n",
       "      <td>99.620</td>\n",
       "      <td>57541</td>\n",
       "      <td>15104264</td>\n",
       "    </tr>\n",
       "    <tr>\n",
       "      <th>chr20</th>\n",
       "      <td>14302601</td>\n",
       "      <td>99.626</td>\n",
       "      <td>53475</td>\n",
       "      <td>14249126</td>\n",
       "    </tr>\n",
       "    <tr>\n",
       "      <th>chr15</th>\n",
       "      <td>12656803</td>\n",
       "      <td>99.620</td>\n",
       "      <td>48081</td>\n",
       "      <td>12608722</td>\n",
       "    </tr>\n",
       "    <tr>\n",
       "      <th>chr18</th>\n",
       "      <td>11219875</td>\n",
       "      <td>99.627</td>\n",
       "      <td>41829</td>\n",
       "      <td>11178046</td>\n",
       "    </tr>\n",
       "    <tr>\n",
       "      <th>chr17</th>\n",
       "      <td>10454150</td>\n",
       "      <td>99.624</td>\n",
       "      <td>39267</td>\n",
       "      <td>10414883</td>\n",
       "    </tr>\n",
       "    <tr>\n",
       "      <th>chr19</th>\n",
       "      <td>9983394</td>\n",
       "      <td>99.626</td>\n",
       "      <td>37291</td>\n",
       "      <td>9946103</td>\n",
       "    </tr>\n",
       "  </tbody>\n",
       "</table>\n",
       "</div>"
      ],
      "text/plain": [
       "             end  percent    span      start\n",
       "chr1   195276750   99.606  770336  194506414\n",
       "chr2   148809762   99.603  590706  148219056\n",
       "chr3   110447801   99.602  439895  110007906\n",
       "chr4    90216835   99.602  359222   89857613\n",
       "chrZ    82363669   99.604  326333   82037336\n",
       "chr5    59580361   99.606  234536   59345825\n",
       "chr7    36245040   99.605  143111   36101929\n",
       "chr6    34951654   99.614  134916   34816738\n",
       "chr8    28767244   99.608  112885   28654359\n",
       "chr9    23441680   99.612   90992   23350688\n",
       "chr10   19911089   99.614   76921   19834168\n",
       "chr11   19401079   99.606   76442   19324637\n",
       "chr12   19897011   99.619   75857   19821154\n",
       "chr13   17760035   99.620   67483   17692552\n",
       "chr14   15161805   99.620   57541   15104264\n",
       "chr20   14302601   99.626   53475   14249126\n",
       "chr15   12656803   99.620   48081   12608722\n",
       "chr18   11219875   99.627   41829   11178046\n",
       "chr17   10454150   99.624   39267   10414883\n",
       "chr19    9983394   99.626   37291    9946103"
      ]
     },
     "execution_count": 125,
     "metadata": {},
     "output_type": "execute_result"
    }
   ],
   "source": [
    "pacbio_k13_galGal4.sort('span', ascending=False).head(20)"
   ]
  },
  {
   "cell_type": "code",
   "execution_count": 126,
   "metadata": {
    "collapsed": false
   },
   "outputs": [
    {
     "data": {
      "text/plain": [
       "4159867.0"
      ]
     },
     "execution_count": 126,
     "metadata": {},
     "output_type": "execute_result"
    }
   ],
   "source": [
    "bases_mapped = pacbio_k13_galGal4['span'].sum()\n",
    "bases_mapped"
   ]
  },
  {
   "cell_type": "code",
   "execution_count": 127,
   "metadata": {
    "collapsed": false
   },
   "outputs": [
    {
     "data": {
      "text/plain": [
       "0.0039733875806973419"
      ]
     },
     "execution_count": 127,
     "metadata": {},
     "output_type": "execute_result"
    }
   ],
   "source": [
    "bases_mapped / bases_in_galGal4"
   ]
  },
  {
   "cell_type": "markdown",
   "metadata": {},
   "source": [
    "## Comparing moleculo and PacBio as graphs, galGal4 as query"
   ]
  },
  {
   "cell_type": "code",
   "execution_count": 182,
   "metadata": {
    "collapsed": true
   },
   "outputs": [],
   "source": [
    "top_mol = moleculo_k13.sort('span', ascending=False).head(20)\n",
    "top_pacbio = pacbio_k13_galGal4.sort('span', ascending=False).head(20)"
   ]
  },
  {
   "cell_type": "code",
   "execution_count": 187,
   "metadata": {
    "collapsed": false
   },
   "outputs": [
    {
     "data": {
      "text/html": [
       "<div style=\"max-height:1000px;max-width:1500px;overflow:auto;\">\n",
       "<table border=\"1\" class=\"dataframe\">\n",
       "  <thead>\n",
       "    <tr style=\"text-align: right;\">\n",
       "      <th></th>\n",
       "      <th>span_moleculo</th>\n",
       "      <th>span_pacbio</th>\n",
       "      <th>percent_moleculo</th>\n",
       "      <th>percent_pacbio</th>\n",
       "    </tr>\n",
       "  </thead>\n",
       "  <tbody>\n",
       "    <tr>\n",
       "      <th>chr1</th>\n",
       "      <td>897148</td>\n",
       "      <td>770336</td>\n",
       "      <td>99.541</td>\n",
       "      <td>99.606</td>\n",
       "    </tr>\n",
       "    <tr>\n",
       "      <th>chr2</th>\n",
       "      <td>688344</td>\n",
       "      <td>590706</td>\n",
       "      <td>99.537</td>\n",
       "      <td>99.603</td>\n",
       "    </tr>\n",
       "    <tr>\n",
       "      <th>chr3</th>\n",
       "      <td>512966</td>\n",
       "      <td>439895</td>\n",
       "      <td>99.536</td>\n",
       "      <td>99.602</td>\n",
       "    </tr>\n",
       "    <tr>\n",
       "      <th>chr4</th>\n",
       "      <td>430001</td>\n",
       "      <td>359222</td>\n",
       "      <td>99.523</td>\n",
       "      <td>99.602</td>\n",
       "    </tr>\n",
       "    <tr>\n",
       "      <th>chrZ</th>\n",
       "      <td>436047</td>\n",
       "      <td>326333</td>\n",
       "      <td>99.471</td>\n",
       "      <td>99.604</td>\n",
       "    </tr>\n",
       "    <tr>\n",
       "      <th>chr5</th>\n",
       "      <td>299199</td>\n",
       "      <td>234536</td>\n",
       "      <td>99.498</td>\n",
       "      <td>99.606</td>\n",
       "    </tr>\n",
       "    <tr>\n",
       "      <th>chr7</th>\n",
       "      <td>181615</td>\n",
       "      <td>143111</td>\n",
       "      <td>99.499</td>\n",
       "      <td>99.605</td>\n",
       "    </tr>\n",
       "    <tr>\n",
       "      <th>chr6</th>\n",
       "      <td>173306</td>\n",
       "      <td>134916</td>\n",
       "      <td>99.504</td>\n",
       "      <td>99.614</td>\n",
       "    </tr>\n",
       "    <tr>\n",
       "      <th>chr8</th>\n",
       "      <td>150979</td>\n",
       "      <td>112885</td>\n",
       "      <td>99.475</td>\n",
       "      <td>99.608</td>\n",
       "    </tr>\n",
       "    <tr>\n",
       "      <th>chr9</th>\n",
       "      <td>123908</td>\n",
       "      <td>90992</td>\n",
       "      <td>99.471</td>\n",
       "      <td>99.612</td>\n",
       "    </tr>\n",
       "    <tr>\n",
       "      <th>chr10</th>\n",
       "      <td>111725</td>\n",
       "      <td>76921</td>\n",
       "      <td>99.439</td>\n",
       "      <td>99.614</td>\n",
       "    </tr>\n",
       "    <tr>\n",
       "      <th>chr11</th>\n",
       "      <td>106718</td>\n",
       "      <td>76442</td>\n",
       "      <td>99.450</td>\n",
       "      <td>99.606</td>\n",
       "    </tr>\n",
       "    <tr>\n",
       "      <th>chr12</th>\n",
       "      <td>104012</td>\n",
       "      <td>75857</td>\n",
       "      <td>99.477</td>\n",
       "      <td>99.619</td>\n",
       "    </tr>\n",
       "    <tr>\n",
       "      <th>chr13</th>\n",
       "      <td>99743</td>\n",
       "      <td>67483</td>\n",
       "      <td>99.438</td>\n",
       "      <td>99.620</td>\n",
       "    </tr>\n",
       "    <tr>\n",
       "      <th>chr14</th>\n",
       "      <td>89573</td>\n",
       "      <td>57541</td>\n",
       "      <td>99.409</td>\n",
       "      <td>99.620</td>\n",
       "    </tr>\n",
       "    <tr>\n",
       "      <th>chr20</th>\n",
       "      <td>83367</td>\n",
       "      <td>53475</td>\n",
       "      <td>99.417</td>\n",
       "      <td>99.626</td>\n",
       "    </tr>\n",
       "    <tr>\n",
       "      <th>chr15</th>\n",
       "      <td>75292</td>\n",
       "      <td>48081</td>\n",
       "      <td>99.405</td>\n",
       "      <td>99.620</td>\n",
       "    </tr>\n",
       "    <tr>\n",
       "      <th>chr18</th>\n",
       "      <td>69777</td>\n",
       "      <td>41829</td>\n",
       "      <td>99.378</td>\n",
       "      <td>99.627</td>\n",
       "    </tr>\n",
       "    <tr>\n",
       "      <th>chr17</th>\n",
       "      <td>68158</td>\n",
       "      <td>39267</td>\n",
       "      <td>99.348</td>\n",
       "      <td>99.624</td>\n",
       "    </tr>\n",
       "    <tr>\n",
       "      <th>chr19</th>\n",
       "      <td>64810</td>\n",
       "      <td>37291</td>\n",
       "      <td>99.351</td>\n",
       "      <td>99.626</td>\n",
       "    </tr>\n",
       "  </tbody>\n",
       "</table>\n",
       "</div>"
      ],
      "text/plain": [
       "       span_moleculo  span_pacbio  percent_moleculo  percent_pacbio\n",
       "chr1          897148       770336            99.541          99.606\n",
       "chr2          688344       590706            99.537          99.603\n",
       "chr3          512966       439895            99.536          99.602\n",
       "chr4          430001       359222            99.523          99.602\n",
       "chrZ          436047       326333            99.471          99.604\n",
       "chr5          299199       234536            99.498          99.606\n",
       "chr7          181615       143111            99.499          99.605\n",
       "chr6          173306       134916            99.504          99.614\n",
       "chr8          150979       112885            99.475          99.608\n",
       "chr9          123908        90992            99.471          99.612\n",
       "chr10         111725        76921            99.439          99.614\n",
       "chr11         106718        76442            99.450          99.606\n",
       "chr12         104012        75857            99.477          99.619\n",
       "chr13          99743        67483            99.438          99.620\n",
       "chr14          89573        57541            99.409          99.620\n",
       "chr20          83367        53475            99.417          99.626\n",
       "chr15          75292        48081            99.405          99.620\n",
       "chr18          69777        41829            99.378          99.627\n",
       "chr17          68158        39267            99.348          99.624\n",
       "chr19          64810        37291            99.351          99.626"
      ]
     },
     "execution_count": 187,
     "metadata": {},
     "output_type": "execute_result"
    }
   ],
   "source": [
    "(pd.merge(top_mol, top_pacbio, \n",
    "         left_index=True, right_index=True, \n",
    "         suffixes=('_moleculo', '_pacbio'))\n",
    " [['span_moleculo', 'span_pacbio', 'percent_moleculo', 'percent_pacbio']])"
   ]
  },
  {
   "cell_type": "markdown",
   "metadata": {},
   "source": [
    "# Training"
   ]
  },
  {
   "cell_type": "markdown",
   "metadata": {},
   "source": [
    "- K=21\n",
    " - Reference: galGal4\n",
    " - Query: galGal4.LR6000017-DNA_A01-LRAAA-AllReads.sorted.bam (previously mapped with bwa-mem)"
   ]
  },
  {
   "cell_type": "markdown",
   "metadata": {},
   "source": [
    "## Problems"
   ]
  },
  {
   "cell_type": "markdown",
   "metadata": {},
   "source": [
    "- galGal4 has 'N' and soft-clipped regions. Training script not ready for this in CIGAR:\n",
    "   ```python\n",
    "   >>> cigar_to_state\n",
    "   {0: 'M', 1: 'Ir', 2: 'Ig'}\n",
    "   >>> rec.cigarstring\n",
    "   '251S638M1I16M'\n",
    "   ```\n",
    "   Does it make sense to support other fields, or should I clean up the reference first? (From http://davetang.org/wiki/tiki-index.php?page=SAM )\n",
    "\n",
    "| op | Description                                                    |\n",
    "|----|----------------------------------------------------------------|\n",
    "| M\t | Alignment match (can be a sequence match or mismatch           |\n",
    "| I\t | Insertion to the reference                                     |\n",
    "| D\t | Deletion from the reference                                    |\n",
    "| N\t | Skipped region from the reference                              |\n",
    "| S\t | Soft clip on the read (clipped sequence present in <seq>)      |\n",
    "| H\t | Hard clip on the read (clipped sequence NOT present in <seq>)  |\n",
    "| P\t | Padding (silent deletion from the padded reference sequence)   |"
   ]
  },
  {
   "cell_type": "code",
   "execution_count": null,
   "metadata": {
    "collapsed": true
   },
   "outputs": [],
   "source": []
  }
 ],
 "metadata": {
  "kernelspec": {
   "display_name": "Python 2",
   "language": "python",
   "name": "python2"
  },
  "language_info": {
   "codemirror_mode": {
    "name": "ipython",
    "version": 2
   },
   "file_extension": ".py",
   "mimetype": "text/x-python",
   "name": "python",
   "nbconvert_exporter": "python",
   "pygments_lexer": "ipython2",
   "version": "2.7.10"
  }
 },
 "nbformat": 4,
 "nbformat_minor": 0
}
