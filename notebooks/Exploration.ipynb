{
 "cells": [
  {
   "cell_type": "code",
   "execution_count": 62,
   "metadata": {
    "collapsed": true
   },
   "outputs": [],
   "source": [
    "%matplotlib inline\n",
    "import pandas as pd\n",
    "import numpy as np"
   ]
  },
  {
   "cell_type": "code",
   "execution_count": 38,
   "metadata": {
    "collapsed": false,
    "scrolled": true
   },
   "outputs": [
    {
     "name": "stdout",
     "output_type": "stream",
     "text": [
      "wget -SNc ftp://hgdownload.cse.ucsc.edu/goldenPath/galGal4/bigZips/galGal4.fa.gz\r\n",
      "normalize-by-median.py -C 1 -k 21 -x 7e9 -N 4 -R galGal4.fa.gz.keep.gz.info galGal4.fa.gz\r\n",
      "gzip galGal4.fa.gz.keep\r\n",
      "load-into-counting.py -k 21 -x 7e9 galGal4.dn.k21.kh galGal4.fa.gz.keep.gz\r\n",
      "../2015-experimental-graphalign/find-variant-by-align-long.py galGal4.dn.k21.kh /home/chick/galGal/inputs/moleculo/LR6000017-DNA_A01-LRAAA-1_LongRead.fastq.gz --variants-out variants-galGal4.txt > galGal4.align.out\r\n"
     ]
    }
   ],
   "source": [
    "!cd ../2015-khmer-wok2-vc && make -Bn galGal4.align.out"
   ]
  },
  {
   "cell_type": "code",
   "execution_count": 55,
   "metadata": {
    "collapsed": false
   },
   "outputs": [
    {
     "name": "stdout",
     "output_type": "stream",
     "text": [
      "330M ../2015-khmer-wok2-vc/galGal4.fa.gz\n",
      "298M ../2015-khmer-wok2-vc/galGal4.fa.gz.keep.gz\n",
      "DONE with galGal4.fa.gz; kept 2381 of 15932 or 14%\n",
      "fp rate estimated to be 0.000\n",
      "============================================================\n",
      "27G ../2015-khmer-wok2-vc/galGal4.dn.k21.kh\n",
      "through galGal4.fa.gz.keep.gz\n",
      "fp rate estimated to be 0.000\n",
      "\n"
     ]
    }
   ],
   "source": [
    "!ls -sh ../2015-khmer-wok2-vc/galGal4.fa.gz\n",
    "!ls -sh ../2015-khmer-wok2-vc/galGal4.fa.gz.keep.gz\n",
    "!cat ../2015-khmer-wok2-vc/galGal4.fa.gz.keep.gz.info\n",
    "print \"DONE with galGal4.fa.gz; kept 2381 of 15932 or 14%\"\n",
    "print \"fp rate estimated to be 0.000\"\n",
    "print \"=\" * 60\n",
    "!ls -sh ../2015-khmer-wok2-vc/galGal4.dn.k21.kh\n",
    "!cat ../2015-khmer-wok2-vc/galGal4.dn.k21.kh.info"
   ]
  },
  {
   "cell_type": "code",
   "execution_count": 64,
   "metadata": {
    "collapsed": false
   },
   "outputs": [],
   "source": [
    "reads = {}\n",
    "\n",
    "with open('../2015-khmer-wok2-vc/galGal4.align.out', 'r') as f:\n",
    "    for line in f:\n",
    "        if '%' in line:\n",
    "            name, start, end, span, percent = line.strip().split()\n",
    "            reads[name] = {'start': start, 'end':end, 'span':span, 'percent': float(percent[:-1])}\n",
    "\n",
    "data = pd.DataFrame.from_dict(reads).T"
   ]
  },
  {
   "cell_type": "code",
   "execution_count": 65,
   "metadata": {
    "collapsed": false
   },
   "outputs": [
    {
     "data": {
      "text/plain": [
       "<matplotlib.axes._subplots.AxesSubplot at 0x7f28a76f4c90>"
      ]
     },
     "execution_count": 65,
     "metadata": {},
     "output_type": "execute_result"
    },
    {
     "data": {
      "image/png": "[encoded data removed]",
      "text/plain": [
       "<matplotlib.figure.Figure at 0x7f28a7154410>"
      ]
     },
     "metadata": {},
     "output_type": "display_data"
    }
   ],
   "source": [
    "data['percent'].hist()"
   ]
  },
  {
   "cell_type": "code",
   "execution_count": 66,
   "metadata": {
    "collapsed": false
   },
   "outputs": [
    {
     "data": {
      "text/plain": [
       "<matplotlib.axes._subplots.AxesSubplot at 0x7f28ab63c890>"
      ]
     },
     "execution_count": 66,
     "metadata": {},
     "output_type": "execute_result"
    },
    {
     "data": {
      "image/png": "[encoded data removed]",
      "text/plain": [
       "<matplotlib.figure.Figure at 0x7f28aae53bd0>"
      ]
     },
     "metadata": {},
     "output_type": "display_data"
    }
   ],
   "source": [
    "data['percent'].hist(bins=range(0, 10))"
   ]
  },
  {
   "cell_type": "code",
   "execution_count": 67,
   "metadata": {
    "collapsed": false
   },
   "outputs": [
    {
     "data": {
      "text/plain": [
       "<matplotlib.axes._subplots.AxesSubplot at 0x7f28ace8fa10>"
      ]
     },
     "execution_count": 67,
     "metadata": {},
     "output_type": "execute_result"
    },
    {
     "data": {
      "image/png": "[encoded data removed]",
      "text/plain": [
       "<matplotlib.figure.Figure at 0x7f28a99d6950>"
      ]
     },
     "metadata": {},
     "output_type": "display_data"
    }
   ],
   "source": [
    "data['percent'].hist(bins=np.arange(0, 1, .1))"
   ]
  },
  {
   "cell_type": "markdown",
   "metadata": {},
   "source": [
    "## Training\n",
    "\n",
    " - K=21\n",
    " - Reference: galGal4\n",
    " - Query: galGal4.LR6000017-DNA_A01-LRAAA-AllReads.sorted.bam (previously mapped with bwa-mem)\n",
    "\n",
    "### Problems\n",
    "\n",
    " - galGal4 has 'N' and soft-clipped regions. Training script not ready for this in CIGAR:\n",
    "   ```python\n",
    "   >>> cigar_to_state\n",
    "   {0: 'M', 1: 'Ir', 2: 'Ig'}\n",
    "   >>> rec.cigarstring\n",
    "   '251S638M1I16M'\n",
    "   ```\n",
    "   Does it make sense to support other fields, or should I clean up the reference first? (From http://davetang.org/wiki/tiki-index.php?page=SAM )\n",
    "\n",
    "| op | Description                                                    |\n",
    "|----|----------------------------------------------------------------|\n",
    "| M\t | Alignment match (can be a sequence match or mismatch           |\n",
    "| I\t | Insertion to the reference                                     |\n",
    "| D\t | Deletion from the reference                                    |\n",
    "| N\t | Skipped region from the reference                              |\n",
    "| S\t | Soft clip on the read (clipped sequence present in <seq>)      |\n",
    "| H\t | Hard clip on the read (clipped sequence NOT present in <seq>)  |\n",
    "| P\t | Padding (silent deletion from the padded reference sequence)   |\n",
    "\n"
   ]
  },
  {
   "cell_type": "code",
   "execution_count": null,
   "metadata": {
    "collapsed": true
   },
   "outputs": [],
   "source": []
  }
 ],
 "metadata": {
  "kernelspec": {
   "display_name": "Python 2",
   "language": "python",
   "name": "python2"
  },
  "language_info": {
   "codemirror_mode": {
    "name": "ipython",
    "version": 2
   },
   "file_extension": ".py",
   "mimetype": "text/x-python",
   "name": "python",
   "nbconvert_exporter": "python",
   "pygments_lexer": "ipython2",
   "version": "2.7.6"
  }
 },
 "nbformat": 4,
 "nbformat_minor": 0
}
