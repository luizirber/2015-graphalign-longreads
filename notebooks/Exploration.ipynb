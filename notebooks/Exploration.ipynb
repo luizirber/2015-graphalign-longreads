{
 "cells": [
  {
   "cell_type": "code",
   "execution_count": 1,
   "metadata": {
    "collapsed": true
   },
   "outputs": [],
   "source": [
    "%matplotlib inline\n",
    "import pandas as pd\n",
    "import numpy as np\n",
    "import matplotlib.pyplot as plt\n",
    "import seaborn as sns"
   ]
  },
  {
   "cell_type": "code",
   "execution_count": 2,
   "metadata": {
    "collapsed": true
   },
   "outputs": [],
   "source": [
    "from screed.fastq import fastq_iter\n",
    "import gzip"
   ]
  },
  {
   "cell_type": "markdown",
   "metadata": {},
   "source": [
    "## First try: will it map?\n",
    "\n",
    " - Run `normalize-by-median.py` with cutoff = 1 on the reference\n",
    "   * No need to do this.\n",
    "   * Actually cutoff was the trusted parameter on the aligner...\n",
    " - Load the reference into counting table\n",
    " - Used as much memory I had available on the node I was running it (~28G)\n",
    " - I modified `find-variant-by-align-long.py` to only output the header of each alignment.\n",
    " - The ecoli example load reads into counting table and then maps the reference to it. I started through the same route with PacBio, but it required too much memory (I'll try again on HPCC). From the email I understood I should load the reference and then map the reads, but a part of the reference is discarded during diginorm.\n",
    " - There are many 'N' and soft-clipped sequences in the reference. Is this an issue?\n",
    "   * Yes, it is. Replaced all 'N' with 'A' on a new file, 'galGal4.fixed.fa.gz'"
   ]
  },
  {
   "cell_type": "markdown",
   "metadata": {},
   "source": [
    "### Commands for just loading the reference (no diginorm), replaced 'N' with 'A'"
   ]
  },
  {
   "cell_type": "code",
   "execution_count": 39,
   "metadata": {
    "collapsed": false,
    "scrolled": true
   },
   "outputs": [
    {
     "name": "stdout",
     "output_type": "stream",
     "text": [
      "wget -SNc ftp://hgdownload.cse.ucsc.edu/goldenPath/galGal4/bigZips/galGal4.fa.gz\r\n",
      "python fix_reference.py galGal4.fa.gz galGal4.fixed.fa.gz\r\n",
      "load-into-counting.py -k 21 -x 7e9 galGal4.fixed.k21.kh galGal4.fixed.fa.gz\r\n",
      "../2015-experimental-graphalign/find-variant-by-align-long.py --trusted 1 galGal4.fixed.k21.kh /home/chick/galGal/inputs/moleculo/LR6000017-DNA_A01-LRAAA-1_LongRead.fastq.gz --variants-out variants-galGal4-fixed.txt > galGal4.fixed.align.out\r\n"
     ]
    }
   ],
   "source": [
    "!cd ../2015-khmer-wok2-vc && make -Bn galGal4.fixed.align.out"
   ]
  },
  {
   "cell_type": "code",
   "execution_count": 40,
   "metadata": {
    "collapsed": false
   },
   "outputs": [
    {
     "name": "stdout",
     "output_type": "stream",
     "text": [
      "27G ../2015-khmer-wok2-vc/galGal4.fixed.k21.kh\n",
      "through galGal4.fixed.fa.gz\n",
      "fp rate estimated to be 0.000\n",
      "\n"
     ]
    }
   ],
   "source": [
    "!ls -sh ../2015-khmer-wok2-vc/galGal4.fixed.k21.kh\n",
    "!cat ../2015-khmer-wok2-vc/galGal4.fixed.k21.kh.info"
   ]
  },
  {
   "cell_type": "markdown",
   "metadata": {},
   "source": [
    "### Check alignment quality\n",
    "\n",
    " - It's attrocious. Not really, I was just running it wrong. Using `--trusted 1` alignments are actually very good!"
   ]
  },
  {
   "cell_type": "code",
   "execution_count": 20,
   "metadata": {
    "collapsed": false
   },
   "outputs": [],
   "source": [
    "def check_align(align_out, ranges=[(0, 10), (0, 1, .1)]):\n",
    "    reads = {}\n",
    "\n",
    "    with open(align_out, 'r') as f:\n",
    "        for line in f:\n",
    "            if '%' in line:\n",
    "                name, start, end, span, percent = line.strip().split()\n",
    "                reads[name] = {'start': int(start), 'end': int(end), 'span': int(span), 'percent': float(percent[:-1])}\n",
    "\n",
    "    data = pd.DataFrame.from_dict(reads).T\n",
    "    \n",
    "    plt.figure()\n",
    "    plt.title(\"Almost all the reads on range ({0}-{1}%)\".format(*ranges[0]))\n",
    "    plt.xlabel(\"% of the read aligned to reference\")\n",
    "    plt.ylabel(\"Number of reads\")\n",
    "    data['percent'].hist()\n",
    "    data['percent'].hist(bins=np.arange(*ranges[0]))\n",
    "\n",
    "    plt.figure()\n",
    "    plt.title(\"Actually, on range ({0}-{1}%)\".format(*ranges[1]))\n",
    "    plt.xlabel(\"% of the read aligned to reference\")\n",
    "    plt.ylabel(\"Number of reads\")\n",
    "    data['percent'].hist(bins=np.arange(*ranges[0]))\n",
    "    data['percent'].hist(bins=np.arange(*ranges[1]))\n",
    "    \n",
    "    return data"
   ]
  },
  {
   "cell_type": "code",
   "execution_count": 35,
   "metadata": {
    "collapsed": false
   },
   "outputs": [
    {
     "data": {
      "image/png": "[encoded data removed]",
      "text/plain": [
       "<matplotlib.figure.Figure at 0x2ae0462e4c90>"
      ]
     },
     "metadata": {},
     "output_type": "display_data"
    },
    {
     "data": {
      "image/png": "[encoded data removed]",
      "text/plain": [
       "<matplotlib.figure.Figure at 0x2ae0499cb310>"
      ]
     },
     "metadata": {},
     "output_type": "display_data"
    }
   ],
   "source": [
    "data = check_align('../2015-khmer-wok2-vc/galGal4.fixed.align.out', ranges=[(90, 101), (98, 101, .1)])"
   ]
  },
  {
   "cell_type": "markdown",
   "metadata": {},
   "source": [
    "### Bonus: I broke the readaligner!\n",
    "\n",
    "`find-variant-by-align-long.py` segfaulted, memory consumption slowly but steadily increases (about half the moleculo reads were processed for the previous figures).\n",
    "\n",
    "## Loading reads and aligning the reference to it\n",
    "\n",
    " - Used QP's functions to find the approximate memory needed (after counting unique kmers with HLL).\n",
    "   * Estimated unique kmers: 904.369.109\n",
    "   * Expected error rate: 0.01\n",
    "   * Calculated parameters:\n",
    "     - Number of tables: 6\n",
    "     - Memory per table: 2e9\n",
    " - Tested with `--trusted 5`\n",
    " - There are ~15k contigs in galGal4, more than 10k align >90%\n",
    " - <span style=\"color:red\">Needs attention</span>: I was considering 'percent' for check if it was working, but it means something different than I expected: \"percent matched\" means \"percent of the span matched\", where span doesn't imply start to end of read."
   ]
  },
  {
   "cell_type": "code",
   "execution_count": 22,
   "metadata": {
    "collapsed": false
   },
   "outputs": [
    {
     "name": "stdout",
     "output_type": "stream",
     "text": [
      "load-into-counting.py -k 21 -N 6 -x 2e9 moleculo.k21.kh /mnt/research/ged/irberlui/biodata/galGal/inputs/moleculo/LR6000017-DNA_A01-LRAAA-1_LongRead_500_1499nt.fastq.gz /mnt/research/ged/irberlui/biodata/galGal/inputs/moleculo/LR6000017-DNA_A01-LRAAA-1_LongRead.fastq.gz /mnt/research/ged/irberlui/biodata/galGal/inputs/moleculo/LR6000017-DNA_A01-LRAAA-2_LongRead_500_1499nt.fastq.gz /mnt/research/ged/irberlui/biodata/galGal/inputs/moleculo/LR6000017-DNA_A01-LRAAA-2_LongRead.fastq.gz /mnt/research/ged/irberlui/biodata/galGal/inputs/moleculo/LR6000017-DNA_A01-LRAAA-3_LongRead_500_1499nt.fastq.gz /mnt/research/ged/irberlui/biodata/galGal/inputs/moleculo/LR6000017-DNA_A01-LRAAA-3_LongRead.fastq.gz /mnt/research/ged/irberlui/biodata/galGal/inputs/moleculo/LR6000017-DNA_A01-LRAAA-4_LongRead_500_1499nt.fastq.gz /mnt/research/ged/irberlui/biodata/galGal/inputs/moleculo/LR6000017-DNA_A01-LRAAA-4_LongRead.fastq.gz /mnt/research/ged/irberlui/biodata/galGal/inputs/moleculo/LR6000017-DNA_A01-LRAAA-5_LongRead_500_1499nt.fastq.gz /mnt/research/ged/irberlui/biodata/galGal/inputs/moleculo/LR6000017-DNA_A01-LRAAA-5_LongRead.fastq.gz\r\n",
      "wget -SNc ftp://hgdownload.cse.ucsc.edu/goldenPath/galGal4/bigZips/galGal4.fa.gz\r\n",
      "python fix_reference.py galGal4.fa.gz galGal4.fixed.fa.gz\r\n",
      "../2015-experimental-graphalign/find-variant-by-align-long.py --trusted 5 moleculo.k21.kh galGal4.fixed.fa.gz --variants-out variants-galGal4-fixed.txt > moleculo.align.out\r\n"
     ]
    }
   ],
   "source": [
    "!cd ../2015-khmer-wok2-vc && make -Bn moleculo.align.out"
   ]
  },
  {
   "cell_type": "code",
   "execution_count": 38,
   "metadata": {
    "collapsed": false
   },
   "outputs": [
    {
     "name": "stdout",
     "output_type": "stream",
     "text": [
      "7.7G ../2015-khmer-wok2-vc/moleculo.k21.kh\n",
      "through /mnt/research/ged/irberlui/biodata/galGal/inputs/moleculo/LR6000017-DNA_A01-LRAAA-1_LongRead_500_1499nt.fastq.gz\n",
      "through /mnt/research/ged/irberlui/biodata/galGal/inputs/moleculo/LR6000017-DNA_A01-LRAAA-1_LongRead.fastq.gz\n",
      "through /mnt/research/ged/irberlui/biodata/galGal/inputs/moleculo/LR6000017-DNA_A01-LRAAA-2_LongRead_500_1499nt.fastq.gz\n",
      "through /mnt/research/ged/irberlui/biodata/galGal/inputs/moleculo/LR6000017-DNA_A01-LRAAA-2_LongRead.fastq.gz\n",
      "through /mnt/research/ged/irberlui/biodata/galGal/inputs/moleculo/LR6000017-DNA_A01-LRAAA-3_LongRead_500_1499nt.fastq.gz\n",
      "through /mnt/research/ged/irberlui/biodata/galGal/inputs/moleculo/LR6000017-DNA_A01-LRAAA-3_LongRead.fastq.gz\n",
      "through /mnt/research/ged/irberlui/biodata/galGal/inputs/moleculo/LR6000017-DNA_A01-LRAAA-4_LongRead_500_1499nt.fastq.gz\n",
      "through /mnt/research/ged/irberlui/biodata/galGal/inputs/moleculo/LR6000017-DNA_A01-LRAAA-4_LongRead.fastq.gz\n",
      "through /mnt/research/ged/irberlui/biodata/galGal/inputs/moleculo/LR6000017-DNA_A01-LRAAA-5_LongRead_500_1499nt.fastq.gz\n",
      "through /mnt/research/ged/irberlui/biodata/galGal/inputs/moleculo/LR6000017-DNA_A01-LRAAA-5_LongRead.fastq.gz\n",
      "fp rate estimated to be 0.002\n",
      "\n"
     ]
    }
   ],
   "source": [
    "!ls -sh ../2015-khmer-wok2-vc/moleculo.k21.kh\n",
    "!cat ../2015-khmer-wok2-vc/moleculo.k21.kh.info"
   ]
  },
  {
   "cell_type": "code",
   "execution_count": 40,
   "metadata": {
    "collapsed": false
   },
   "outputs": [
    {
     "data": {
      "image/png": "[encoded data removed]",
      "text/plain": [
       "<matplotlib.figure.Figure at 0x2ae034036290>"
      ]
     },
     "metadata": {},
     "output_type": "display_data"
    },
    {
     "data": {
      "image/png": "[encoded data removed]",
      "text/plain": [
       "<matplotlib.figure.Figure at 0x2ae046473d50>"
      ]
     },
     "metadata": {},
     "output_type": "display_data"
    }
   ],
   "source": [
    "data = check_align('../2015-khmer-wok2-vc/moleculo.align.out', ranges=[(90, 101), (98, 100.1, .1)])"
   ]
  },
  {
   "cell_type": "code",
   "execution_count": 41,
   "metadata": {
    "collapsed": false
   },
   "outputs": [
    {
     "data": {
      "text/plain": [
       "end        10604\n",
       "percent    10604\n",
       "span       10604\n",
       "start      10604\n",
       "dtype: int64"
      ]
     },
     "execution_count": 41,
     "metadata": {},
     "output_type": "execute_result"
    }
   ],
   "source": [
    "data[data['percent'] > 90].count()"
   ]
  },
  {
   "cell_type": "code",
   "execution_count": 43,
   "metadata": {
    "collapsed": false
   },
   "outputs": [
    {
     "data": {
      "text/html": [
       "<div style=\"max-height:1000px;max-width:1500px;overflow:auto;\">\n",
       "<table border=\"1\" class=\"dataframe\">\n",
       "  <thead>\n",
       "    <tr style=\"text-align: right;\">\n",
       "      <th></th>\n",
       "      <th>end</th>\n",
       "      <th>percent</th>\n",
       "      <th>span</th>\n",
       "      <th>start</th>\n",
       "    </tr>\n",
       "  </thead>\n",
       "  <tbody>\n",
       "    <tr>\n",
       "      <th>chr1</th>\n",
       "      <td>195284953</td>\n",
       "      <td>86.874</td>\n",
       "      <td>25632877</td>\n",
       "      <td>169652076</td>\n",
       "    </tr>\n",
       "    <tr>\n",
       "      <th>chrZ</th>\n",
       "      <td>82367875</td>\n",
       "      <td>71.042</td>\n",
       "      <td>23851812</td>\n",
       "      <td>58516063</td>\n",
       "    </tr>\n",
       "    <tr>\n",
       "      <th>chr2</th>\n",
       "      <td>148816091</td>\n",
       "      <td>87.133</td>\n",
       "      <td>19147781</td>\n",
       "      <td>129668310</td>\n",
       "    </tr>\n",
       "    <tr>\n",
       "      <th>chr3</th>\n",
       "      <td>110451292</td>\n",
       "      <td>86.989</td>\n",
       "      <td>14370922</td>\n",
       "      <td>96080370</td>\n",
       "    </tr>\n",
       "    <tr>\n",
       "      <th>chr4</th>\n",
       "      <td>90219931</td>\n",
       "      <td>85.835</td>\n",
       "      <td>12779290</td>\n",
       "      <td>77440641</td>\n",
       "    </tr>\n",
       "    <tr>\n",
       "      <th>chr5</th>\n",
       "      <td>59582583</td>\n",
       "      <td>84.961</td>\n",
       "      <td>8960409</td>\n",
       "      <td>50622174</td>\n",
       "    </tr>\n",
       "    <tr>\n",
       "      <th>chr7</th>\n",
       "      <td>36246061</td>\n",
       "      <td>85.985</td>\n",
       "      <td>5079957</td>\n",
       "      <td>31166104</td>\n",
       "    </tr>\n",
       "    <tr>\n",
       "      <th>chr6</th>\n",
       "      <td>34952711</td>\n",
       "      <td>85.929</td>\n",
       "      <td>4918052</td>\n",
       "      <td>30034659</td>\n",
       "    </tr>\n",
       "    <tr>\n",
       "      <th>chr8</th>\n",
       "      <td>28768056</td>\n",
       "      <td>84.042</td>\n",
       "      <td>4590887</td>\n",
       "      <td>24177169</td>\n",
       "    </tr>\n",
       "    <tr>\n",
       "      <th>chr9</th>\n",
       "      <td>23442432</td>\n",
       "      <td>84.404</td>\n",
       "      <td>3656106</td>\n",
       "      <td>19786326</td>\n",
       "    </tr>\n",
       "    <tr>\n",
       "      <th>chr10</th>\n",
       "      <td>19912165</td>\n",
       "      <td>82.053</td>\n",
       "      <td>3573583</td>\n",
       "      <td>16338582</td>\n",
       "    </tr>\n",
       "    <tr>\n",
       "      <th>chr11</th>\n",
       "      <td>19402455</td>\n",
       "      <td>82.188</td>\n",
       "      <td>3455996</td>\n",
       "      <td>15946459</td>\n",
       "    </tr>\n",
       "    <tr>\n",
       "      <th>chr13</th>\n",
       "      <td>17760811</td>\n",
       "      <td>81.326</td>\n",
       "      <td>3316614</td>\n",
       "      <td>14444197</td>\n",
       "    </tr>\n",
       "    <tr>\n",
       "      <th>chr14</th>\n",
       "      <td>15162549</td>\n",
       "      <td>79.019</td>\n",
       "      <td>3181194</td>\n",
       "      <td>11981355</td>\n",
       "    </tr>\n",
       "    <tr>\n",
       "      <th>chr12</th>\n",
       "      <td>19897565</td>\n",
       "      <td>84.658</td>\n",
       "      <td>3052697</td>\n",
       "      <td>16844868</td>\n",
       "    </tr>\n",
       "    <tr>\n",
       "      <th>chr20</th>\n",
       "      <td>14303030</td>\n",
       "      <td>78.838</td>\n",
       "      <td>3026739</td>\n",
       "      <td>11276291</td>\n",
       "    </tr>\n",
       "    <tr>\n",
       "      <th>chr17</th>\n",
       "      <td>10454679</td>\n",
       "      <td>74.222</td>\n",
       "      <td>2695017</td>\n",
       "      <td>7759662</td>\n",
       "    </tr>\n",
       "    <tr>\n",
       "      <th>chr15</th>\n",
       "      <td>12657176</td>\n",
       "      <td>79.200</td>\n",
       "      <td>2632710</td>\n",
       "      <td>10024466</td>\n",
       "    </tr>\n",
       "    <tr>\n",
       "      <th>chr18</th>\n",
       "      <td>11220127</td>\n",
       "      <td>77.564</td>\n",
       "      <td>2517331</td>\n",
       "      <td>8702796</td>\n",
       "    </tr>\n",
       "    <tr>\n",
       "      <th>chr19</th>\n",
       "      <td>9983666</td>\n",
       "      <td>76.920</td>\n",
       "      <td>2304249</td>\n",
       "      <td>7679417</td>\n",
       "    </tr>\n",
       "  </tbody>\n",
       "</table>\n",
       "</div>"
      ],
      "text/plain": [
       "             end  percent      span      start\n",
       "chr1   195284953   86.874  25632877  169652076\n",
       "chrZ    82367875   71.042  23851812   58516063\n",
       "chr2   148816091   87.133  19147781  129668310\n",
       "chr3   110451292   86.989  14370922   96080370\n",
       "chr4    90219931   85.835  12779290   77440641\n",
       "chr5    59582583   84.961   8960409   50622174\n",
       "chr7    36246061   85.985   5079957   31166104\n",
       "chr6    34952711   85.929   4918052   30034659\n",
       "chr8    28768056   84.042   4590887   24177169\n",
       "chr9    23442432   84.404   3656106   19786326\n",
       "chr10   19912165   82.053   3573583   16338582\n",
       "chr11   19402455   82.188   3455996   15946459\n",
       "chr13   17760811   81.326   3316614   14444197\n",
       "chr14   15162549   79.019   3181194   11981355\n",
       "chr12   19897565   84.658   3052697   16844868\n",
       "chr20   14303030   78.838   3026739   11276291\n",
       "chr17   10454679   74.222   2695017    7759662\n",
       "chr15   12657176   79.200   2632710   10024466\n",
       "chr18   11220127   77.564   2517331    8702796\n",
       "chr19    9983666   76.920   2304249    7679417"
      ]
     },
     "execution_count": 43,
     "metadata": {},
     "output_type": "execute_result"
    }
   ],
   "source": [
    "data.sort('span', ascending=False).head(20)"
   ]
  },
  {
   "cell_type": "markdown",
   "metadata": {},
   "source": [
    "## Training\n",
    "\n",
    " - K=21\n",
    " - Reference: galGal4\n",
    " - Query: galGal4.LR6000017-DNA_A01-LRAAA-AllReads.sorted.bam (previously mapped with bwa-mem)\n",
    "\n",
    "### Problems\n",
    "\n",
    " - galGal4 has 'N' and soft-clipped regions. Training script not ready for this in CIGAR:\n",
    "   ```python\n",
    "   >>> cigar_to_state\n",
    "   {0: 'M', 1: 'Ir', 2: 'Ig'}\n",
    "   >>> rec.cigarstring\n",
    "   '251S638M1I16M'\n",
    "   ```\n",
    "   Does it make sense to support other fields, or should I clean up the reference first? (From http://davetang.org/wiki/tiki-index.php?page=SAM )\n",
    "\n",
    "| op | Description                                                    |\n",
    "|----|----------------------------------------------------------------|\n",
    "| M\t | Alignment match (can be a sequence match or mismatch           |\n",
    "| I\t | Insertion to the reference                                     |\n",
    "| D\t | Deletion from the reference                                    |\n",
    "| N\t | Skipped region from the reference                              |\n",
    "| S\t | Soft clip on the read (clipped sequence present in <seq>)      |\n",
    "| H\t | Hard clip on the read (clipped sequence NOT present in <seq>)  |\n",
    "| P\t | Padding (silent deletion from the padded reference sequence)   |\n",
    "\n"
   ]
  },
  {
   "cell_type": "code",
   "execution_count": null,
   "metadata": {
    "collapsed": true
   },
   "outputs": [],
   "source": []
  }
 ],
 "metadata": {
  "kernelspec": {
   "display_name": "Python 2",
   "language": "python",
   "name": "python2"
  },
  "language_info": {
   "codemirror_mode": {
    "name": "ipython",
    "version": 2
   },
   "file_extension": ".py",
   "mimetype": "text/x-python",
   "name": "python",
   "nbconvert_exporter": "python",
   "pygments_lexer": "ipython2",
   "version": "2.7.9"
  }
 },
 "nbformat": 4,
 "nbformat_minor": 0
}
