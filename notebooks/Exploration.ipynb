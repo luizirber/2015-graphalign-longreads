{
 "cells": [
  {
   "cell_type": "code",
   "execution_count": 1,
   "metadata": {
    "collapsed": true
   },
   "outputs": [],
   "source": [
    "%matplotlib inline\n",
    "import pandas as pd\n",
    "import numpy as np\n",
    "import matplotlib.pyplot as plt\n",
    "import seaborn as sns"
   ]
  },
  {
   "cell_type": "code",
   "execution_count": 15,
   "metadata": {
    "collapsed": true
   },
   "outputs": [],
   "source": [
    "from screed.fastq import fastq_iter\n",
    "import gzip"
   ]
  },
  {
   "cell_type": "markdown",
   "metadata": {},
   "source": [
    "## First try: will it map?\n",
    "\n",
    " - Run `normalize-by-median.py` with cutoff = 1 on the reference\n",
    "   * No need to do this.\n",
    "   * Actually cutoff was the trusted parameter on the aligner...\n",
    " - Load the reference into counting table\n",
    " - Used as much memory I had available on the node I was running it (~28G)\n",
    " - I modified `find-variant-by-align-long.py` to only output the header of each alignment.\n",
    " - The ecoli example load reads into counting table and then maps the reference to it. I started through the same route with PacBio, but it required too much memory (I'll try again on HPCC). From the email I understood I should load the reference and then map the reads, but a part of the reference is discarded during diginorm.\n",
    " - There are many 'N' and soft-clipped sequences in the reference. Is this an issue?\n",
    "   * Yes, it is. Replaced all 'N' with 'A' on a new file, 'galGal4.fixed.fa.gz'"
   ]
  },
  {
   "cell_type": "markdown",
   "metadata": {},
   "source": [
    "### Commands for just loading the reference (no diginorm), replaced 'N' with 'A'"
   ]
  },
  {
   "cell_type": "code",
   "execution_count": 39,
   "metadata": {
    "collapsed": false,
    "scrolled": true
   },
   "outputs": [
    {
     "name": "stdout",
     "output_type": "stream",
     "text": [
      "wget -SNc ftp://hgdownload.cse.ucsc.edu/goldenPath/galGal4/bigZips/galGal4.fa.gz\r\n",
      "python fix_reference.py galGal4.fa.gz galGal4.fixed.fa.gz\r\n",
      "load-into-counting.py -k 21 -x 7e9 galGal4.fixed.k21.kh galGal4.fixed.fa.gz\r\n",
      "../2015-experimental-graphalign/find-variant-by-align-long.py --trusted 1 galGal4.fixed.k21.kh /home/chick/galGal/inputs/moleculo/LR6000017-DNA_A01-LRAAA-1_LongRead.fastq.gz --variants-out variants-galGal4-fixed.txt > galGal4.fixed.align.out\r\n"
     ]
    }
   ],
   "source": [
    "!cd ../2015-khmer-wok2-vc && make -Bn galGal4.fixed.align.out"
   ]
  },
  {
   "cell_type": "code",
   "execution_count": 40,
   "metadata": {
    "collapsed": false
   },
   "outputs": [
    {
     "name": "stdout",
     "output_type": "stream",
     "text": [
      "27G ../2015-khmer-wok2-vc/galGal4.fixed.k21.kh\n",
      "through galGal4.fixed.fa.gz\n",
      "fp rate estimated to be 0.000\n",
      "\n"
     ]
    }
   ],
   "source": [
    "!ls -sh ../2015-khmer-wok2-vc/galGal4.fixed.k21.kh\n",
    "!cat ../2015-khmer-wok2-vc/galGal4.fixed.k21.kh.info"
   ]
  },
  {
   "cell_type": "markdown",
   "metadata": {},
   "source": [
    "### Check alignment quality\n",
    "\n",
    " - It's attrocious. Not really, I was just running it wrong. Using `--trusted 1` alignments are actually very good!"
   ]
  },
  {
   "cell_type": "code",
   "execution_count": 42,
   "metadata": {
    "collapsed": false
   },
   "outputs": [],
   "source": [
    "def check_align(align_out, ranges=[(0, 10), (0, 1, .1)]):\n",
    "    reads = {}\n",
    "\n",
    "    with open(align_out, 'r') as f:\n",
    "        for line in f:\n",
    "            if '%' in line:\n",
    "                name, start, end, span, percent = line.strip().split()\n",
    "                reads[name] = {'start': start, 'end':end, 'span':span, 'percent': float(percent[:-1])}\n",
    "\n",
    "    data = pd.DataFrame.from_dict(reads).T\n",
    "    \n",
    "    plt.figure()\n",
    "    plt.title(\"Almost all the reads on range ({0}-{1}%)\".format(*ranges[0]))\n",
    "    plt.xlabel(\"% of the read aligned to reference\")\n",
    "    plt.ylabel(\"Number of reads\")\n",
    "    data['percent'].hist()\n",
    "    data['percent'].hist(bins=np.arange(*ranges[0]))\n",
    "\n",
    "    plt.figure()\n",
    "    plt.title(\"Actually, on range ({0}-{1}%)\".format(*ranges[1]))\n",
    "    plt.xlabel(\"% of the read aligned to reference\")\n",
    "    plt.ylabel(\"Number of reads\")\n",
    "    data['percent'].hist(bins=np.arange(*ranges[0]))\n",
    "    data['percent'].hist(bins=np.arange(*ranges[1]))\n",
    "    \n",
    "    return data"
   ]
  },
  {
   "cell_type": "code",
   "execution_count": 49,
   "metadata": {
    "collapsed": false
   },
   "outputs": [
    {
     "data": {
      "image/png": "[encoded data removed]",
      "text/plain": [
       "<matplotlib.figure.Figure at 0x7f3a584f78d0>"
      ]
     },
     "metadata": {},
     "output_type": "display_data"
    },
    {
     "data": {
      "image/png": "[encoded data removed]",
      "text/plain": [
       "<matplotlib.figure.Figure at 0x7f3a59d12710>"
      ]
     },
     "metadata": {},
     "output_type": "display_data"
    }
   ],
   "source": [
    "data = check_align('../2015-khmer-wok2-vc/galGal4.fixed.align.out', ranges=[(98, 100), (98, 100, .1)])"
   ]
  },
  {
   "cell_type": "markdown",
   "metadata": {},
   "source": [
    "### Bonus: I broke the readaligner!\n",
    "\n",
    "`find-variant-by-align-long.py` segfaulted, memory consumption slowly but steadily increases (about half the moleculo reads were processed for the previous figures)."
   ]
  },
  {
   "cell_type": "markdown",
   "metadata": {},
   "source": [
    "## Training\n",
    "\n",
    " - K=21\n",
    " - Reference: galGal4\n",
    " - Query: galGal4.LR6000017-DNA_A01-LRAAA-AllReads.sorted.bam (previously mapped with bwa-mem)\n",
    "\n",
    "### Problems\n",
    "\n",
    " - galGal4 has 'N' and soft-clipped regions. Training script not ready for this in CIGAR:\n",
    "   ```python\n",
    "   >>> cigar_to_state\n",
    "   {0: 'M', 1: 'Ir', 2: 'Ig'}\n",
    "   >>> rec.cigarstring\n",
    "   '251S638M1I16M'\n",
    "   ```\n",
    "   Does it make sense to support other fields, or should I clean up the reference first? (From http://davetang.org/wiki/tiki-index.php?page=SAM )\n",
    "\n",
    "| op | Description                                                    |\n",
    "|----|----------------------------------------------------------------|\n",
    "| M\t | Alignment match (can be a sequence match or mismatch           |\n",
    "| I\t | Insertion to the reference                                     |\n",
    "| D\t | Deletion from the reference                                    |\n",
    "| N\t | Skipped region from the reference                              |\n",
    "| S\t | Soft clip on the read (clipped sequence present in <seq>)      |\n",
    "| H\t | Hard clip on the read (clipped sequence NOT present in <seq>)  |\n",
    "| P\t | Padding (silent deletion from the padded reference sequence)   |\n",
    "\n"
   ]
  },
  {
   "cell_type": "code",
   "execution_count": null,
   "metadata": {
    "collapsed": true
   },
   "outputs": [],
   "source": []
  }
 ],
 "metadata": {
  "kernelspec": {
   "display_name": "Python 2",
   "language": "python",
   "name": "python2"
  },
  "language_info": {
   "codemirror_mode": {
    "name": "ipython",
    "version": 2
   },
   "file_extension": ".py",
   "mimetype": "text/x-python",
   "name": "python",
   "nbconvert_exporter": "python",
   "pygments_lexer": "ipython2",
   "version": "2.7.6"
  }
 },
 "nbformat": 4,
 "nbformat_minor": 0
}
